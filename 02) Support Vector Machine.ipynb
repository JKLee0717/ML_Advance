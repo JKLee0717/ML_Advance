{
 "cells": [
  {
   "cell_type": "markdown",
   "metadata": {},
   "source": [
    "Lab01\n",
    "====="
   ]
  },
  {
   "cell_type": "markdown",
   "metadata": {},
   "source": [
    "###  Context\n",
    "#### Support Vector Machine\n",
    "   + Support Vector Machine Classifier\n",
    "   + Support Vector Machine Regressor\n",
    "   + One-Class Support Vector Machine\n",
    "   + Cross Validation"
   ]
  },
  {
   "cell_type": "markdown",
   "metadata": {},
   "source": [
    "## Support Vector Machine\n",
    "Support Vector Machine(SVM, 서포트 벡터 머신)는 주어진 데이터 집합을 바탕으로하여 두 카테고리(이진 분류의 경우) 사이의 간격(Margin, 마진)을 최대화하는 데이터 포인트(Support Vector, 서포트 벡터)를 찾아내고, 그 서포트 벡터에 수직인 경계를 통해 데이터를 분류하는 알고리즘입니다.<br><br>\n",
    "<img src=\"./Images/SVM.png\" alt=\"Support Vector machine\" style=\"height: 400px\"/>\n",
    "\n",
    "### 왜 마진을 최대화 할까요?\n",
    "서포트 벡터 머신에서 나오는 마진은 물건을 판매할때 마진이 20%다 라고 말하는 그 마진이 맞습니다. 경계면과의 마진을 최대화 하는 것이 왜 분류를 잘하게 할까요? \n",
    "\n",
    "#### 경험적 위험 최소화(Empirical risk minimization, ERM)\n",
    "경험적 위험 최소화란, 주어진 훈련 데이터에 대해 오차를 최소화 하는 방식을 말합니다. <br>\n",
    "비용 함수를 정의하고, 해당 비용 함수를 최소화하도록 모델을 학습시키는 방식을 뜻합니다.<br>\n",
    "하지만, 주어진 훈련 데이터에 대해 오차를 최소화하다보니 관측하지 못한 데이터에 대해서는 좋은 성능을 내지 못한다는 단점이 있습니다.<br> Ex) Neural Network, Decision Tree \n",
    "#### 구조적 위험 최소화(Structural risk minimization, SRM)\n",
    "구조적 위험 최소화란, 오차 최소화를 일반화하여 관측되지 않은 데이터에 대해서도 오차를 최소화 할 수 있는 방식입니다.<br>\n",
    "서포트 벡터 머신은 서로 다른 클래스 사이에서 간격을 최대화 하는 경계를 구성하여 구조적으로 위험을 최소화하는 모델입니다.<br><br>\n",
    "$$어떤\\ 분류\\ 모델이\\ 더\\ 좋을까요??$$\n",
    "<img src=\"./Images/ERM_SRM.png\" alt=\"ERM_SRMe\" style=\"height: 280px\"/>\n",
    "\n",
    "\n",
    "### 그렇다면 마진이 최대인 경계를 구성하는 서포트 벡터를 어떻게 구할까요?\n",
    "다음 수식을 통해 서포트 벡터를 구하고, 경계를 결정할 수 있습니다.<br>\n",
    "\n",
    "일단 첫 번째 수식을 살펴보면, 내부의 min term은 가장 가까운 n번째 데이터 포인트(서포트 벡터)를 의미합니다. 그리고 외부의 max term은 간격(Margin)을 최대화하는 W, b를 의미합니다.<br>\n",
    "$$ max \\big( {{1\\over||w||}min_n[t_n(w^T\\phi(X_n)+b)]  } \\big) $$<br>\n",
    "일단 간격을 최대화하는 W에 대해서는 분수를 뒤집고 제곱한 값의 min을 구하는 것과 동일한 식이 됩니다. <br>\n",
    "마지막식에서 생겨난 1/2은 미분했을 때 계수를 1로 만들어 식을 깔끔하게 정리하기 위해 임의로 추가한 계수입니다.<br>\n",
    "$$ max{1\\over||w||} \\rightarrow min{||w||} \\rightarrow min{1\\over2}||w||^2 $$<br>\n",
    "이제 전체 문제를 해결하는 식을 살펴보겠습니다. 전체 문제는 간격을 최대화하며, 경계면과 가장 가까운 서포트 벡터를 찾는 최적화 문제가 됩니다. <br>\n",
    "해당 문제는 그냥 해결하기 어렵기 때문에 라그랑주 승수를 사용해 최적화합니다. 라그랑주 승수는 문제에 제약조건을 부여해 최적화 문제를 쉽게 해결할 수 있도록 합니다.<br>\n",
    "**물론 쉽다는 말이 일반 사용자에게 쉽다는 의미는 아닙니다.**<br><br>\n",
    "\n",
    "**Primal 수식**\n",
    "$$ L_P = min\\big({1\\over2}||w||^2 - \\sum^N_{n=1}a_n\\big\\{{t_n{(w^T\\phi(X_n)+b)-1}\\big\\}}\\big)$$\n",
    "\n",
    "**제약조건**\n",
    "$$ w = \\sum^N_{n=1}{a_n t_n\\phi(X_n)}$$\n",
    "$$ 0 = \\sum^N_{n=1}{a_n t_n}$$\n",
    "\n",
    "슬슬 수식이 복잡해지기 시작했습니다. 해당 수식은 다음과 같이 변경될 수 있습니다.<br>\n",
    "\n",
    "**Dual 수식**\n",
    "$$\\widetilde{L}_D = max{\\big(\\sum^N_{n=1}{a_n} - {1\\over2}\\sum^N_{n=1}\\sum^N_{m=1}{a_na_mt_nt_mk(X_n,X_m)}}\\big)$$\n",
    "\n",
    "**제약조건**\n",
    "$$ a_n \\geq 0\\ \\ \\ \\ \\ \\  n=1,...,N,$$\n",
    "$$ \\sum^N_{n=1}{a_nt_n} = 0 $$\n",
    "\n",
    "마지막 수식을 풀면 우리가 원하는 경계면을 구할 수 있습니다.<br>\n",
    "수식이 정말 복잡하죠? 해당 수식이 이해가지 않으시거나 풀지 못하시더라도 상관없습니다. SVM의 정확한 컨셉만 이해하시고 넘어가셔도 충분합니다.\n",
    "\n",
    "### Cost : Soft or Hard\n",
    "SVM에는 Soft Margin, Hard Margin 이라는 말이 있습니다. 단어 자체에서도 유추할 수 있으시겠지만, Soft Margin은 유연한 경계면을 만들어내고 Hard Margin은 분명하게 나누는 경계면을 만들어냅니다. 그렇다면 왜 Soft Margin이 필요한걸까요?\n",
    "<img src = \"./Images/Softmargin.png\" alt=\"Softmargin\"/>\n",
    "다음과 같은 데이터 분포는 직선으로 두개의 데이터를 나누는 경계면을 만들기 어렵습니다. 현실에서도 우리가 최적의 답을 찾지 못할때 어느정도 비용(Cost, C)을 감수하면서 적절한 답을 찾는 것을 떠올려보세요.<br>\n",
    "Soft Margin은 그런 원리입니다. 경계면을 조금씩 넘어가는 데이터들(비용, Cost)을 감수하면서 가장 차선의 경계면을 찾습니다.<br>\n",
    "실제 알고리즘에서도 C(Cost)값을 통해 얼마나 비용을 감수할 것인지를 결정할 수 있습니다. 크면 클수록 Hard Margin을, 작으면 작을수록 Soft Margin을 만들어냅니다. <br>\n",
    "\n",
    "\n",
    "### 저차원을 고차원으로 Kernel Trick\n",
    "SVM은 기본적으로 선형 분류를 위한 경계면을 만들어냅니다. 그렇다면 어떻게 비선형 분류를 할 수 있을까요?<br>\n",
    "<img src = \"./Images/Hyperplane.png\" alt=\"hyper\"/>\n",
    "저차원(2차원)에서는 선형 분리가 되지 않을 수 있지만, 고차원(3차원)에서는 선형 분리가 가능할 수 있습니다.<br>\n",
    "이러한 원리를 바탕으로 선형 분리가 불가능한 저차원 데이터를 선형 분리가 가능한 어떤 고차원으로 보내 선형 분리를 할 수 있습니다.<br>\n",
    "하지만, 저차원 데이터를 고차원으로 보내서 서포트 벡터를 구하고 저차원으로 내리는 과정에서 더 복잡해지고 연산량도 많아질것이 분명합니다. <br>\n",
    "그래서 여기에서 Kernel Trick이라는 Mapping 함수를 사용합니다. Kernel Trick은 고차원 Mapping과 고차원에서의 내적 연산을 한번에 할 수 있는 방법입니다. <br>\n",
    "이를 통해 여러가지 Kernel 함수를 통해 저차원에서 해결하지 못한 선형 분리를 고차원에서 해결할 수 있습니다.<br>\n",
    "\n",
    "대표적인 Kernel 함수\n",
    "- Linear (선형 함수)\n",
    "- Poly   (다항식 함수)\n",
    "- RBF    (방사기저 함수)\n",
    "- Hyper-Tangent (쌍곡선 탄젠트 함수)\n",
    "\n",
    "## SVM Regression\n",
    "SVM 분류 모델에서 t<sub>n</sub>는 정답 레이블인 카테고리를 나타내는 변수입니다. <br>\n",
    "SVM 분류 모델과 동일한 원리로 정답 레이블을 연속적인 변수로 바꿔주면 Support Vector Machine Regressor(SVR) 회귀 모델이 됩니다.\n",
    "\n",
    "## One-Class SVM \n",
    "SVM 분류 모델이나, 회귀 모델에서 정답 레이블의 클래스는 2개 이상입니다. 기본적으로 이진 분류의 경우 2개이고, 다중 분류인 경우 클래스 개수 만큼입니다.<br>\n",
    "회귀의 경우에는 정답 레이블에 연속적인 변수가 들어가므로 많은 수의 레이블이 존재합니다. <br>\n",
    "이번에는 정답 레이블의 수가 1개이고, 이상치를 탐지하는 모델인 One-Class SVM을 배워보겠습니다.\n",
    "\n",
    "### 이상치 탐지\n",
    "이상치 탐지라는 용어를 지난 데이터 분석 기초 수업의 AutoEncoder 실습에서 소개해드렸었습니다.<br>\n",
    "AutoEncoder는 입력과 동일한 출력이 나와야하는데, 그렇지 않은 경우 입력 데이터가 정상 데이터가 아니라는 원리를 이용해 이상치를 탐지했었습니다.<br>\n",
    "서포트 벡터를 사용해, Margin을 최대화 하는 SVM으로 이상치를 해볼 수 있을까요?\n",
    "\n",
    "### One-Class 분류\n",
    "One-Class 분류를 이진 분류와 함께 비교하면 살펴보겠습니다. 이진 분류와 One-Class 분류는 형태가 비슷합니다.<br>\n",
    "왼쪽의 그림은 이진 분류의 그림이고, 오른쪽의 그림은 One-Class 분류의 그림입니다. <br>\n",
    "One-Class 이상치 탐지는 정상이 아닌 것들을 모두 비정상이라고 생각하고, 정상 데이터의 경계면을 벗어난 데이터는 모두 이상치라고 판단하는 것이 기본 원리입니다.\n",
    "![binary_vs_novelty](./Images/Binary_vs_Novelty_1.png)\n",
    "#### Generalization vs Specialization \n",
    "이진 분류의 경우 소수의 데이터일지라도 경계면의 확장을 저지하는 힘이 존재하는데, One-Class 분류의 경우 그렇지 않습니다.<br>\n",
    "그래서 모델의 일반화와 특정화(상세화 라고도 합니다.)에 주의를 기울일 필요가 있습니다.\n",
    "![binary_vs_novelty_2](./Images/Binary_vs_Novelty_2.png)\n",
    "\n",
    "### SVM 기반의 One-Class 이상치 탐지는 어떻게 할까요\n",
    "뭔가 자기만의 경계를 만들어내는 One-Class 분류에서 SVM의 향기가 나고있습니다. \n",
    "\n",
    "$$ 1-class\\ SVM\\ (1-SVM)\\ \\ \\ \\ \\ \\ \\ \\ \\ \\ \\ \\ \\ \\ \\ \\ \\ \\ \\ \\ \\ \\ Support\\ vector\\ domain\\ (data)\\ description\\ (SVDD)$$ \n",
    "![svm_based_novelty](./Images/SVM_Based_Novelty.png)\n",
    "<br><br>\n",
    "SVM 기반의 One-Class 방법은 One-Class SVM과 SVDD 두 가지 방법이 있습니다. <br>\n",
    "어려워 보이는 수식이 있지만 개념만 이해하시면 됩니다. 기본 원리는 SVM의 원리를 따르고, 차이점에 대해 간단히 설명해드리겠습니다. <br>\n",
    "One-Class SVM 이상치의 비율 v 값을 조절하여 경계를 만들어내는 방식이고, SVDD의 경우 중심 점 a와 반지름 R로 이루어진 원으로 경계를 만들어내는 방식입니다.\n",
    "<br>\n",
    "One-Class SVM의 파라미터별 차이를 나타낸 그림입니다.\n",
    "![oneclass_SVM](./Images/oneclass_SVM.png)\n",
    "\n",
    "## Cross Validation\n",
    "교차 검증이라고 하는 Cross Validation은 모델을 실제로 사용하기 이전에 훈련 데이터에 대해 성능 평가하는 방법을 말합니다.<br>\n",
    "Cross Validation의 목표는 학습하지 않은 데이터에 대해 좋은 결과를 낼 수 있는 모델을 선별하고 검증하기 위함입니다.<br><br>\n",
    "\n",
    "일반적으로 k-fold Cross Validation이라고 합니다. k개로 훈련 데이터를 쪼개어 k-1개를 학습시키고, <br> \n",
    "1개를 검증하는 방식으로 k개의 평가 결과를 평균내어 모델의 평가 지표(CV Score)로 사용합니다.<br>\n",
    "각 알고리즘마다 모델 평가 방식이 다르므로 모델에 따라 정확도, R<sup>2</sup> 등으로 CV Score를 얻을 수 있습니다.\n",
    "\n",
    "#### 주의\n",
    "반드시 학습용 데이터에 대해서만 검증하셔야 합니다. 훈련 데이터가 아닌 검증 데이터를 Cross Validation에 사용해 모델을 학습시킨 뒤<br>\n",
    "검증 데이터 정확도가 높게 나왔다고 하시는 경우가 종종 있습니다.\n",
    "![kfold](./Images/kfold.png)"
   ]
  },
  {
   "cell_type": "code",
   "execution_count": 1,
   "metadata": {},
   "outputs": [],
   "source": [
    "import warnings\n",
    "warnings.filterwarnings(\"ignore\")\n",
    "\n",
    "import os\n",
    "from os.path import join\n",
    "\n",
    "import pandas as pd\n",
    "import numpy as np\n",
    "\n",
    "from sklearn.svm import SVC\n",
    "from sklearn.svm import SVR\n",
    "from sklearn.svm import OneClassSVM\n",
    "from sklearn.decomposition import PCA\n",
    "from sklearn.model_selection import train_test_split\n",
    "\n",
    "from sklearn.model_selection import KFold \n",
    "from sklearn.model_selection import cross_val_score\n",
    "\n",
    "import matplotlib.pyplot as plt\n",
    "\n",
    "datapath = join('data','wine')\n",
    "\n",
    "columns = list()\n",
    "with open(join(datapath, 'wine_attributes.txt') ,'r') as f:\n",
    "    columns = f.read().split('\\n')\n",
    "    "
   ]
  },
  {
   "cell_type": "markdown",
   "metadata": {},
   "source": [
    "## 1. 데이터 살펴보기\n",
    "이번 장에서 우리가 사용할 데이터는 178개의 행과 14개의 열로 이루어진 와인 데이터 입니다. <br>\n",
    "와인 데이터가 가진 컬럼에 대해 간단히 살펴 보겠습니다.<br>\n",
    "와인 데이터는 13개의 컬럼을 가지고 있으며, 3개의 등급으로 나누어진 데이터셋 입니다.<br>\n",
    "해당 데이터셋은 등급 컬럼을 이용해 분류에 사용할 수도 있고, 클러스터링, 회귀, 차원축소 등 여러가지 머신러닝 기법에 사용될 수 있습니다.<br><br>\n",
    "### Feature Description \n",
    "1. Alcohol : 알콜 도수.\n",
    "2. Malic acid : 와인 특유의 신맛을 나타내는 성분.\n",
    "3. Ash : 영양학에서, 음식물 속에 들어 있는 무기물 또는 그것의 전체 분량에 대한 비율을 이르는 말.\n",
    "4. Alcalinity of ash : 무기물의 염기성 정도.\n",
    "5. Magnesium : 마그네슘 함량.\n",
    "6. Total phenols : 와인에 들어있는 페놀의 전체 양.\n",
    "7. Flavonoids :  레드 와인의 페놀 성분 중 최대 90% 비율을 나타내는 폴리 페놀 성분들 플라보노이드 라고 한다. 떫은 맛을 내는 탄닌이 플라보노이드에 속한다.\n",
    "8. Nonflavanoid phenols : 90% 성분을 제외한 10%의 페놀 성분들.\n",
    "9. Proanthocyanins : 심장혈관 질환의 발병률을 낮추는데 도움을 주는 성분.\n",
    "10. Color intensity\t: 색의 진한 정도.\n",
    "11. Hue : 와인을 잔에 따라 흔들었을 때 와인과 글라스의 경계 부분의 색깔이 다른 정도. Edge 라고도 한다.\n",
    "12. OD280/OD315 of diluted wines\n",
    "13. Proline : 와인의 아미노산 성분 중 가장 많은 양을 차지함."
   ]
  },
  {
   "cell_type": "code",
   "execution_count": 2,
   "metadata": {},
   "outputs": [],
   "source": [
    "data = pd.read_csv(join(datapath, 'wine.txt') , names = columns)"
   ]
  },
  {
   "cell_type": "markdown",
   "metadata": {},
   "source": [
    "DataFrame.head() 함수로 처음 5개의 데이터를 살펴볼 수 있습니다."
   ]
  },
  {
   "cell_type": "code",
   "execution_count": 3,
   "metadata": {
    "scrolled": false
   },
   "outputs": [
    {
     "data": {
      "text/html": [
       "<div>\n",
       "<style scoped>\n",
       "    .dataframe tbody tr th:only-of-type {\n",
       "        vertical-align: middle;\n",
       "    }\n",
       "\n",
       "    .dataframe tbody tr th {\n",
       "        vertical-align: top;\n",
       "    }\n",
       "\n",
       "    .dataframe thead th {\n",
       "        text-align: right;\n",
       "    }\n",
       "</style>\n",
       "<table border=\"1\" class=\"dataframe\">\n",
       "  <thead>\n",
       "    <tr style=\"text-align: right;\">\n",
       "      <th></th>\n",
       "      <th>Class</th>\n",
       "      <th>Alcohol</th>\n",
       "      <th>Malic acid</th>\n",
       "      <th>Ash</th>\n",
       "      <th>Alcalinity of ash</th>\n",
       "      <th>Magnesium</th>\n",
       "      <th>Total phenols</th>\n",
       "      <th>Flavanoids</th>\n",
       "      <th>Nonflavanoid phenols</th>\n",
       "      <th>Proanthocyanins</th>\n",
       "      <th>Color intensity</th>\n",
       "      <th>Hue</th>\n",
       "      <th>OD280/OD315 of diluted wines</th>\n",
       "      <th>Proline</th>\n",
       "    </tr>\n",
       "  </thead>\n",
       "  <tbody>\n",
       "    <tr>\n",
       "      <th>0</th>\n",
       "      <td>1</td>\n",
       "      <td>14.23</td>\n",
       "      <td>1.71</td>\n",
       "      <td>2.43</td>\n",
       "      <td>15.6</td>\n",
       "      <td>127</td>\n",
       "      <td>2.80</td>\n",
       "      <td>3.06</td>\n",
       "      <td>0.28</td>\n",
       "      <td>2.29</td>\n",
       "      <td>5.64</td>\n",
       "      <td>1.04</td>\n",
       "      <td>3.92</td>\n",
       "      <td>1065</td>\n",
       "    </tr>\n",
       "    <tr>\n",
       "      <th>1</th>\n",
       "      <td>1</td>\n",
       "      <td>13.20</td>\n",
       "      <td>1.78</td>\n",
       "      <td>2.14</td>\n",
       "      <td>11.2</td>\n",
       "      <td>100</td>\n",
       "      <td>2.65</td>\n",
       "      <td>2.76</td>\n",
       "      <td>0.26</td>\n",
       "      <td>1.28</td>\n",
       "      <td>4.38</td>\n",
       "      <td>1.05</td>\n",
       "      <td>3.40</td>\n",
       "      <td>1050</td>\n",
       "    </tr>\n",
       "    <tr>\n",
       "      <th>2</th>\n",
       "      <td>1</td>\n",
       "      <td>13.16</td>\n",
       "      <td>2.36</td>\n",
       "      <td>2.67</td>\n",
       "      <td>18.6</td>\n",
       "      <td>101</td>\n",
       "      <td>2.80</td>\n",
       "      <td>3.24</td>\n",
       "      <td>0.30</td>\n",
       "      <td>2.81</td>\n",
       "      <td>5.68</td>\n",
       "      <td>1.03</td>\n",
       "      <td>3.17</td>\n",
       "      <td>1185</td>\n",
       "    </tr>\n",
       "    <tr>\n",
       "      <th>3</th>\n",
       "      <td>1</td>\n",
       "      <td>14.37</td>\n",
       "      <td>1.95</td>\n",
       "      <td>2.50</td>\n",
       "      <td>16.8</td>\n",
       "      <td>113</td>\n",
       "      <td>3.85</td>\n",
       "      <td>3.49</td>\n",
       "      <td>0.24</td>\n",
       "      <td>2.18</td>\n",
       "      <td>7.80</td>\n",
       "      <td>0.86</td>\n",
       "      <td>3.45</td>\n",
       "      <td>1480</td>\n",
       "    </tr>\n",
       "    <tr>\n",
       "      <th>4</th>\n",
       "      <td>1</td>\n",
       "      <td>13.24</td>\n",
       "      <td>2.59</td>\n",
       "      <td>2.87</td>\n",
       "      <td>21.0</td>\n",
       "      <td>118</td>\n",
       "      <td>2.80</td>\n",
       "      <td>2.69</td>\n",
       "      <td>0.39</td>\n",
       "      <td>1.82</td>\n",
       "      <td>4.32</td>\n",
       "      <td>1.04</td>\n",
       "      <td>2.93</td>\n",
       "      <td>735</td>\n",
       "    </tr>\n",
       "  </tbody>\n",
       "</table>\n",
       "</div>"
      ],
      "text/plain": [
       "   Class  Alcohol  Malic acid   Ash  Alcalinity of ash  Magnesium  \\\n",
       "0      1    14.23        1.71  2.43               15.6        127   \n",
       "1      1    13.20        1.78  2.14               11.2        100   \n",
       "2      1    13.16        2.36  2.67               18.6        101   \n",
       "3      1    14.37        1.95  2.50               16.8        113   \n",
       "4      1    13.24        2.59  2.87               21.0        118   \n",
       "\n",
       "   Total phenols  Flavanoids  Nonflavanoid phenols  Proanthocyanins  \\\n",
       "0           2.80        3.06                  0.28             2.29   \n",
       "1           2.65        2.76                  0.26             1.28   \n",
       "2           2.80        3.24                  0.30             2.81   \n",
       "3           3.85        3.49                  0.24             2.18   \n",
       "4           2.80        2.69                  0.39             1.82   \n",
       "\n",
       "   Color intensity   Hue  OD280/OD315 of diluted wines  Proline  \n",
       "0             5.64  1.04                          3.92     1065  \n",
       "1             4.38  1.05                          3.40     1050  \n",
       "2             5.68  1.03                          3.17     1185  \n",
       "3             7.80  0.86                          3.45     1480  \n",
       "4             4.32  1.04                          2.93      735  "
      ]
     },
     "execution_count": 3,
     "metadata": {},
     "output_type": "execute_result"
    }
   ],
   "source": [
    "data.head()"
   ]
  },
  {
   "cell_type": "markdown",
   "metadata": {},
   "source": [
    "클래스는 1,2,3 세 등급이 있습니다.<br>\n",
    "pandas의 DataFrame은 특정 컬럼에 대해 논리 조건으로 행과 열을 추출할 수 있습니다.<br>\n",
    "DataFrame.loc[논리조건] 을 이용해 와인 데이터를 모델에 입력으로 사용할 데이터 부분과 라벨부분으로 나누겠습니다.<br>"
   ]
  },
  {
   "cell_type": "code",
   "execution_count": 4,
   "metadata": {},
   "outputs": [],
   "source": [
    "# x = data.loc[:(모든 행에 대해),'Alcohol':'Proline'(Alcohol 컬럼부터 Proline 컬럼까지))]\n",
    "x = data.loc[:, 'Alcohol':'Proline']\n",
    "y = data['Class']"
   ]
  },
  {
   "cell_type": "code",
   "execution_count": 5,
   "metadata": {
    "scrolled": false
   },
   "outputs": [
    {
     "data": {
      "text/html": [
       "<div>\n",
       "<style scoped>\n",
       "    .dataframe tbody tr th:only-of-type {\n",
       "        vertical-align: middle;\n",
       "    }\n",
       "\n",
       "    .dataframe tbody tr th {\n",
       "        vertical-align: top;\n",
       "    }\n",
       "\n",
       "    .dataframe thead th {\n",
       "        text-align: right;\n",
       "    }\n",
       "</style>\n",
       "<table border=\"1\" class=\"dataframe\">\n",
       "  <thead>\n",
       "    <tr style=\"text-align: right;\">\n",
       "      <th></th>\n",
       "      <th>Alcohol</th>\n",
       "      <th>Malic acid</th>\n",
       "      <th>Ash</th>\n",
       "      <th>Alcalinity of ash</th>\n",
       "      <th>Magnesium</th>\n",
       "      <th>Total phenols</th>\n",
       "      <th>Flavanoids</th>\n",
       "      <th>Nonflavanoid phenols</th>\n",
       "      <th>Proanthocyanins</th>\n",
       "      <th>Color intensity</th>\n",
       "      <th>Hue</th>\n",
       "      <th>OD280/OD315 of diluted wines</th>\n",
       "      <th>Proline</th>\n",
       "    </tr>\n",
       "  </thead>\n",
       "  <tbody>\n",
       "    <tr>\n",
       "      <th>0</th>\n",
       "      <td>14.23</td>\n",
       "      <td>1.71</td>\n",
       "      <td>2.43</td>\n",
       "      <td>15.6</td>\n",
       "      <td>127</td>\n",
       "      <td>2.80</td>\n",
       "      <td>3.06</td>\n",
       "      <td>0.28</td>\n",
       "      <td>2.29</td>\n",
       "      <td>5.64</td>\n",
       "      <td>1.04</td>\n",
       "      <td>3.92</td>\n",
       "      <td>1065</td>\n",
       "    </tr>\n",
       "    <tr>\n",
       "      <th>1</th>\n",
       "      <td>13.20</td>\n",
       "      <td>1.78</td>\n",
       "      <td>2.14</td>\n",
       "      <td>11.2</td>\n",
       "      <td>100</td>\n",
       "      <td>2.65</td>\n",
       "      <td>2.76</td>\n",
       "      <td>0.26</td>\n",
       "      <td>1.28</td>\n",
       "      <td>4.38</td>\n",
       "      <td>1.05</td>\n",
       "      <td>3.40</td>\n",
       "      <td>1050</td>\n",
       "    </tr>\n",
       "    <tr>\n",
       "      <th>2</th>\n",
       "      <td>13.16</td>\n",
       "      <td>2.36</td>\n",
       "      <td>2.67</td>\n",
       "      <td>18.6</td>\n",
       "      <td>101</td>\n",
       "      <td>2.80</td>\n",
       "      <td>3.24</td>\n",
       "      <td>0.30</td>\n",
       "      <td>2.81</td>\n",
       "      <td>5.68</td>\n",
       "      <td>1.03</td>\n",
       "      <td>3.17</td>\n",
       "      <td>1185</td>\n",
       "    </tr>\n",
       "    <tr>\n",
       "      <th>3</th>\n",
       "      <td>14.37</td>\n",
       "      <td>1.95</td>\n",
       "      <td>2.50</td>\n",
       "      <td>16.8</td>\n",
       "      <td>113</td>\n",
       "      <td>3.85</td>\n",
       "      <td>3.49</td>\n",
       "      <td>0.24</td>\n",
       "      <td>2.18</td>\n",
       "      <td>7.80</td>\n",
       "      <td>0.86</td>\n",
       "      <td>3.45</td>\n",
       "      <td>1480</td>\n",
       "    </tr>\n",
       "    <tr>\n",
       "      <th>4</th>\n",
       "      <td>13.24</td>\n",
       "      <td>2.59</td>\n",
       "      <td>2.87</td>\n",
       "      <td>21.0</td>\n",
       "      <td>118</td>\n",
       "      <td>2.80</td>\n",
       "      <td>2.69</td>\n",
       "      <td>0.39</td>\n",
       "      <td>1.82</td>\n",
       "      <td>4.32</td>\n",
       "      <td>1.04</td>\n",
       "      <td>2.93</td>\n",
       "      <td>735</td>\n",
       "    </tr>\n",
       "  </tbody>\n",
       "</table>\n",
       "</div>"
      ],
      "text/plain": [
       "   Alcohol  Malic acid   Ash  Alcalinity of ash  Magnesium  Total phenols  \\\n",
       "0    14.23        1.71  2.43               15.6        127           2.80   \n",
       "1    13.20        1.78  2.14               11.2        100           2.65   \n",
       "2    13.16        2.36  2.67               18.6        101           2.80   \n",
       "3    14.37        1.95  2.50               16.8        113           3.85   \n",
       "4    13.24        2.59  2.87               21.0        118           2.80   \n",
       "\n",
       "   Flavanoids  Nonflavanoid phenols  Proanthocyanins  Color intensity   Hue  \\\n",
       "0        3.06                  0.28             2.29             5.64  1.04   \n",
       "1        2.76                  0.26             1.28             4.38  1.05   \n",
       "2        3.24                  0.30             2.81             5.68  1.03   \n",
       "3        3.49                  0.24             2.18             7.80  0.86   \n",
       "4        2.69                  0.39             1.82             4.32  1.04   \n",
       "\n",
       "   OD280/OD315 of diluted wines  Proline  \n",
       "0                          3.92     1065  \n",
       "1                          3.40     1050  \n",
       "2                          3.17     1185  \n",
       "3                          3.45     1480  \n",
       "4                          2.93      735  "
      ]
     },
     "execution_count": 5,
     "metadata": {},
     "output_type": "execute_result"
    }
   ],
   "source": [
    "x.head()"
   ]
  },
  {
   "cell_type": "code",
   "execution_count": 6,
   "metadata": {
    "scrolled": true
   },
   "outputs": [
    {
     "data": {
      "text/html": [
       "<div>\n",
       "<style scoped>\n",
       "    .dataframe tbody tr th:only-of-type {\n",
       "        vertical-align: middle;\n",
       "    }\n",
       "\n",
       "    .dataframe tbody tr th {\n",
       "        vertical-align: top;\n",
       "    }\n",
       "\n",
       "    .dataframe thead th {\n",
       "        text-align: right;\n",
       "    }\n",
       "</style>\n",
       "<table border=\"1\" class=\"dataframe\">\n",
       "  <thead>\n",
       "    <tr style=\"text-align: right;\">\n",
       "      <th></th>\n",
       "      <th>Class</th>\n",
       "      <th>Alcohol</th>\n",
       "      <th>Malic acid</th>\n",
       "      <th>Ash</th>\n",
       "      <th>Alcalinity of ash</th>\n",
       "      <th>Magnesium</th>\n",
       "      <th>Total phenols</th>\n",
       "      <th>Flavanoids</th>\n",
       "      <th>Nonflavanoid phenols</th>\n",
       "      <th>Proanthocyanins</th>\n",
       "      <th>Color intensity</th>\n",
       "      <th>Hue</th>\n",
       "      <th>OD280/OD315 of diluted wines</th>\n",
       "      <th>Proline</th>\n",
       "    </tr>\n",
       "  </thead>\n",
       "  <tbody>\n",
       "    <tr>\n",
       "      <th>count</th>\n",
       "      <td>178.000000</td>\n",
       "      <td>178.000000</td>\n",
       "      <td>178.000000</td>\n",
       "      <td>178.000000</td>\n",
       "      <td>178.000000</td>\n",
       "      <td>178.000000</td>\n",
       "      <td>178.000000</td>\n",
       "      <td>178.000000</td>\n",
       "      <td>178.000000</td>\n",
       "      <td>178.000000</td>\n",
       "      <td>178.000000</td>\n",
       "      <td>178.000000</td>\n",
       "      <td>178.000000</td>\n",
       "      <td>178.000000</td>\n",
       "    </tr>\n",
       "    <tr>\n",
       "      <th>mean</th>\n",
       "      <td>1.938202</td>\n",
       "      <td>13.000618</td>\n",
       "      <td>2.336348</td>\n",
       "      <td>2.366517</td>\n",
       "      <td>19.494944</td>\n",
       "      <td>99.741573</td>\n",
       "      <td>2.295112</td>\n",
       "      <td>2.029270</td>\n",
       "      <td>0.361854</td>\n",
       "      <td>1.590899</td>\n",
       "      <td>5.058090</td>\n",
       "      <td>0.957449</td>\n",
       "      <td>2.611685</td>\n",
       "      <td>746.893258</td>\n",
       "    </tr>\n",
       "    <tr>\n",
       "      <th>std</th>\n",
       "      <td>0.775035</td>\n",
       "      <td>0.811827</td>\n",
       "      <td>1.117146</td>\n",
       "      <td>0.274344</td>\n",
       "      <td>3.339564</td>\n",
       "      <td>14.282484</td>\n",
       "      <td>0.625851</td>\n",
       "      <td>0.998859</td>\n",
       "      <td>0.124453</td>\n",
       "      <td>0.572359</td>\n",
       "      <td>2.318286</td>\n",
       "      <td>0.228572</td>\n",
       "      <td>0.709990</td>\n",
       "      <td>314.907474</td>\n",
       "    </tr>\n",
       "    <tr>\n",
       "      <th>min</th>\n",
       "      <td>1.000000</td>\n",
       "      <td>11.030000</td>\n",
       "      <td>0.740000</td>\n",
       "      <td>1.360000</td>\n",
       "      <td>10.600000</td>\n",
       "      <td>70.000000</td>\n",
       "      <td>0.980000</td>\n",
       "      <td>0.340000</td>\n",
       "      <td>0.130000</td>\n",
       "      <td>0.410000</td>\n",
       "      <td>1.280000</td>\n",
       "      <td>0.480000</td>\n",
       "      <td>1.270000</td>\n",
       "      <td>278.000000</td>\n",
       "    </tr>\n",
       "    <tr>\n",
       "      <th>25%</th>\n",
       "      <td>1.000000</td>\n",
       "      <td>12.362500</td>\n",
       "      <td>1.602500</td>\n",
       "      <td>2.210000</td>\n",
       "      <td>17.200000</td>\n",
       "      <td>88.000000</td>\n",
       "      <td>1.742500</td>\n",
       "      <td>1.205000</td>\n",
       "      <td>0.270000</td>\n",
       "      <td>1.250000</td>\n",
       "      <td>3.220000</td>\n",
       "      <td>0.782500</td>\n",
       "      <td>1.937500</td>\n",
       "      <td>500.500000</td>\n",
       "    </tr>\n",
       "    <tr>\n",
       "      <th>50%</th>\n",
       "      <td>2.000000</td>\n",
       "      <td>13.050000</td>\n",
       "      <td>1.865000</td>\n",
       "      <td>2.360000</td>\n",
       "      <td>19.500000</td>\n",
       "      <td>98.000000</td>\n",
       "      <td>2.355000</td>\n",
       "      <td>2.135000</td>\n",
       "      <td>0.340000</td>\n",
       "      <td>1.555000</td>\n",
       "      <td>4.690000</td>\n",
       "      <td>0.965000</td>\n",
       "      <td>2.780000</td>\n",
       "      <td>673.500000</td>\n",
       "    </tr>\n",
       "    <tr>\n",
       "      <th>75%</th>\n",
       "      <td>3.000000</td>\n",
       "      <td>13.677500</td>\n",
       "      <td>3.082500</td>\n",
       "      <td>2.557500</td>\n",
       "      <td>21.500000</td>\n",
       "      <td>107.000000</td>\n",
       "      <td>2.800000</td>\n",
       "      <td>2.875000</td>\n",
       "      <td>0.437500</td>\n",
       "      <td>1.950000</td>\n",
       "      <td>6.200000</td>\n",
       "      <td>1.120000</td>\n",
       "      <td>3.170000</td>\n",
       "      <td>985.000000</td>\n",
       "    </tr>\n",
       "    <tr>\n",
       "      <th>max</th>\n",
       "      <td>3.000000</td>\n",
       "      <td>14.830000</td>\n",
       "      <td>5.800000</td>\n",
       "      <td>3.230000</td>\n",
       "      <td>30.000000</td>\n",
       "      <td>162.000000</td>\n",
       "      <td>3.880000</td>\n",
       "      <td>5.080000</td>\n",
       "      <td>0.660000</td>\n",
       "      <td>3.580000</td>\n",
       "      <td>13.000000</td>\n",
       "      <td>1.710000</td>\n",
       "      <td>4.000000</td>\n",
       "      <td>1680.000000</td>\n",
       "    </tr>\n",
       "  </tbody>\n",
       "</table>\n",
       "</div>"
      ],
      "text/plain": [
       "            Class     Alcohol  Malic acid         Ash  Alcalinity of ash  \\\n",
       "count  178.000000  178.000000  178.000000  178.000000         178.000000   \n",
       "mean     1.938202   13.000618    2.336348    2.366517          19.494944   \n",
       "std      0.775035    0.811827    1.117146    0.274344           3.339564   \n",
       "min      1.000000   11.030000    0.740000    1.360000          10.600000   \n",
       "25%      1.000000   12.362500    1.602500    2.210000          17.200000   \n",
       "50%      2.000000   13.050000    1.865000    2.360000          19.500000   \n",
       "75%      3.000000   13.677500    3.082500    2.557500          21.500000   \n",
       "max      3.000000   14.830000    5.800000    3.230000          30.000000   \n",
       "\n",
       "        Magnesium  Total phenols  Flavanoids  Nonflavanoid phenols  \\\n",
       "count  178.000000     178.000000  178.000000            178.000000   \n",
       "mean    99.741573       2.295112    2.029270              0.361854   \n",
       "std     14.282484       0.625851    0.998859              0.124453   \n",
       "min     70.000000       0.980000    0.340000              0.130000   \n",
       "25%     88.000000       1.742500    1.205000              0.270000   \n",
       "50%     98.000000       2.355000    2.135000              0.340000   \n",
       "75%    107.000000       2.800000    2.875000              0.437500   \n",
       "max    162.000000       3.880000    5.080000              0.660000   \n",
       "\n",
       "       Proanthocyanins  Color intensity         Hue  \\\n",
       "count       178.000000       178.000000  178.000000   \n",
       "mean          1.590899         5.058090    0.957449   \n",
       "std           0.572359         2.318286    0.228572   \n",
       "min           0.410000         1.280000    0.480000   \n",
       "25%           1.250000         3.220000    0.782500   \n",
       "50%           1.555000         4.690000    0.965000   \n",
       "75%           1.950000         6.200000    1.120000   \n",
       "max           3.580000        13.000000    1.710000   \n",
       "\n",
       "       OD280/OD315 of diluted wines      Proline  \n",
       "count                    178.000000   178.000000  \n",
       "mean                       2.611685   746.893258  \n",
       "std                        0.709990   314.907474  \n",
       "min                        1.270000   278.000000  \n",
       "25%                        1.937500   500.500000  \n",
       "50%                        2.780000   673.500000  \n",
       "75%                        3.170000   985.000000  \n",
       "max                        4.000000  1680.000000  "
      ]
     },
     "execution_count": 6,
     "metadata": {},
     "output_type": "execute_result"
    }
   ],
   "source": [
    "data.describe()"
   ]
  },
  {
   "cell_type": "markdown",
   "metadata": {},
   "source": [
    "## 2. 간단한 전처리와 준비\n",
    "wine 데이터는 13개의 컬럼을 가지고 있고, 하나의 데이터(행)는 13개의 차원으로 이루어진 벡터라고 볼 수 있습니다. \n",
    "13차원은 우리 눈으로 볼 수 있도록 표현하기 어려우므로 PCA를 통해 2차원으로 낮추어 시각화할 수 있도록 하겠습니다.\n",
    "또한, 각 변수들의 값의 범위를 min-max 정규화를 통해 조정해주겠습니다."
   ]
  },
  {
   "cell_type": "code",
   "execution_count": 7,
   "metadata": {},
   "outputs": [],
   "source": [
    "for dim in x.columns:\n",
    "        x[dim] -= np.min(x[dim])\n",
    "        x[dim] /= np.max(x[dim])"
   ]
  },
  {
   "cell_type": "code",
   "execution_count": 8,
   "metadata": {},
   "outputs": [],
   "source": [
    "# 주성분을 2개 추출하는 pca 모델 정의\n",
    "pca = PCA(n_components=2)\n",
    "\n",
    "# 데이터를 넣음과 동시에 주성분 2개를 추출\n",
    "x = pca.fit_transform(x)"
   ]
  },
  {
   "cell_type": "markdown",
   "metadata": {},
   "source": [
    "정상적으로 2개 주성분이 추출되었는지 확인해보겠습니다."
   ]
  },
  {
   "cell_type": "code",
   "execution_count": 9,
   "metadata": {},
   "outputs": [
    {
     "name": "stdout",
     "output_type": "stream",
     "text": [
      "[[-0.70633576 -0.25319275]\n",
      " [-0.4849768  -0.00882289]\n",
      " [-0.52117227 -0.18918722]\n",
      " [-0.82164366 -0.58090551]\n",
      " [-0.20254638 -0.05946657]]\n"
     ]
    }
   ],
   "source": [
    "# 5개 데이터 확인\n",
    "print(x[:5])\n",
    "\n",
    "\n",
    "# x 데이터가 numpy array 이므로 y 데이터도 numpy array로 통일 시킵니다.\n",
    "y = np.array(y)"
   ]
  },
  {
   "cell_type": "markdown",
   "metadata": {},
   "source": [
    "데이터를 훈련 데이터와, 검증 데이터로 분리합니다."
   ]
  },
  {
   "cell_type": "code",
   "execution_count": 10,
   "metadata": {},
   "outputs": [],
   "source": [
    "x_train, x_test, y_train, y_test = train_test_split(x, y, \n",
    "                                                    test_size=0.3, \n",
    "                                                    random_state = 1993,\n",
    "                                                   shuffle=True)"
   ]
  },
  {
   "cell_type": "markdown",
   "metadata": {},
   "source": [
    "## 3_1. Sklearn으로 SVM 만들어보기\n",
    "이제 SVM의 3개의 커널 Linear, Poly, Rbf를 사용해 분류하고 비교해보겠습니다.<br>\n",
    "아쉽게도 Sklearn의 SVM은 tanh 커널을 지원하지 않기 때문에 3개만 비교해보겠습니다.<br>"
   ]
  },
  {
   "cell_type": "code",
   "execution_count": 11,
   "metadata": {},
   "outputs": [],
   "source": [
    "# Sklearn의 SVM 분류모델의 이름은 SVC 입니다. \n",
    "# 매개 변수는 기본적으로 kernel, C를 사용해보시고, poly의 경우 다항식의 차수인 degree, rbf의 경우 gamma 값을 변경해보세요\n",
    "# kernel은 'linear', 'poly', 'rbf', 'sigmoid'(tanh)가 있습니다.\n",
    "C = 1\n",
    "svm_linear = SVC(kernel='linear', C=C)\n",
    "svm_poly = SVC(kernel='poly',  degree=3, C=C)\n",
    "svm_rbf = SVC(kernel='rbf', gamma=0.7, C=C)\n",
    "svm_sigmoid = SVC(kernel='sigmoid', C=C)"
   ]
  },
  {
   "cell_type": "code",
   "execution_count": 12,
   "metadata": {
    "scrolled": false
   },
   "outputs": [
    {
     "name": "stdout",
     "output_type": "stream",
     "text": [
      "SVM Classifier linear kernel cv score : 94.37%\n",
      "SVM Classifier poly kernel cv score : 41.20%\n",
      "SVM Classifier rbf kernel cv score : 95.17%\n",
      "SVM Classifier sigmoid(tanh) kernel cv score : 94.37%\n"
     ]
    }
   ],
   "source": [
    "# 모델의 성능을 평가하기 위한 k(5)-fold cross validation을 수행해봅니다.\n",
    "kfold = KFold(n_splits=5, shuffle=True, random_state=2019)\n",
    "\n",
    "linear_results = cross_val_score(svm_linear, x_train, y_train, cv=kfold)\n",
    "poly_results = cross_val_score(svm_poly, x_train, y_train, cv=kfold)\n",
    "rbf_results = cross_val_score(svm_rbf, x_train, y_train, cv=kfold)\n",
    "sigmoid_results = cross_val_score(svm_sigmoid, x_train, y_train, cv=kfold)\n",
    "\n",
    "print('SVM Classifier linear kernel cv score : {:.2f}%'.format(np.mean(linear_results)*100))\n",
    "print('SVM Classifier poly kernel cv score : {:.2f}%'.format(np.mean(poly_results)*100))\n",
    "print('SVM Classifier rbf kernel cv score : {:.2f}%'.format(np.mean(rbf_results)*100))\n",
    "print('SVM Classifier sigmoid(tanh) kernel cv score : {:.2f}%'.format(np.mean(sigmoid_results)*100))"
   ]
  },
  {
   "cell_type": "markdown",
   "metadata": {},
   "source": [
    "rbf - linear, sigmoid - poly 순서로 CV 점수가 나왔습니다. <br>\n",
    "실제 테스트 데이터에 대해서도 비슷한 결과가 나올지 알아보겠습니다."
   ]
  },
  {
   "cell_type": "code",
   "execution_count": 13,
   "metadata": {
    "scrolled": false
   },
   "outputs": [
    {
     "name": "stdout",
     "output_type": "stream",
     "text": [
      "SVM Classifier linear kernel acc : 96.30%\n",
      "SVM Classifier poly kernel acc : 37.04%\n",
      "SVM Classifier rbf kernel acc : 96.30%\n",
      "SVM Classifier sigmoid(tanh) kernel acc : 96.30%\n"
     ]
    }
   ],
   "source": [
    "# 모델 학습\n",
    "svm_linear.fit(x_train, y_train)\n",
    "svm_poly.fit(x_train, y_train)\n",
    "svm_rbf.fit(x_train, y_train)\n",
    "svm_sigmoid.fit(x_train, y_train)\n",
    "\n",
    "print('SVM Classifier linear kernel acc : {:.2f}%'.format(svm_linear.score(x_test, y_test)*100))\n",
    "print('SVM Classifier poly kernel acc : {:.2f}%'.format(svm_poly.score(x_test, y_test)*100))\n",
    "print('SVM Classifier rbf kernel acc : {:.2f}%'.format(svm_rbf.score(x_test, y_test)*100))\n",
    "print('SVM Classifier sigmoid(tanh) kernel acc : {:.2f}%'.format(svm_sigmoid.score(x_test, y_test)*100))"
   ]
  },
  {
   "cell_type": "markdown",
   "metadata": {},
   "source": [
    "Cross-Validation과 비슷한 결과를 볼 수 있었습니다. "
   ]
  },
  {
   "cell_type": "code",
   "execution_count": 14,
   "metadata": {},
   "outputs": [],
   "source": [
    "# 영역을 그려주는 함수입니다.\n",
    "def make_meshgrid(x, y, h=.02):\n",
    "    x_min, x_max = x.min() - 1, x.max() + 1\n",
    "    y_min, y_max = y.min() - 1, y.max() + 1\n",
    "    xx, yy = np.meshgrid(np.arange(x_min, x_max, h),\n",
    "                         np.arange(y_min, y_max, h))\n",
    "    return xx, yy\n",
    "\n",
    "# 경계를 그려주는 함수입니다.\n",
    "def plot_contours(ax, clf, xx, yy, **params):\n",
    "    Z = clf.predict(np.c_[xx.ravel(), yy.ravel()])\n",
    "    Z = Z.reshape(xx.shape)\n",
    "    out = ax.contourf(xx, yy, Z, **params)\n",
    "    return out"
   ]
  },
  {
   "cell_type": "markdown",
   "metadata": {
    "scrolled": true
   },
   "source": [
    "# 모델을 순차적으로 넣기 위해 튜플로 만들어줍니다.\n",
    "models = (svm_linear,\n",
    "          svm_poly,\n",
    "          svm_rbf,\n",
    "          svm_sigmoid)\n",
    "\n",
    "titles = ('SVC with linear kernel',\n",
    "          'SVC with polynomial (degree 3) kernel',\n",
    "          'SVC with RBF kernel',\n",
    "          'SVC with sigmoid kernel'\n",
    "         )\n",
    "\n",
    "# 1행, 3열의 구성으로 시각화를 합니다.\n",
    "fig, sub = plt.subplots(2, 2, figsize=(10, 10))\n",
    "\n",
    "X0, X1 = x[:, 0], x[:, 1]\n",
    "xx, yy = make_meshgrid(X0, X1)\n",
    "\n",
    "for clf, title, ax in zip(models, titles, sub.flatten()):\n",
    "    # 경계면을 그립니다.\n",
    "    plot_contours(ax, clf, xx, yy,\n",
    "                  cmap=plt.cm.coolwarm, alpha=0.8)\n",
    "    # 모든 데이터 포인트를 그립니다.\n",
    "    ax.scatter(X0, X1, c=y, cmap=plt.cm.coolwarm, s=20, edgecolors='k')\n",
    "    ax.set_xlim(xx.min(), xx.max())\n",
    "    ax.set_ylim(yy.min(), yy.max())\n",
    "    ax.set_xlabel('Principal Component 1')\n",
    "    ax.set_ylabel('Principal Component 2')\n",
    "    ax.set_xticks(())\n",
    "    ax.set_yticks(())\n",
    "    ax.set_title(title)\n",
    "\n",
    "plt.show()"
   ]
  },
  {
   "cell_type": "markdown",
   "metadata": {},
   "source": [
    "### k-fold Cross Validation Ensemble \n",
    "k-fold 교차 검증을 통해 k개의 모델을 만들어 각 모델들의 검증을 해보고, 학습한 모델들을 앙상블을 통해 좋은 결과를 낼 수 있도록 해보겠습니다. "
   ]
  },
  {
   "cell_type": "code",
   "execution_count": 15,
   "metadata": {},
   "outputs": [],
   "source": [
    "# SVM 분류기에서 일반적으로 가장 좋은 성능을 내는 rbf 커널을 사용한 SVM 분류기 5개로 k-fold 앙상블을 해보겠습니다.\n",
    "# k-fold에서 k의 수를 5로 하고, 5개의 모델을 만들어보겠습니다.\n",
    "\n",
    "# rbf 커널을 사용한 SVM 모델을 5개 만듭니다.\n",
    "# 확률로 서로 다른 모델의 앙상블을 하는 것이 편하므로, 각 모델이 추정하는 클래스의 확률을 추출할 수 있도록 probability 속성을 True로 사용합니다.\n",
    "clfs = [SVC(kernel='rbf', gamma=0.7, C=C, probability=True),\n",
    "        SVC(kernel='rbf', gamma=0.7, C=C, probability=True),\n",
    "        SVC(kernel='rbf', gamma=0.7, C=C, probability=True),\n",
    "        SVC(kernel='rbf', gamma=0.7, C=C, probability=True),\n",
    "        SVC(kernel='rbf', gamma=0.7, C=C, probability=True)\n",
    "]\n",
    "\n",
    "# 5개의 fold를 생성할 k-fold 모델을 생성합니다. \n",
    "kf = KFold(n_splits=5)\n"
   ]
  },
  {
   "cell_type": "code",
   "execution_count": 16,
   "metadata": {
    "scrolled": true
   },
   "outputs": [
    {
     "name": "stdout",
     "output_type": "stream",
     "text": [
      "SVM_1 Classifier rbf Kernel CV score : 100.00%\n",
      "SVM_2 Classifier rbf Kernel CV score : 100.00%\n",
      "SVM_3 Classifier rbf Kernel CV score : 96.00%\n",
      "SVM_4 Classifier rbf Kernel CV score : 88.00%\n",
      "SVM_5 Classifier rbf Kernel CV score : 87.50%\n"
     ]
    }
   ],
   "source": [
    "\n",
    "# 모델을 지정할 인덱스 변수입니다.\n",
    "i=0\n",
    "\n",
    "# KFold 모델의 함수 중 KFold.split() 함수는 python 자료구조 중 generator를 반환하는데, 해당 자료구조는 for문으로 쉽게 사용할 수 있습니다.\n",
    "for train_idx, test_idx in kf.split(x_train):\n",
    "    # 각 분류기를 fold별 학습 데이터로 학습시킵니다.\n",
    "    clfs[i].fit(x_train[train_idx], y_train[train_idx])\n",
    "    # 학습된 분류기를 fold별 검증 데이터로 검증합니다.\n",
    "    print('SVM_{} Classifier rbf Kernel CV score : {:.2f}%'.format(i+1, clfs[i].score(x_train[test_idx], y_train[test_idx])*100))\n",
    "    i+=1"
   ]
  },
  {
   "cell_type": "markdown",
   "metadata": {},
   "source": [
    "각 fold에 따라 5개의 학습한 모델을 얻었습니다. 이제 각 모델이 test 데이터에 대해 반환하는 각 클래스별 확률을 통해 앙상블을 진행해보겠습니다."
   ]
  },
  {
   "cell_type": "code",
   "execution_count": 17,
   "metadata": {},
   "outputs": [],
   "source": [
    "# numpy.zeros 함수는 0으로 채워진 shape 크기의 행렬을 생성합니다.\n",
    "# 해당 행렬은 5개의 모델이 반환하는 각 클래스의 확률을 담는 역할을 합니다.\n",
    "result = np.zeros(shape=(len(x_test), 3))\n",
    "\n",
    "# sklearn 모델은 predict_proba 라는 함수로 각 클래스별 확률을 반환할 수 있습니다. 5개의 모델이 test 데이터에 대해 반환하는 확률을 통해 앙상블을 진행합니다.\n",
    "for i in range(len(clfs)):\n",
    "    # test 데이터에 대해 각 모델이 추정하는 클래스의 확률을 합산합니다.\n",
    "    result += clfs[i].predict_proba(x_test)"
   ]
  },
  {
   "cell_type": "markdown",
   "metadata": {},
   "source": [
    "result 행렬이 담고있는 값을 5개정도 살펴보겠습니다."
   ]
  },
  {
   "cell_type": "code",
   "execution_count": 18,
   "metadata": {
    "scrolled": false
   },
   "outputs": [
    {
     "data": {
      "text/plain": [
       "array([[2.8688922 , 1.74430092, 0.38680688],\n",
       "       [0.03721998, 0.08786621, 4.87491381],\n",
       "       [0.03362453, 4.94510205, 0.02127342],\n",
       "       [0.13183478, 0.11642858, 4.75173664],\n",
       "       [0.02443797, 4.93837978, 0.03718225]])"
      ]
     },
     "execution_count": 18,
     "metadata": {},
     "output_type": "execute_result"
    }
   ],
   "source": [
    "result[:5]"
   ]
  },
  {
   "cell_type": "markdown",
   "metadata": {},
   "source": [
    "가로 방향으로 클래스 0, 1, 2 에 대한 확률을 담고 있습니다. numpy.argmax 함수를 통해 5개의 모델이 추정하고 있는 가장 높은 확률을 뽑아 클래스를 정하겠습니다.<br>\n",
    "가장 높은 확률을 뽑는 차원은 인덱스 값을 1(axis=1)을 갖는 차원, 즉 2번째 차원을 기준으로 가장 높은 확률을 뽑습니다."
   ]
  },
  {
   "cell_type": "code",
   "execution_count": 19,
   "metadata": {},
   "outputs": [],
   "source": [
    "result = np.argmax(result, axis=1)"
   ]
  },
  {
   "cell_type": "markdown",
   "metadata": {},
   "source": [
    "참 값과의 비교를 통해 정확도를 계산해보겠습니다."
   ]
  },
  {
   "cell_type": "code",
   "execution_count": 20,
   "metadata": {},
   "outputs": [],
   "source": [
    "# np.equal 함수를 통해 True, False 결과를 얻고, Python에서는 True 값이 정수형으로 1을 나타내므로 모두 더해 True의 총 합을 구할 수 있습니다.\n",
    "# result에 +1을 해주는 이유는, 클래스는 1,2,3 이기 때문에 인덱스를 추출한 result 행렬은 0,1,2 를 담고 있습니다. 이러한 이유로 1을 더해줍니다.\n",
    "acc = (np.sum(np.equal(y_test, result+1)))/len(x_test)"
   ]
  },
  {
   "cell_type": "code",
   "execution_count": 21,
   "metadata": {
    "scrolled": true
   },
   "outputs": [
    {
     "name": "stdout",
     "output_type": "stream",
     "text": [
      "SVM Classifier rbf kernel Cross Validation Ensemble acc : 98.15%\n"
     ]
    }
   ],
   "source": [
    "print('SVM Classifier rbf kernel Cross Validation Ensemble acc : {:.2f}%'.format(acc*100))"
   ]
  },
  {
   "cell_type": "markdown",
   "metadata": {},
   "source": [
    "## 3_2 Sklearn으로 SVR 만들어보기\n",
    "방금 전에는 SVM으로 3개의 클래스를 분류하는 모델을 만들어보았습니다. <br>\n",
    "SVM 회귀 모델은 SVM 분류 모델과 동일한 원리를 사용해 경계면을 결정하고 차이점으로는 계산식에서 라벨 값이 범주형 변수가 아닌 연속 변수라는 점이 있습니다.<br>\n",
    "이번에는 와인 데이터의 알콜 함량을 라벨 값으로 해서 모델을 학습시켜 보겠습니다. "
   ]
  },
  {
   "cell_type": "code",
   "execution_count": 22,
   "metadata": {},
   "outputs": [],
   "source": [
    "# 모든 컬럼을 x에 할당하고, y에 'Alcohol' 컬럼을 할당합니다.\n",
    "x = data\n",
    "y = data['Alcohol']"
   ]
  },
  {
   "cell_type": "code",
   "execution_count": 23,
   "metadata": {},
   "outputs": [],
   "source": [
    "#그리고 x에서 'Alcohol' 컬럼을 제거합니다.\n",
    "del x['Alcohol']"
   ]
  },
  {
   "cell_type": "code",
   "execution_count": 24,
   "metadata": {},
   "outputs": [],
   "source": [
    "for dim in x.columns:\n",
    "        x[dim] -= np.min(x[dim])\n",
    "        x[dim] /= np.max(x[dim])\n",
    "# pca를 통해 1개의 주성분을 찾고 바로 차원을 축소합니다.\n",
    "# 회귀이므로,입력 변수의 차원이 1차원이어야 2차원으로 시각화가 가능합니다.\n",
    "x = PCA(n_components = 1).fit_transform(x)"
   ]
  },
  {
   "cell_type": "code",
   "execution_count": 25,
   "metadata": {},
   "outputs": [],
   "source": [
    "# Sklearn의 SVR 회귀모델의 이름은 SVR 입니다.\n",
    "# 매개 변수는 기본적으로 kernel, C를 사용해보시고, poly의 경우 다항식의 차수인 degree, rbf의 경우 gamma 값을 변경해보세요\n",
    "# kernel은 'linear', 'poly', 'rbf', 'sigmoid'(tanh)가 있습니다.\n",
    "C = 1\n",
    "svr_linear = SVR(kernel='linear', C=C)\n",
    "svr_poly = SVR(kernel='poly', C=C, degree=2)\n",
    "svr_rbf = SVR(kernel='rbf', C=C, gamma=0.1)\n",
    "svr_sigmoid = SVR(kernel='sigmoid', C=C)"
   ]
  },
  {
   "cell_type": "code",
   "execution_count": 26,
   "metadata": {
    "scrolled": true
   },
   "outputs": [
    {
     "name": "stdout",
     "output_type": "stream",
     "text": [
      "SVM Regressor linear kernel cv score : 0.017\n",
      "SVM Regressor poly kernel cv score : 0.324\n",
      "SVM Regressor rbf kernel cv score : 0.276\n",
      "SVM Regressor sigmoid kernel cv score : -0.000\n"
     ]
    }
   ],
   "source": [
    "# 모델의 성능을 평가하기 위한 k(5)-fold cross validation을 수행해봅니다.\n",
    "kfold = KFold(n_splits=5, shuffle=True, random_state=2019)\n",
    "\n",
    "linear_results = cross_val_score(svr_linear, x, y, cv=kfold)\n",
    "poly_results = cross_val_score(svr_poly, x, y, cv=kfold)\n",
    "rbf_results = cross_val_score(svr_rbf, x, y, cv=kfold)\n",
    "sigmoid_results = cross_val_score(svr_sigmoid, x, y, cv=kfold)\n",
    "\n",
    "print('SVM Regressor linear kernel cv score : {:.3f}'.format(np.mean(linear_results)))\n",
    "print('SVM Regressor poly kernel cv score : {:.3f}'.format(np.mean(poly_results)))\n",
    "print('SVM Regressor rbf kernel cv score : {:.3f}'.format(np.mean(rbf_results)))\n",
    "print('SVM Regressor sigmoid kernel cv score : {:.3f}'.format(np.mean(sigmoid_results)))"
   ]
  },
  {
   "cell_type": "markdown",
   "metadata": {},
   "source": [
    "SVR 모델은 회귀 모델이기 때문에 R^2 를 반환합니다.<br>\n",
    "poly - rbf - linear - sigmoid 순서로 CV 점수가 나왔습니다. \n",
    "실제 테스트 데이터에 대해서도 비슷한 결과가 나올지 알아보겠습니다."
   ]
  },
  {
   "cell_type": "code",
   "execution_count": 27,
   "metadata": {
    "scrolled": true
   },
   "outputs": [
    {
     "name": "stdout",
     "output_type": "stream",
     "text": [
      "SVM Regressor linear kernel R^2 : 0.058\n",
      "SVM Regressor poly kernel R^2 : 0.334\n",
      "SVM Regressor rbf kernel R^2 : 0.357\n",
      "SVM Regressor sigmoid kernel R^2 : 0.012\n"
     ]
    }
   ],
   "source": [
    "# 모델 학습\n",
    "svr_linear.fit(x, y)\n",
    "svr_poly.fit(x, y)\n",
    "svr_rbf.fit(x, y)\n",
    "svr_sigmoid.fit(x, y)\n",
    "\n",
    "print('SVM Regressor linear kernel R^2 : {:.3f}'.format(svr_linear.score(x, y)))\n",
    "print('SVM Regressor poly kernel R^2 : {:.3f}'.format(svr_poly.score(x, y)))\n",
    "print('SVM Regressor rbf kernel R^2 : {:.3f}'.format(svr_rbf.score(x, y)))\n",
    "print('SVM Regressor sigmoid kernel R^2 : {:.3f}'.format(svr_sigmoid.score(x, y)))"
   ]
  },
  {
   "cell_type": "markdown",
   "metadata": {},
   "source": [
    "Cross-Validation과 약간 다르지만 비슷한 결과를 볼 수 있었습니다. 이런 방식으로 어떤 모델이 더 좋을지 선택하고 학습하지 않은 데이터에 대한 일반화 성능도 알아볼 수 있습니다.<br>\n",
    "시각화를 통해 살펴보겠습니다."
   ]
  },
  {
   "cell_type": "code",
   "execution_count": 28,
   "metadata": {},
   "outputs": [
    {
     "data": {
      "image/png": "[encoded data removed]",
      "text/plain": [
       "<Figure size 720x720 with 4 Axes>"
      ]
     },
     "metadata": {
      "needs_background": "light"
     },
     "output_type": "display_data"
    }
   ],
   "source": [
    "# 모델을 순차적으로 넣기 위해 튜플로 만들어줍니다.\n",
    "models = (svr_linear,\n",
    "          svr_poly,\n",
    "          svr_rbf,\n",
    "          svr_sigmoid)\n",
    "\n",
    "titles = ('SVR with linear kernel',\n",
    "          'SVR with polynomial (degree 3) kernel',\n",
    "          'SVR with RBF kernel',\n",
    "          'SVR with sigmoid kernel'\n",
    "         )\n",
    "\n",
    "# 그림을 그릴 1행 3열의 subplot 생성\n",
    "fig, sub = plt.subplots(2, 2, figsize=(10, 10))\n",
    "\n",
    "lw = 2\n",
    "for svc, title, ax in zip(models, titles, sub.flatten()):\n",
    "    # 모든 데이터 포인트를 그립니다.\n",
    "    ax.scatter(x, y, color='darkorange', label='data')\n",
    "    ax.plot(x, svc.predict(x), color='navy', lw=lw)\n",
    "    ax.set_title(title)\n",
    "\n",
    "plt.show()"
   ]
  },
  {
   "cell_type": "markdown",
   "metadata": {},
   "source": [
    "깔끔한 데이터로 다시 살펴보겠습니다."
   ]
  },
  {
   "cell_type": "code",
   "execution_count": 29,
   "metadata": {
    "scrolled": true
   },
   "outputs": [
    {
     "data": {
      "image/png": "[encoded data removed]",
      "text/plain": [
       "<Figure size 432x288 with 1 Axes>"
      ]
     },
     "metadata": {
      "needs_background": "light"
     },
     "output_type": "display_data"
    }
   ],
   "source": [
    "# 임의 데이터 생성\n",
    "X = np.sort(5 * np.random.rand(40, 1), axis=0)\n",
    "y = np.sin(X).ravel()\n",
    "\n",
    "# 노이즈 추가\n",
    "y[::5] += 3 * (0.5 - np.random.rand(8))\n",
    "\n",
    "# 모델 정의 및 학습\n",
    "svr_rbf = SVR(kernel='rbf', C=1e3, gamma=0.1)\n",
    "svr_lin = SVR(kernel='linear', C=1e3)\n",
    "svr_poly = SVR(kernel='poly', C=1e3, degree=2)\n",
    "y_rbf = svr_rbf.fit(X, y).predict(X)\n",
    "y_lin = svr_lin.fit(X, y).predict(X)\n",
    "y_poly = svr_poly.fit(X, y).predict(X)\n",
    "\n",
    "# 시각화\n",
    "lw = 2\n",
    "\n",
    "# 전체 데이터 포인트를 그립니다.\n",
    "plt.scatter(X, y, color='darkorange', label='data')\n",
    "# 각 회귀 모델별 회귀 곡선을 그립니다.\n",
    "plt.plot(X, y_rbf, color='navy', lw=lw, label='RBF model')\n",
    "plt.plot(X, y_lin, color='c', lw=lw, label='Linear model')\n",
    "plt.plot(X, y_poly, color='cornflowerblue', lw=lw, label='Polynomial model')\n",
    "plt.xlabel('data')\n",
    "plt.ylabel('target')\n",
    "plt.title('Support Vector Regression')\n",
    "plt.legend()\n",
    "plt.show()"
   ]
  },
  {
   "cell_type": "markdown",
   "metadata": {},
   "source": [
    "## 3_3. Sklearn으로 One-Class SVM 만들어보기 \n",
    "Sklearn은 One-Class SVM 모델만 지원합니다. 이상치를 포함하는 임의의 데이터를 생성해 이상치를 탐지해보겠습니다."
   ]
  },
  {
   "cell_type": "code",
   "execution_count": 36,
   "metadata": {},
   "outputs": [],
   "source": [
    "# numpy의 random 패키지에 있는 정규 분포 생성 함수를 사용해 정상 데이터를 생성합니다. loc은 평균을 나타내며, scale은 표준편차를 나타냅니다.\n",
    "random_x = np.random.normal(loc = 1, scale = 1, size = (100, 1))\n",
    "random_y = np.random.normal(loc = 1, scale = 1, size = (100, 1))\n",
    "\n",
    "# 이상 데이터를 생성합니다.\n",
    "outlier_x = np.random.normal(loc = 5, scale = 1, size = (5, 1))\n",
    "outlier_y = np.random.normal(loc = 2, scale = 5, size = (5, 1))"
   ]
  },
  {
   "cell_type": "code",
   "execution_count": 37,
   "metadata": {},
   "outputs": [],
   "source": [
    "# numpy의 concatenate 함수로 정상 데이터와 이상 데이터를 하나로 합칩니다. axis=0은 0번 인덱스(1번째) 차원을 기준으로 데이터를 합치겠다는 의미입니다.\n",
    "# ex) random_x의 차원은 (100, )이므로 1번째 차원인 100 을 기준으로 outlier_x와 합치므로 합친 데이터 x의 차원은 (105, ) 입니다.\n",
    "# axis = 1은 1번 인덱스(2번째) 차원을 기준으로 데이터를 합칩니다. 결과적으로 2개의 컬럼을 가진 행렬이 됩니다.\n",
    "X = np.concatenate((np.concatenate((random_x, outlier_x), axis = 0),\n",
    "                    np.concatenate((random_y, outlier_y), axis = 0)),\n",
    "                   axis=1)"
   ]
  },
  {
   "cell_type": "markdown",
   "metadata": {},
   "source": [
    "적당히 모인 데이터를 정상 데이터로, 멀리 떨어져있는 데이터를 이상 데이터로 간주하고 One-Class SVM 모델을 적용하겠습니다."
   ]
  },
  {
   "cell_type": "code",
   "execution_count": 32,
   "metadata": {
    "scrolled": true
   },
   "outputs": [
    {
     "data": {
      "image/png": "[encoded data removed]",
      "text/plain": [
       "<Figure size 360x360 with 1 Axes>"
      ]
     },
     "metadata": {
      "needs_background": "light"
     },
     "output_type": "display_data"
    }
   ],
   "source": [
    "# 데이터 분포 시각화\n",
    "plt.figure(figsize = (5,5))\n",
    "plt.scatter(X[:,0], X[:, 1])\n",
    "plt.xlim(-4, 6)\n",
    "plt.ylim(-4, 6)\n",
    "plt.show()"
   ]
  },
  {
   "cell_type": "code",
   "execution_count": 33,
   "metadata": {},
   "outputs": [
    {
     "data": {
      "text/plain": [
       "OneClassSVM(cache_size=200, coef0=0.0, degree=3, gamma='auto_deprecated',\n",
       "            kernel='sigmoid', max_iter=-1, nu=0.1, random_state=None,\n",
       "            shrinking=True, tol=0.001, verbose=False)"
      ]
     },
     "execution_count": 33,
     "metadata": {},
     "output_type": "execute_result"
    }
   ],
   "source": [
    "# Sklearn의 One-Class SVM 모델의 이름은 OneClassSVM 입니다.\n",
    "# 매개 변수는 기본적으로 kernel, nu를 사용해보시고, poly의 경우 다항식의 차수인 degree, rbf의 경우 gamma 값을 변경해보세요.\n",
    "# kernel은 'linear', 'poly', 'rbf', 'sigmoid'(tanh)가 있습니다.\n",
    "nu = 0.1\n",
    "oc_svm_lin = OneClassSVM(kernel='linear', nu = nu)\n",
    "oc_svm_poly = OneClassSVM(kernel='poly', degree=3, nu = nu)\n",
    "oc_svm_rbf = OneClassSVM(kernel='rbf', gamma=0.1, nu = nu)\n",
    "oc_svm_sigmoid = OneClassSVM(kernel='sigmoid', nu = nu)\n",
    "\n",
    "# 3개의 모델을 학습시키세요\n",
    "oc_svm_lin.fit(X)\n",
    "oc_svm_poly.fit(X)\n",
    "oc_svm_rbf.fit(X)\n",
    "oc_svm_sigmoid.fit(X)"
   ]
  },
  {
   "cell_type": "code",
   "execution_count": 34,
   "metadata": {},
   "outputs": [],
   "source": [
    "# 모델을 순차적으로 넣기 위해 튜플로 만들어줍니다.\n",
    "models = (oc_svm_lin, \n",
    "          oc_svm_poly, \n",
    "          oc_svm_rbf, \n",
    "          oc_svm_sigmoid)\n",
    "\n",
    "titles = ('One-Class SVM with linear kernel',\n",
    "          'One-Class SVM with poly kernel', \n",
    "          'One-Class SVM with rbf kernel',\n",
    "          'One-Class SVM with sigmoid kernel', )\n",
    "\n",
    "# plot에 테두리를 그리기 위한 망 좌표 생성\n",
    "xx, yy = np.meshgrid(np.linspace(-4, 6, 150),\n",
    "                     np.linspace(-4, 6, 150))"
   ]
  },
  {
   "cell_type": "code",
   "execution_count": 35,
   "metadata": {},
   "outputs": [
    {
     "data": {
      "image/png": "[encoded data removed]",
      "text/plain": [
       "<Figure size 720x720 with 4 Axes>"
      ]
     },
     "metadata": {
      "needs_background": "light"
     },
     "output_type": "display_data"
    }
   ],
   "source": [
    "# 그림을 그릴 1행 3열의 subplot 생성\n",
    "fig, sub = plt.subplots(2, 2, figsize=(10, 10))\n",
    "\n",
    "for oc_svm, title, ax in zip(models, titles, sub.flatten()):\n",
    "    # 망 좌표를 모델에 넣어 테두리 값을 얻습니다.\n",
    "    Z = oc_svm.predict(np.c_[xx.ravel(), yy.ravel()])\n",
    "    Z = Z.reshape(xx.shape)\n",
    "    \n",
    "    # One-Class 분류된 결과를 얻습니다.\n",
    "    pred = oc_svm.predict(X)\n",
    "    \n",
    "    # 테두리를 그립니다.\n",
    "    ax.contour(xx, yy, Z, levels=[0], linewidths=2, colors='black')\n",
    "    colors = np.array(['#377eb8', '#ff7f00'])\n",
    "    # 전체 데이터 포인트를 그립니다.\n",
    "    ax.scatter(X[:,0], X[:,1], s=10, color=colors[(pred + 1) // 2])\n",
    "    ax.set_xlim(xx.min(), xx.max())\n",
    "    ax.set_ylim(yy.min(), yy.max())\n",
    "    ax.set_title(title)\n",
    "\n",
    "plt.show()"
   ]
  },
  {
   "cell_type": "markdown",
   "metadata": {},
   "source": [
    "### Reference\n",
    "- SVM : https://ko.wikipedia.org/wiki/서포트_벡터_머신 ,<br> Christopher M. Bishop. Pattern Recognition and Machine Learning. Springer, 2006.\n",
    "- SVM Cost, gamma : https://bskyvision.com/163\n",
    "- SVM Demo : https://www.csie.ntu.edu.tw/~cjlin/libsvm/#nuandone\n",
    "- SVM Example : https://scikit-learn.org/stable/modules/svm.html\n",
    "- SVR Example : https://scikit-learn.org/stable/modules/generated/sklearn.svm.SVR.html\n",
    "- One-Class SVM Example : https://scikit-learn.org/stable/auto_examples/plot_anomaly_comparison.html#sphx-glr-auto-examples-plot-anomaly-comparison-py\n",
    "- Cross Validation : https://3months.tistory.com/321\n",
    "- Ensemble : https://en.wikipedia.org/wiki/Ensemble_learning, https://swalloow.github.io/bagging-boosting"
   ]
  }
 ],
 "metadata": {
  "kernelspec": {
   "display_name": "samsung",
   "language": "python",
   "name": "samsung"
  },
  "language_info": {
   "codemirror_mode": {
    "name": "ipython",
    "version": 3
   },
   "file_extension": ".py",
   "mimetype": "text/x-python",
   "name": "python",
   "nbconvert_exporter": "python",
   "pygments_lexer": "ipython3",
   "version": "3.6.7"
  }
 },
 "nbformat": 4,
 "nbformat_minor": 2
}
