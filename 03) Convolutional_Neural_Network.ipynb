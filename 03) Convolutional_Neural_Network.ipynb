{
 "cells": [
  {
   "cell_type": "markdown",
   "metadata": {},
   "source": [
    "Lab 02\n",
    "==========="
   ]
  },
  {
   "cell_type": "markdown",
   "metadata": {},
   "source": [
    "## Context\n",
    "\n",
    "### Convolutional Neural Network(CNN)\n",
    "+ Convolution\n",
    "+ Kernel\n",
    "+ Stride\n",
    "+ Padding\n",
    "+ Pooling"
   ]
  },
  {
   "cell_type": "markdown",
   "metadata": {},
   "source": [
    "## 합성곱 신경망(Convolutional Neural Network)\n",
    "합성곱 신경망은 커널과 이미지의 **합성곱**을 이용하여 이미지의 특징점을 찾아내고 이를 입력신호로 신경망을 사용하는 신경망입니다.\n",
    "\n",
    "![CNN](Images/CNN.png)\n",
    "\n",
    "### 합성곱\n",
    "합성곱이란 두 함수 f, g 가운데 하나의 함수를 반전(reverse), 전이(shift)시킨 다음, 다른 하나의 함수와 곱한 결과를 합하는 것을 의미합니다. 이를 그림으로 표현하면 아래와 같습니다.\n",
    "\n",
    "![Convolution](Images/Convolution.gif)\n",
    "\n",
    "### 커널\n",
    "이미지의 특징점을 찾기위해서는 해당 특징점을 위한 **커널**이 필요합니다. 이러한 커널은 일반적으로 행열의 형태를 띄며 합성곱 결과가 클 수록 해당 특징점에 가깝다는 것을 의미합니다.\n",
    "\n",
    "### Stride\n",
    "Stride란 얼마나 촘촘하게 특징점을 찾기위한 합성곱을 수행할 것인지입니다. 예를 들어 위의 합성곱의 이해를 돕기 위한 이미지는 3X3 커널을 Stride를 1로 합성곱을 수행한 것입니다. Stride값이 1에 가까울 수록 연산량은 많아지지만 더 촘촘하게 특징점을 찾게 됩니다.\n",
    "\n",
    "### 패딩\n",
    "일반적으로 커널은 3X3이상의 크기를 가지게 됩니다. 이에 따라 가장자리에 가까울 수록 커널에 의해 검증되는 횟수가 줄어들게 됩니다. 이러한 문제를 해결하기 위해 등장한 개념으로 가장자리의 점도 커널에 의해 검증되도록 이미지를 확장하고 확장된 부분에 0으로 채워 특징으로 잡히지 않도록 합니다.\n",
    "\n",
    "아래 그림은 상하좌우에 2줄의 패딩을 삽입한 결과입니다.\n",
    "\n",
    "![padding](Images/zero-padding.png)\n",
    "\n",
    "### 풀링\n",
    "합성곱의 결과로 추출된 특징들은 모두 사용될 필요가 없습니다. 특히 합성곱의 결과가 작을 수록 해당 특징에 부합되지 않는다는 것이기 때문에 합성곱의 결과를 줄일 수 있습니다. 이러한 과정을 통해 우리는 합성곱 신경망의 연산량을 줄일 수 있습니다.\n",
    "\n",
    "아래 그림은 2X2 Stride 2로 최대값 풀링과 평균값 풀링을 수행한 후 결과입니다.\n",
    "\n",
    "![pooling](Images/pooling.png)"
   ]
  },
  {
   "cell_type": "code",
   "execution_count": 1,
   "metadata": {},
   "outputs": [
    {
     "name": "stderr",
     "output_type": "stream",
     "text": [
      "Using TensorFlow backend.\n"
     ]
    }
   ],
   "source": [
    "from os.path import join\n",
    "\n",
    "import numpy as np\n",
    "\n",
    "from sklearn.model_selection import train_test_split\n",
    "\n",
    "import keras\n",
    "from keras import layers\n",
    "from keras import models\n",
    "import tensorflow as tf\n",
    "\n",
    "import matplotlib.pyplot as plt\n",
    "\n",
    "datapath = join('data', 'cifar')"
   ]
  },
  {
   "cell_type": "code",
   "execution_count": 2,
   "metadata": {},
   "outputs": [],
   "source": [
    "# Keras 백 엔드인 TensorFlow의 세션 설정을 불러옵니다.\n",
    "from keras.backend.tensorflow_backend import set_session\n",
    "\n",
    "# TensorFlow의 ConfigProto() 객체에 학습시 적용할 옵션들을 명시적으로 설정할 수 있습니다.\n",
    "config = tf.ConfigProto()\n",
    "# GPU 옵션으로 allow_grouth를 True로 설정합니다.\n",
    "config.gpu_options.allow_growth = True \n",
    "\n",
    "# TensorFlow는 Session이라는 실행 단위를 가지고 있는데, 해당 Session이라는에 적용할 옵션을 담고있는 Config객체를 전달합니다.\n",
    "sess = tf.Session(config=config)\n",
    "# 설정한 Session이라는을 현재 프로세스에 적용합니다.\n",
    "set_session(sess)  "
   ]
  },
  {
   "cell_type": "markdown",
   "metadata": {},
   "source": [
    "## 1. 데이터 살펴보기\n",
    "이번에 사용할 데이터는 조심히 발음해야하는 CIFAR-10 데이터셋 입니다.<br>\n",
    "해당 데이터셋은 10개의 클래스로 이루어진 6만개의 32*32 RGB 컬러 이미지입니다.<br>\n",
    "MNIST와 동일하게 일반적으로 머신러닝 알고리즘 및 컴퓨터 비전 분야에서 널리 사용되는 데이터 중 하나 입니다<br>\n",
    "실습의 편의를 위해 데이터는 numpy 행렬로 변환되어 저장된 상태입니다.<br>\n",
    "\n",
    "\n",
    "#### 레이블 설명\n",
    "0.비행기(airplane)<br>\n",
    "1.자동차(automobile)<br>\n",
    "2.새(bird)<br>\n",
    "3.고양이(cat)<br>\n",
    "4.사슴(deer)<br>\n",
    "5.개(dog)<br>\n",
    "6.개구리(frog)<br>\n",
    "7.말(horse)<br>\n",
    "8.배(ship)<br>\n",
    "9.트럭(truck)<br>"
   ]
  },
  {
   "cell_type": "code",
   "execution_count": 3,
   "metadata": {},
   "outputs": [],
   "source": [
    "#데이터 불러오기\n",
    "x = np.load(join(datapath,'cifar-10_data.npy'))\n",
    "y = np.load(join(datapath,'cifar-10_label.npy'))"
   ]
  },
  {
   "cell_type": "code",
   "execution_count": 4,
   "metadata": {},
   "outputs": [
    {
     "data": {
      "text/plain": [
       "<matplotlib.image.AxesImage at 0x7ff9d3e3e978>"
      ]
     },
     "execution_count": 4,
     "metadata": {},
     "output_type": "execute_result"
    },
    {
     "data": {
      "image/png": "[encoded data removed]",
      "text/plain": [
       "<Figure size 432x288 with 1 Axes>"
      ]
     },
     "metadata": {
      "needs_background": "light"
     },
     "output_type": "display_data"
    }
   ],
   "source": [
    "plt.imshow(x[0])"
   ]
  },
  {
   "cell_type": "markdown",
   "metadata": {},
   "source": [
    "## 2. 간단한 전처리\n",
    "CIFAR-10 데이터는 32*32*3에 픽셀마다 0~255 범위의 값을 가진 행렬입니다.\n",
    "각 픽셀에 대해 0~1 사이의 값을 갖도록 255로 나누어 줍니다."
   ]
  },
  {
   "cell_type": "code",
   "execution_count": 5,
   "metadata": {},
   "outputs": [
    {
     "name": "stdout",
     "output_type": "stream",
     "text": [
      "최대 : 1.0, 최소 : 0.0\n"
     ]
    }
   ],
   "source": [
    "#0~1 사이의 값으로 변경\n",
    "x = x/255\n",
    "\n",
    "#값이 잘 변화되었는지 확인\n",
    "print('최대 : {}, 최소 : {}'.format(np.max(x), np.min(x)))"
   ]
  },
  {
   "cell_type": "markdown",
   "metadata": {},
   "source": [
    "이미지들의 정답을 나타내는 label 데이터는 0~9의 값을 가지고 있습니다.<br>\n",
    "해당 label 데이터도 독립적인 벡터 형태로 표현하겠습니다.\n",
    "\n",
    "### 왜 벡터를 사용하나요\n",
    "여기에서 Label 데이터를 그대로 숫자로 표현해도 되지만, 벡터로 표현한 것은 숫자 이미지라는 특성이 수치적으로 1씩 증가하는 관계가 아니기 때문에<br>\n",
    "서로 독립적인 관계를 갖는 벡터로 표현해주는 것이 더 적절합니다. 이러한 기법을 One-hot encoding이라 합니다.<br>\n",
    "Keras에서는 연속 정수형을 벡터형태로 변환해주는 to_categorical() 함수가 존재합니다."
   ]
  },
  {
   "cell_type": "code",
   "execution_count": 6,
   "metadata": {},
   "outputs": [
    {
     "name": "stdout",
     "output_type": "stream",
     "text": [
      "[6]\n",
      "[0. 0. 0. 0. 0. 0. 1. 0. 0. 0.]\n"
     ]
    }
   ],
   "source": [
    "print(y[0])\n",
    "y = keras.utils.to_categorical(y)\n",
    "print(y[0])"
   ]
  },
  {
   "cell_type": "markdown",
   "metadata": {},
   "source": [
    "데이터를 학습 데이터와 검증 데이터로 나눕니다."
   ]
  },
  {
   "cell_type": "code",
   "execution_count": 7,
   "metadata": {},
   "outputs": [],
   "source": [
    "#x, y를 학습 데이터 67% 검증 데이터 33%로 나눕니다.\n",
    "x_train, x_test, y_train, y_test = train_test_split(x, y, test_size=0.33, random_state=2019)"
   ]
  },
  {
   "cell_type": "markdown",
   "metadata": {},
   "source": [
    "입력 변수와 결과물이 어떤 크기를 가지는지 확인해봅니다."
   ]
  },
  {
   "cell_type": "code",
   "execution_count": 8,
   "metadata": {},
   "outputs": [
    {
     "data": {
      "text/plain": [
       "(40200, 32, 32, 3)"
      ]
     },
     "execution_count": 8,
     "metadata": {},
     "output_type": "execute_result"
    }
   ],
   "source": [
    "x_train.shape"
   ]
  },
  {
   "cell_type": "code",
   "execution_count": 9,
   "metadata": {},
   "outputs": [
    {
     "data": {
      "text/plain": [
       "(40200, 10)"
      ]
     },
     "execution_count": 9,
     "metadata": {},
     "output_type": "execute_result"
    }
   ],
   "source": [
    "y_train.shape"
   ]
  },
  {
   "cell_type": "markdown",
   "metadata": {},
   "source": [
    "## 3. Convolutional Neural Network 사용해보기"
   ]
  },
  {
   "cell_type": "markdown",
   "metadata": {},
   "source": [
    "### 3-1 파라미터 세팅"
   ]
  },
  {
   "cell_type": "code",
   "execution_count": 10,
   "metadata": {},
   "outputs": [],
   "source": [
    "#한 루프당 올릴 데이터의 수\n",
    "batch_size=1024\n",
    "#총 사이클의 수\n",
    "epoch=10"
   ]
  },
  {
   "cell_type": "markdown",
   "metadata": {},
   "source": [
    "### 3-2 입력층 만들기"
   ]
  },
  {
   "cell_type": "code",
   "execution_count": 11,
   "metadata": {},
   "outputs": [],
   "source": [
    "# 입력층\n",
    "input_shape = (x_train[0].shape)\n",
    "input_tensor = layers.Input(input_shape)"
   ]
  },
  {
   "cell_type": "markdown",
   "metadata": {},
   "source": [
    "### 3-3 모델 구조 만들기"
   ]
  },
  {
   "cell_type": "code",
   "execution_count": 12,
   "metadata": {},
   "outputs": [
    {
     "name": "stdout",
     "output_type": "stream",
     "text": [
      "WARNING:tensorflow:From /home/kyle/samsung/lib/python3.6/site-packages/tensorflow/python/framework/op_def_library.py:263: colocate_with (from tensorflow.python.framework.ops) is deprecated and will be removed in a future version.\n",
      "Instructions for updating:\n",
      "Colocations handled automatically by placer.\n",
      "WARNING:tensorflow:From /home/kyle/samsung/lib/python3.6/site-packages/keras/backend/tensorflow_backend.py:3363: calling dropout (from tensorflow.python.ops.nn_ops) with keep_prob is deprecated and will be removed in a future version.\n",
      "Instructions for updating:\n",
      "Please use `rate` instead of `keep_prob`. Rate should be set to `rate = 1 - keep_prob`.\n"
     ]
    }
   ],
   "source": [
    "#Convolutional Layer로 3*3의 크기의 필터, 활성화 함수로 relu, 입력 차원과 출력 차원이 같아지도록 padding을 사용합니다.\n",
    "conv_layer_1 = layers.Conv2D(32, (3,3), activation = 'relu', padding='same')(input_tensor)\n",
    "#Pooling Layer로 Maxpooling을 수행합니다. 기본값으로 2*2의 사이즈로 수행합니다.\n",
    "pool_layer_1 = layers.MaxPooling2D()(conv_layer_1)\n",
    "#Dropout Layer로 모든 신경을 사용하는 것이 아니라 50%의 신경만 사용합니다.\n",
    "drop_out_layer_1 = layers.Dropout(0.5)(pool_layer_1)\n",
    "#BatchNormalization Layer로 Vanishing Gradient문제를 해결하고자 사용합니다.\n",
    "batch_normal_1 = layers.BatchNormalization()(drop_out_layer_1)\n",
    "\n",
    "conv_layer_2 = layers.Conv2D(64, (3,3), activation = 'relu', padding='same')(batch_normal_1)\n",
    "pool_layer_2 = layers.MaxPooling2D()(conv_layer_2)\n",
    "drop_out_layer_2 = layers.Dropout(0.5)(pool_layer_2)\n",
    "batch_normal_2 = layers.BatchNormalization()(drop_out_layer_2)\n",
    "\n",
    "conv_layer_3 = layers.Conv2D(128, (3,3), activation = 'relu', padding='same')(batch_normal_2)\n",
    "drop_out_layer_3 = layers.Dropout(0.5)(conv_layer_3)\n",
    "batch_normal_3 = layers.BatchNormalization()(drop_out_layer_3)\n",
    "\n",
    "conv_layer_4 = layers.Conv2D(256, (3,3), activation = 'relu', padding='same')(batch_normal_3)\n",
    "drop_out_layer_4 = layers.Dropout(0.5)(conv_layer_4)\n",
    "batch_normal_4 = layers.BatchNormalization()(drop_out_layer_4)\n",
    "\n",
    "#이제 까지 만들어진 특징점을 1차원 벡터로 펼쳐주는 Layer입니다.\n",
    "flat = layers.Flatten()(batch_normal_4)\n",
    "\n",
    "#앞의 MLP에서 사용한 것과 같은 Layer로 FullyConnected Layer와 relu활성화 함수를 사용합니다.\n",
    "dense_layer_1 = layers.Dense(512, activation='relu')(flat)\n",
    "#Dropout Layer로 모든 신경을 사용하는 것이 아니라 50%의 신경만 사용합니다.\n",
    "drop_out_layer_5 = layers.Dropout(0.5)(dense_layer_1)\n",
    "#BatchNormalization Layer로 Vanishing Gradient문제를 해결하고자 사용합니다.\n",
    "batch_normal_5 = layers.BatchNormalization()(drop_out_layer_5)\n",
    "\n",
    "dense_layer_2 = layers.Dense(256, activation='relu')(batch_normal_5)\n",
    "drop_out_layer_6 = layers.Dropout(0.5)(dense_layer_2)\n",
    "batch_normal_6 = layers.BatchNormalization()(drop_out_layer_6)\n",
    "\n",
    "dense_layer_3 = layers.Dense(128, activation='relu')(batch_normal_5)\n",
    "drop_out_layer_7 = layers.Dropout(0.5)(dense_layer_3)\n",
    "batch_normal_7 = layers.BatchNormalization()(drop_out_layer_7)\n",
    "\n",
    "# 출력층\n",
    "output_tensor = layers.Dense(10, activation='softmax')(batch_normal_7)"
   ]
  },
  {
   "cell_type": "code",
   "execution_count": 13,
   "metadata": {},
   "outputs": [],
   "source": [
    "# 모델 정의\n",
    "model = models.Model(input_tensor, output_tensor)\n",
    "\n",
    "# 모델 생성(컴파일) Adam 최적화기와 Categorical Crossentropy 비용함수를 사용합니다.\n",
    "model.compile(optimizer = 'Adam',\n",
    "             loss = 'categorical_crossentropy',\n",
    "             metrics = ['accuracy'])"
   ]
  },
  {
   "cell_type": "markdown",
   "metadata": {},
   "source": [
    "### 3-4 모델 확인하기"
   ]
  },
  {
   "cell_type": "code",
   "execution_count": 14,
   "metadata": {
    "scrolled": false
   },
   "outputs": [
    {
     "name": "stdout",
     "output_type": "stream",
     "text": [
      "_________________________________________________________________\n",
      "Layer (type)                 Output Shape              Param #   \n",
      "=================================================================\n",
      "input_1 (InputLayer)         (None, 32, 32, 3)         0         \n",
      "_________________________________________________________________\n",
      "conv2d_1 (Conv2D)            (None, 32, 32, 32)        896       \n",
      "_________________________________________________________________\n",
      "max_pooling2d_1 (MaxPooling2 (None, 16, 16, 32)        0         \n",
      "_________________________________________________________________\n",
      "dropout_1 (Dropout)          (None, 16, 16, 32)        0         \n",
      "_________________________________________________________________\n",
      "batch_normalization_1 (Batch (None, 16, 16, 32)        128       \n",
      "_________________________________________________________________\n",
      "conv2d_2 (Conv2D)            (None, 16, 16, 64)        18496     \n",
      "_________________________________________________________________\n",
      "max_pooling2d_2 (MaxPooling2 (None, 8, 8, 64)          0         \n",
      "_________________________________________________________________\n",
      "dropout_2 (Dropout)          (None, 8, 8, 64)          0         \n",
      "_________________________________________________________________\n",
      "batch_normalization_2 (Batch (None, 8, 8, 64)          256       \n",
      "_________________________________________________________________\n",
      "conv2d_3 (Conv2D)            (None, 8, 8, 128)         73856     \n",
      "_________________________________________________________________\n",
      "dropout_3 (Dropout)          (None, 8, 8, 128)         0         \n",
      "_________________________________________________________________\n",
      "batch_normalization_3 (Batch (None, 8, 8, 128)         512       \n",
      "_________________________________________________________________\n",
      "conv2d_4 (Conv2D)            (None, 8, 8, 256)         295168    \n",
      "_________________________________________________________________\n",
      "dropout_4 (Dropout)          (None, 8, 8, 256)         0         \n",
      "_________________________________________________________________\n",
      "batch_normalization_4 (Batch (None, 8, 8, 256)         1024      \n",
      "_________________________________________________________________\n",
      "flatten_1 (Flatten)          (None, 16384)             0         \n",
      "_________________________________________________________________\n",
      "dense_1 (Dense)              (None, 512)               8389120   \n",
      "_________________________________________________________________\n",
      "dropout_5 (Dropout)          (None, 512)               0         \n",
      "_________________________________________________________________\n",
      "batch_normalization_5 (Batch (None, 512)               2048      \n",
      "_________________________________________________________________\n",
      "dense_3 (Dense)              (None, 128)               65664     \n",
      "_________________________________________________________________\n",
      "dropout_7 (Dropout)          (None, 128)               0         \n",
      "_________________________________________________________________\n",
      "batch_normalization_7 (Batch (None, 128)               512       \n",
      "_________________________________________________________________\n",
      "dense_4 (Dense)              (None, 10)                1290      \n",
      "=================================================================\n",
      "Total params: 8,848,970\n",
      "Trainable params: 8,846,730\n",
      "Non-trainable params: 2,240\n",
      "_________________________________________________________________\n"
     ]
    }
   ],
   "source": [
    "model.summary()"
   ]
  },
  {
   "cell_type": "markdown",
   "metadata": {},
   "source": [
    "### 3-5 모델 학습하기"
   ]
  },
  {
   "cell_type": "code",
   "execution_count": 15,
   "metadata": {
    "scrolled": false
   },
   "outputs": [
    {
     "name": "stdout",
     "output_type": "stream",
     "text": [
      "WARNING:tensorflow:From /home/kyle/samsung/lib/python3.6/site-packages/tensorflow/python/ops/math_ops.py:3066: to_int32 (from tensorflow.python.ops.math_ops) is deprecated and will be removed in a future version.\n",
      "Instructions for updating:\n",
      "Use tf.cast instead.\n",
      "Train on 40200 samples, validate on 19800 samples\n",
      "Epoch 1/10\n",
      " - 7s - loss: 2.3419 - acc: 0.2224 - val_loss: 3.0996 - val_acc: 0.2014\n",
      "Epoch 2/10\n",
      " - 3s - loss: 1.8522 - acc: 0.3357 - val_loss: 2.4372 - val_acc: 0.2825\n",
      "Epoch 3/10\n",
      " - 3s - loss: 1.6690 - acc: 0.3911 - val_loss: 2.2142 - val_acc: 0.3358\n",
      "Epoch 4/10\n",
      " - 3s - loss: 1.5573 - acc: 0.4323 - val_loss: 2.1864 - val_acc: 0.3644\n",
      "Epoch 5/10\n",
      " - 3s - loss: 1.4703 - acc: 0.4660 - val_loss: 2.8309 - val_acc: 0.2996\n",
      "Epoch 6/10\n",
      " - 3s - loss: 1.4061 - acc: 0.4959 - val_loss: 2.6328 - val_acc: 0.3180\n",
      "Epoch 7/10\n",
      " - 3s - loss: 1.3573 - acc: 0.5123 - val_loss: 2.0184 - val_acc: 0.4048\n",
      "Epoch 8/10\n",
      " - 3s - loss: 1.2986 - acc: 0.5352 - val_loss: 2.3032 - val_acc: 0.3682\n",
      "Epoch 9/10\n",
      " - 3s - loss: 1.2533 - acc: 0.5553 - val_loss: 2.0553 - val_acc: 0.4143\n",
      "Epoch 10/10\n",
      " - 3s - loss: 1.2104 - acc: 0.5708 - val_loss: 1.7219 - val_acc: 0.4688\n"
     ]
    }
   ],
   "source": [
    "history = model.fit(x_train, y_train, \n",
    "          validation_data=[x_test, y_test],\n",
    "          batch_size=batch_size,\n",
    "          epochs=epoch,\n",
    "          verbose=2)"
   ]
  },
  {
   "cell_type": "markdown",
   "metadata": {},
   "source": [
    "### 3-6 결과 확인\n",
    "학습된 결과를 그래프로 그려서 확인해보겠습니다."
   ]
  },
  {
   "cell_type": "code",
   "execution_count": 16,
   "metadata": {},
   "outputs": [
    {
     "data": {
      "image/png": "[encoded data removed]",
      "text/plain": [
       "<Figure size 432x288 with 1 Axes>"
      ]
     },
     "metadata": {
      "needs_background": "light"
     },
     "output_type": "display_data"
    },
    {
     "data": {
      "image/png": "[encoded data removed]",
      "text/plain": [
       "<Figure size 432x288 with 1 Axes>"
      ]
     },
     "metadata": {
      "needs_background": "light"
     },
     "output_type": "display_data"
    }
   ],
   "source": [
    "#학습 데이터와 검증 데이터의 정확도를 그래프로 출력합니다.\n",
    "plt.plot(history.history['acc'])\n",
    "plt.plot(history.history['val_acc'])\n",
    "plt.title('model accuracy')\n",
    "plt.ylabel('accuracy')\n",
    "plt.xlabel('epoch')\n",
    "plt.legend(['train', 'test'], loc='upper left')\n",
    "plt.show()\n",
    "\n",
    "#학습 데이터와 검증 데이터의 비용함수 값을 그래프로 출력합니다.\n",
    "plt.plot(history.history['loss'])\n",
    "plt.plot(history.history['val_loss'])\n",
    "plt.title('model loss')\n",
    "plt.ylabel('loss')\n",
    "plt.xlabel('epoch')\n",
    "plt.legend(['train', 'test'], loc='upper left')\n",
    "plt.show()"
   ]
  },
  {
   "cell_type": "markdown",
   "metadata": {},
   "source": [
    "### Reference\n",
    "- 합성곱 : https://ko.wikipedia.org/wiki/합성곱"
   ]
  }
 ],
 "metadata": {
  "kernelspec": {
   "display_name": "samsung",
   "language": "python",
   "name": "samsung"
  },
  "language_info": {
   "codemirror_mode": {
    "name": "ipython",
    "version": 3
   },
   "file_extension": ".py",
   "mimetype": "text/x-python",
   "name": "python",
   "nbconvert_exporter": "python",
   "pygments_lexer": "ipython3",
   "version": "3.6.7"
  }
 },
 "nbformat": 4,
 "nbformat_minor": 2
}
