{
 "cells": [
  {
   "cell_type": "markdown",
   "metadata": {},
   "source": [
    "Lab03\n",
    "===="
   ]
  },
  {
   "cell_type": "markdown",
   "metadata": {},
   "source": [
    "##  Context\n",
    "\n",
    "### Sequence Modeling\n",
    "+ Recurrent Neural Nets(RNN)\n",
    "\n",
    "+ Long Short-Term Memory(LSTM)"
   ]
  },
  {
   "cell_type": "markdown",
   "metadata": {},
   "source": [
    "# 순환 신경망(Recurrent Neural Networks, RNN)\n",
    " + 순차적인 데이터, 즉 순서 있는 일련의 값(Sequence Data)들을 처리하는데 특화된 신경망\n",
    "\n",
    "<img src=\"./Images/RNN.png\" style=\"height: 250px\">\n",
    "RNN에 입력 벡터 순서열  x1,x2,…,xn  을 차례대로 입력하면 상태 순서열  s1,s2,…,sn 이 내부적으로 생성되고 출력으로는 출력 순서열  o1,o2,…,on  이 나옵니다.\n",
    "\n",
    "+ x : 입력 벡터\n",
    "+ o : 출력 벡터\n",
    "+ s : 상태 벡터(신경망 전체의 상태가 아니라 신경망의 은닉(hidden)단위들의 상태임을 나타내기 위해 변수 이름으로 h를 사용합니다.)\n",
    "+ U : 입력 대 은닉 연결에 대한 가중치 행렬\n",
    "+ W : 은닉 대 은닉 연결에 대한 가중치 행렬\n",
    "+ V : 은닉 대 출력 연결에 대한 가중치 행렬\n",
    "\n",
    "\n",
    "+ 일반적인 Neural Network와 다른 점 :\n",
    "    + 뒤쪽으로 향하는 연결 존재 즉, 이전 입력에 의해 만들어진 출력을 입력으로 받습니다.\n",
    "    \n",
    "        + 기존의 신경망 구조에서는 모든 입력(과 출력)이 각각 독립적이라고 가정합니다.\n",
    "        하지만 문장에서 다음에 나올 단어를 추측하고 싶은 경우를 고려해보면, 이전에 나온 단어들을 아는 것은 추측하는 데 큰 도움이 될 것입니다.\n",
    "    + 매개변수 공유 : 여러 시간 단계가 같은 가중치들을 공유합니다. (깊은 계산 그래프를 통해 매개변수들이 공유됩니다.)\n",
    "    + 출력 순차열의 각 성분은 출력의 이전 성분의 함수입니다."
   ]
  },
  {
   "cell_type": "markdown",
   "metadata": {},
   "source": [
    "## 계산 그래프 펼치기(unfolding)\n",
    "\n",
    "<img src=\"./Images/hiddenunit.png\"/>\n",
    "$a^{(t)} = b + Wh^{(t-1)} + Ux^{(t)}$\n",
    "\n",
    "$h^{(t)} = tanh(a^{(t)})$\n",
    "\n",
    "$o^{(t)} = c + Vh^{(t)}$\n",
    "\n",
    "$\\hat{y}^{(t)} = softmax(o^{(t)})$"
   ]
  },
  {
   "cell_type": "markdown",
   "metadata": {},
   "source": [
    "## Back-Propagation Through Time(BPTT)\n",
    "+ 역전파 알고리즘을 펼쳐진 계산 그래프에 적용하는 것입니다.(순환 신경망에 특화된 새로운 알고리즘을 필요로하지 않습니다.)"
   ]
  },
  {
   "cell_type": "markdown",
   "metadata": {},
   "source": [
    "## Applications"
   ]
  },
  {
   "cell_type": "markdown",
   "metadata": {},
   "source": [
    "<img src=\"./Images/rnncategory.png\"/>"
   ]
  },
  {
   "cell_type": "markdown",
   "metadata": {},
   "source": [
    "원하는 결과가 출력 순서열  $o_1,o_2,…,o_n$  이 target 순서열  $y_1,y_2,…,y_n$  과 같아지는 것이라면 입력 순서열 길이와 출력 순서열 길이가 같은 특수한 경우의 sequnce-to-sequence (many-to-many) 예측 문제가 되고, 순서열의 마지막 출력  $o_n$  값이  $y_n$ 값과 같아지는 것만 목표라면 단순한 sequence to value (many-to-one) 예측 문제가 됩니다."
   ]
  },
  {
   "cell_type": "markdown",
   "metadata": {},
   "source": [
    "## 예제 1) 'hihello' 학습시켜보기(many to many)\n",
    "\n",
    "#### hihello 학습 : hihell -> ihello\n",
    "+ 한 문자 순서열 값을 통해 다음 시간 스텝의 문자 순서열 값을 예측하도록 학습해보겠습니다.\n",
    "<img src=\"./Images/samsungimg.png\">\n",
    "\n",
    "### 입력한 문자열에 대해 그 다음 나와야할 문자열을 예측해 보겠습니다."
   ]
  },
  {
   "cell_type": "code",
   "execution_count": 1,
   "metadata": {},
   "outputs": [
    {
     "name": "stderr",
     "output_type": "stream",
     "text": [
      "Using TensorFlow backend.\n"
     ]
    }
   ],
   "source": [
    "#path 관련 라이브러리\n",
    "from os.path import join, isdir\n",
    "\n",
    "# Scientific Math 라이브러리  \n",
    "import numpy as np\n",
    "\n",
    "# Visualization 라이브러리\n",
    "import matplotlib.pyplot as plt\n",
    "\n",
    "import tensorflow as tf\n",
    "import keras\n",
    "from keras import layers, models, Input\n",
    "from keras.utils import to_categorical"
   ]
  },
  {
   "cell_type": "code",
   "execution_count": 2,
   "metadata": {},
   "outputs": [],
   "source": [
    "# Keras 백 엔드인 TensorFlow의 세션 설정을 불러옵니다.\n",
    "from keras.backend.tensorflow_backend import set_session\n",
    "\n",
    "# TensorFlow의 ConfigProto() 객체에 학습시 적용할 옵션들을 명시적으로 설정할 수 있습니다.\n",
    "config = tf.ConfigProto()\n",
    "\n",
    "# GPU 옵션으로 allow_grouth를 True로 설정합니다.\n",
    "config.gpu_options.allow_growth = True\n",
    "\n",
    "# TensorFlow는 Session이라는 실행 단위를 가지고 있는데, 해당 Session이라는에 적용할 옵션을 담고있는 \n",
    "sess = tf.Session(config=config)\n",
    "\n",
    "# 설정한 Session이라는을 현재 프로세스에 적용합니다.\n",
    "set_session(sess)"
   ]
  },
  {
   "cell_type": "markdown",
   "metadata": {},
   "source": [
    "## 1. 데이터 생성하기(데이터 살펴보기 + 간단한 전처리)\n",
    "\n",
    "#### 1.1 유일한 문자들에 대해서 One hot encoding 합니다.\n",
    "+ 각 문자에 대해서 독립적인 벡터 형태로 표현하기 위함입니다.\n",
    "\n",
    "__text : 'hihello'__\n",
    "+ 학습에 사용할 Text 입니다.\n",
    "\n",
    "__index: h:0, i:1, e:2, l:3, o:4 (dirctionary)__\n",
    "+ 각 문자(유일한 문자)에 인덱스를 부여한 후 문자열을 인덱스 리스트로 변환하여 이를 one hot encoding 합니다\n",
    "\n",
    "__유일한 문자 : h, i, e, ㅣ, o__ \n",
    "+ 유일한 문자의 수에 의해 one hot encoding size가 결정됩니다.(size = 5))\n"
   ]
  },
  {
   "cell_type": "code",
   "execution_count": 3,
   "metadata": {},
   "outputs": [
    {
     "name": "stdout",
     "output_type": "stream",
     "text": [
      "set size :  5\n",
      "char set :  ['e', 'h', 'o', 'i', 'l']\n",
      "char_dic :  {'e': 0, 'h': 1, 'o': 2, 'i': 3, 'l': 4}\n"
     ]
    }
   ],
   "source": [
    "# sample text\n",
    "sample = \"hihello\"\n",
    "\n",
    "# 유일한 문자들에 대해서 리스트를 만듭니다.\n",
    "# 문자열 -> 문자 리스트 ['i', 'l', 'e', 'o', 'h']\n",
    "\n",
    "# set 자료형 변환, set 자료형은 중복을 허용하지 않고, 순서가 없는 형태의 자료값을 반환합니다.\n",
    "temp = set(sample)\n",
    "# set 자료값에 대해서 list형으로 변환합니다.\n",
    "char_set = list(temp)\n",
    "print('set size : ', len(char_set))\n",
    "print('char set : ', char_set)\n",
    "\n",
    "#Class의 수(최종 출력 크기(RNN or softmax... 등의 출력 크기))\n",
    "num_classes = len(char_set)\n",
    "\n",
    "# 문자들을 key로 인덱스를 value로 갖는 딕셔너리를 만듭니다.\n",
    "\n",
    "# enumerate 내장 함수는 입력받은 자료형이 순서가 있다고 보고 순서대로 인덱스를 부여합니다.\n",
    "# 부여한 인덱스와 값을 반환합니다.\n",
    "char_dic = {w: i for i, w in enumerate(char_set)}\n",
    "print('char_dic : ', char_dic)\n",
    "\n",
    "\n",
    "##참고 : 순서가 없는 set이나 dictionary 자료형은 인덱싱을 지원하지 않습니다."
   ]
  },
  {
   "cell_type": "markdown",
   "metadata": {},
   "source": [
    "####  1.2 Target 데이터를 설정합니다."
   ]
  },
  {
   "cell_type": "code",
   "execution_count": 4,
   "metadata": {},
   "outputs": [],
   "source": [
    "# X data 샘플 hihello: hihell (index 0~n-1의 값)\n",
    "x_str = sample[:-1]\n",
    "\n",
    "# Y data 샘플 hihello: ihello (index 1~n의 값) < Target >\n",
    "y_str = sample[1:]"
   ]
  },
  {
   "cell_type": "code",
   "execution_count": 5,
   "metadata": {},
   "outputs": [],
   "source": [
    "# 문자를 인덱스값으로 변환합니다.\n",
    "x = [char_dic[c] for c in x_str]  \n",
    "y = [char_dic[c] for c in y_str]"
   ]
  },
  {
   "cell_type": "code",
   "execution_count": 6,
   "metadata": {},
   "outputs": [
    {
     "name": "stdout",
     "output_type": "stream",
     "text": [
      "x(=  hihell ) : [1, 3, 1, 0, 4, 4]\n",
      "y(=  ihello ) : [3, 1, 0, 4, 4, 2]\n"
     ]
    }
   ],
   "source": [
    "print('x(= ',x_str,') :', x)\n",
    "print('y(= ',y_str,') :', y)"
   ]
  },
  {
   "cell_type": "markdown",
   "metadata": {},
   "source": [
    "#### 1.3 index에 대응되는 리스트의 값을 1로 합니다.(one-hot encoding)"
   ]
  },
  {
   "cell_type": "code",
   "execution_count": 7,
   "metadata": {},
   "outputs": [
    {
     "name": "stdout",
     "output_type": "stream",
     "text": [
      "(6, 5)\n"
     ]
    }
   ],
   "source": [
    "# One-hot encoding\n",
    "x = keras.utils.to_categorical(x, num_classes=num_classes)\n",
    "print(x.shape)"
   ]
  },
  {
   "cell_type": "code",
   "execution_count": 8,
   "metadata": {},
   "outputs": [
    {
     "name": "stdout",
     "output_type": "stream",
     "text": [
      "(6, 5)\n"
     ]
    }
   ],
   "source": [
    "# One-hot encoding\n",
    "y = keras.utils.to_categorical(y, num_classes=num_classes)\n",
    "print(y.shape)"
   ]
  },
  {
   "cell_type": "code",
   "execution_count": 9,
   "metadata": {},
   "outputs": [
    {
     "name": "stdout",
     "output_type": "stream",
     "text": [
      "x :\n",
      " [[0. 1. 0. 0. 0.]\n",
      " [0. 0. 0. 1. 0.]\n",
      " [0. 1. 0. 0. 0.]\n",
      " [1. 0. 0. 0. 0.]\n",
      " [0. 0. 0. 0. 1.]\n",
      " [0. 0. 0. 0. 1.]]\n",
      "y :\n",
      " [[0. 0. 0. 1. 0.]\n",
      " [0. 1. 0. 0. 0.]\n",
      " [1. 0. 0. 0. 0.]\n",
      " [0. 0. 0. 0. 1.]\n",
      " [0. 0. 0. 0. 1.]\n",
      " [0. 0. 1. 0. 0.]]\n"
     ]
    }
   ],
   "source": [
    "print('x :\\n', x)\n",
    "print('y :\\n', y)"
   ]
  },
  {
   "cell_type": "markdown",
   "metadata": {},
   "source": [
    "## 2. keras의 SimpleRNN를 이용해 순환신경망 만들어보기"
   ]
  },
  {
   "cell_type": "markdown",
   "metadata": {},
   "source": [
    "#### Keras 에서 RNN 을 사용하려면 입력 데이터는 (nb_samples, timesteps, input_dim) 크기를 가지는 ndim=3인 3차원 텐서(tensor) 형태이어야 합니다.\n",
    "\n",
    "+ nb_samples(= batch_size) : 자료의 수\n",
    "+ timesteps(= sequemce_length) : 순서열의 길이\n",
    "+ input_dim(= data_dim) : 입력 벡터의 차원\n",
    "\n",
    "여기서 text sequence 하나의 차원이 5이므로 input_dim = 5이고, \n",
    "\n",
    "sequemce length =  6(hihell, ihello)이며 \n",
    "\n",
    "nb_samples = 1 입니다.\n",
    "<br><br>\n",
    "<br><br>"
   ]
  },
  {
   "cell_type": "markdown",
   "metadata": {},
   "source": [
    "#### 2.1 입력 데이터 구조 파라미터를 설정합니다."
   ]
  },
  {
   "cell_type": "code",
   "execution_count": 10,
   "metadata": {},
   "outputs": [],
   "source": [
    "# RNN의 입력 크기(one-hot size)\n",
    "data_dim = len(char_dic)\n",
    "\n",
    "#순서열의 길이\n",
    "sequence_length = len(x)# unfolding(unit 수)( = len(sample)-1 )\n",
    "\n",
    "#배치사이즈(one batch size)\n",
    "batch_size = 1\n",
    "\n",
    "# RNN cell의 출력 크기(차원)\n",
    "# hidden_size = len(char_set) = num_classes"
   ]
  },
  {
   "cell_type": "markdown",
   "metadata": {},
   "source": [
    "<img src=\"./Images/shape.png\">"
   ]
  },
  {
   "cell_type": "markdown",
   "metadata": {},
   "source": [
    "#### 데이터 구조를 변환합니다."
   ]
  },
  {
   "cell_type": "code",
   "execution_count": 11,
   "metadata": {},
   "outputs": [
    {
     "name": "stdout",
     "output_type": "stream",
     "text": [
      "(1, 6, 5)\n"
     ]
    }
   ],
   "source": [
    "# x를 \n",
    "x = np.reshape(x, (-1, sequence_length, data_dim))\n",
    "print(x.shape)"
   ]
  },
  {
   "cell_type": "code",
   "execution_count": 12,
   "metadata": {},
   "outputs": [
    {
     "name": "stdout",
     "output_type": "stream",
     "text": [
      "(1, 6, 5)\n"
     ]
    }
   ],
   "source": [
    "# reshape Y => [samples, sequence length(time steps), features(input dim)]\n",
    "y = np.reshape(y, (-1, len(y), data_dim))\n",
    "print(y.shape)"
   ]
  },
  {
   "cell_type": "code",
   "execution_count": 13,
   "metadata": {},
   "outputs": [
    {
     "name": "stdout",
     "output_type": "stream",
     "text": [
      "x_train : [[[0. 1. 0. 0. 0.]\n",
      "  [0. 0. 0. 1. 0.]\n",
      "  [0. 1. 0. 0. 0.]\n",
      "  [1. 0. 0. 0. 0.]\n",
      "  [0. 0. 0. 0. 1.]\n",
      "  [0. 0. 0. 0. 1.]]]\n",
      "y_train : [[[0. 0. 0. 1. 0.]\n",
      "  [0. 1. 0. 0. 0.]\n",
      "  [1. 0. 0. 0. 0.]\n",
      "  [0. 0. 0. 0. 1.]\n",
      "  [0. 0. 0. 0. 1.]\n",
      "  [0. 0. 1. 0. 0.]]]\n"
     ]
    }
   ],
   "source": [
    "x_train = x\n",
    "y_train = y\n",
    "print('x_train :', x_train)\n",
    "print('y_train :', y_train)"
   ]
  },
  {
   "cell_type": "markdown",
   "metadata": {},
   "source": [
    "#### 2.2 학습"
   ]
  },
  {
   "cell_type": "code",
   "execution_count": 14,
   "metadata": {},
   "outputs": [],
   "source": [
    "# 입력 텐서\n",
    "# input_shape : input_length 인수로는 순서열의 길이, input_dim 인수로는 벡터의 크기를 입력합니다.\n",
    "# batch size를 제외한 크기를 입력합니다.\n",
    "input_shape = (x_train[0].shape)\n",
    "input_tensor = layers.Input(input_shape)"
   ]
  },
  {
   "cell_type": "code",
   "execution_count": 15,
   "metadata": {},
   "outputs": [],
   "source": [
    "# 가장 단순한 신경망 구조인 SimpleRNN 클래스를 사용합니다.\n",
    "\n",
    "# 첫번째 인수 : RNN cell 출력의 크기(차원)를 입력합니다.\n",
    "# return_sequences : 출력 시퀀스의 마지막 출력을 반환할지 아니면 전체 시퀀스를 반환할지 지정합니다.\n",
    "rnn_layer = layers.SimpleRNN(num_classes, return_sequences=True)(input_tensor)\n",
    "\n",
    "# 입력의 모든 시간 슬라이스에 Dense 레이어를 적용합니다.\n",
    "# 데이터의 형태가 (32, 10, 16)이라고 한다면\n",
    "# 자료의 수는 32, 순서열의 길이는 10, 입력 벡터의 차원은 18이라는 것을 나타냅니다.\n",
    "# 이때 순서열 각각에 대해서 Dense 레이어를 통과시킵니다.\n",
    "# Target의 차원과 layer의 ouput의 차원을 맞춰주는 것입니다,\n",
    "output_tensor = layers.TimeDistributed(layers.Dense(num_classes, activation='softmax'))(rnn_layer)"
   ]
  },
  {
   "cell_type": "code",
   "execution_count": 16,
   "metadata": {},
   "outputs": [],
   "source": [
    "# 모델 컴파일.\n",
    "model = models.Model(input_tensor, output_tensor)\n",
    "model.compile(optimizer = 'Adam',\n",
    "              # 범주 분류이므로 categorical_crossentropy\n",
    "             loss = 'categorical_crossentropy',\n",
    "             metrics = ['accuracy'])"
   ]
  },
  {
   "cell_type": "code",
   "execution_count": 17,
   "metadata": {},
   "outputs": [
    {
     "name": "stdout",
     "output_type": "stream",
     "text": [
      "_________________________________________________________________\n",
      "Layer (type)                 Output Shape              Param #   \n",
      "=================================================================\n",
      "input_1 (InputLayer)         (None, 6, 5)              0         \n",
      "_________________________________________________________________\n",
      "simple_rnn_1 (SimpleRNN)     (None, 6, 5)              55        \n",
      "_________________________________________________________________\n",
      "time_distributed_1 (TimeDist (None, 6, 5)              30        \n",
      "=================================================================\n",
      "Total params: 85\n",
      "Trainable params: 85\n",
      "Non-trainable params: 0\n",
      "_________________________________________________________________\n"
     ]
    }
   ],
   "source": [
    "model.summary()"
   ]
  },
  {
   "cell_type": "code",
   "execution_count": 18,
   "metadata": {},
   "outputs": [
    {
     "name": "stdout",
     "output_type": "stream",
     "text": [
      "Epoch 1/100\n",
      " - 0s - loss: 1.6548 - acc: 0.1667\n",
      "Epoch 2/100\n",
      " - 0s - loss: 1.6506 - acc: 0.1667\n",
      "Epoch 3/100\n",
      " - 0s - loss: 1.6463 - acc: 0.1667\n",
      "Epoch 4/100\n",
      " - 0s - loss: 1.6421 - acc: 0.1667\n",
      "Epoch 5/100\n",
      " - 0s - loss: 1.6378 - acc: 0.1667\n",
      "Epoch 6/100\n",
      " - 0s - loss: 1.6336 - acc: 0.1667\n",
      "Epoch 7/100\n",
      " - 0s - loss: 1.6294 - acc: 0.1667\n",
      "Epoch 8/100\n",
      " - 0s - loss: 1.6252 - acc: 0.1667\n",
      "Epoch 9/100\n",
      " - 0s - loss: 1.6210 - acc: 0.1667\n",
      "Epoch 10/100\n",
      " - 0s - loss: 1.6168 - acc: 0.1667\n",
      "Epoch 11/100\n",
      " - 0s - loss: 1.6126 - acc: 0.1667\n",
      "Epoch 12/100\n",
      " - 0s - loss: 1.6084 - acc: 0.1667\n",
      "Epoch 13/100\n",
      " - 0s - loss: 1.6042 - acc: 0.1667\n",
      "Epoch 14/100\n",
      " - 0s - loss: 1.6000 - acc: 0.1667\n",
      "Epoch 15/100\n",
      " - 0s - loss: 1.5958 - acc: 0.1667\n",
      "Epoch 16/100\n",
      " - 0s - loss: 1.5917 - acc: 0.1667\n",
      "Epoch 17/100\n",
      " - 0s - loss: 1.5875 - acc: 0.1667\n",
      "Epoch 18/100\n",
      " - 0s - loss: 1.5833 - acc: 0.1667\n",
      "Epoch 19/100\n",
      " - 0s - loss: 1.5792 - acc: 0.1667\n",
      "Epoch 20/100\n",
      " - 0s - loss: 1.5750 - acc: 0.1667\n",
      "Epoch 21/100\n",
      " - 0s - loss: 1.5708 - acc: 0.1667\n",
      "Epoch 22/100\n",
      " - 0s - loss: 1.5667 - acc: 0.1667\n",
      "Epoch 23/100\n",
      " - 0s - loss: 1.5625 - acc: 0.1667\n",
      "Epoch 24/100\n",
      " - 0s - loss: 1.5584 - acc: 0.1667\n",
      "Epoch 25/100\n",
      " - 0s - loss: 1.5542 - acc: 0.1667\n",
      "Epoch 26/100\n",
      " - 0s - loss: 1.5501 - acc: 0.1667\n",
      "Epoch 27/100\n",
      " - 0s - loss: 1.5459 - acc: 0.1667\n",
      "Epoch 28/100\n",
      " - 0s - loss: 1.5418 - acc: 0.1667\n",
      "Epoch 29/100\n",
      " - 0s - loss: 1.5376 - acc: 0.1667\n",
      "Epoch 30/100\n",
      " - 0s - loss: 1.5335 - acc: 0.1667\n",
      "Epoch 31/100\n",
      " - 0s - loss: 1.5293 - acc: 0.1667\n",
      "Epoch 32/100\n",
      " - 0s - loss: 1.5252 - acc: 0.1667\n",
      "Epoch 33/100\n",
      " - 0s - loss: 1.5211 - acc: 0.1667\n",
      "Epoch 34/100\n",
      " - 0s - loss: 1.5169 - acc: 0.1667\n",
      "Epoch 35/100\n",
      " - 0s - loss: 1.5128 - acc: 0.1667\n",
      "Epoch 36/100\n",
      " - 0s - loss: 1.5087 - acc: 0.1667\n",
      "Epoch 37/100\n",
      " - 0s - loss: 1.5045 - acc: 0.1667\n",
      "Epoch 38/100\n",
      " - 0s - loss: 1.5004 - acc: 0.1667\n",
      "Epoch 39/100\n",
      " - 0s - loss: 1.4963 - acc: 0.1667\n",
      "Epoch 40/100\n",
      " - 0s - loss: 1.4921 - acc: 0.1667\n",
      "Epoch 41/100\n",
      " - 0s - loss: 1.4880 - acc: 0.3333\n",
      "Epoch 42/100\n",
      " - 0s - loss: 1.4839 - acc: 0.3333\n",
      "Epoch 43/100\n",
      " - 0s - loss: 1.4798 - acc: 0.3333\n",
      "Epoch 44/100\n",
      " - 0s - loss: 1.4756 - acc: 0.3333\n",
      "Epoch 45/100\n",
      " - 0s - loss: 1.4715 - acc: 0.3333\n",
      "Epoch 46/100\n",
      " - 0s - loss: 1.4674 - acc: 0.3333\n",
      "Epoch 47/100\n",
      " - 0s - loss: 1.4633 - acc: 0.3333\n",
      "Epoch 48/100\n",
      " - 0s - loss: 1.4591 - acc: 0.3333\n",
      "Epoch 49/100\n",
      " - 0s - loss: 1.4550 - acc: 0.3333\n",
      "Epoch 50/100\n",
      " - 0s - loss: 1.4509 - acc: 0.3333\n",
      "Epoch 51/100\n",
      " - 0s - loss: 1.4468 - acc: 0.3333\n",
      "Epoch 52/100\n",
      " - 0s - loss: 1.4427 - acc: 0.3333\n",
      "Epoch 53/100\n",
      " - 0s - loss: 1.4386 - acc: 0.3333\n",
      "Epoch 54/100\n",
      " - 0s - loss: 1.4344 - acc: 0.3333\n",
      "Epoch 55/100\n",
      " - 0s - loss: 1.4303 - acc: 0.3333\n",
      "Epoch 56/100\n",
      " - 0s - loss: 1.4262 - acc: 0.3333\n",
      "Epoch 57/100\n",
      " - 0s - loss: 1.4221 - acc: 0.5000\n",
      "Epoch 58/100\n",
      " - 0s - loss: 1.4180 - acc: 0.5000\n",
      "Epoch 59/100\n",
      " - 0s - loss: 1.4138 - acc: 0.5000\n",
      "Epoch 60/100\n",
      " - 0s - loss: 1.4097 - acc: 0.5000\n",
      "Epoch 61/100\n",
      " - 0s - loss: 1.4056 - acc: 0.5000\n",
      "Epoch 62/100\n",
      " - 0s - loss: 1.4015 - acc: 0.5000\n",
      "Epoch 63/100\n",
      " - 0s - loss: 1.3974 - acc: 0.5000\n",
      "Epoch 64/100\n",
      " - 0s - loss: 1.3933 - acc: 0.5000\n",
      "Epoch 65/100\n",
      " - 0s - loss: 1.3892 - acc: 0.5000\n",
      "Epoch 66/100\n",
      " - 0s - loss: 1.3851 - acc: 0.5000\n",
      "Epoch 67/100\n",
      " - 0s - loss: 1.3810 - acc: 0.5000\n",
      "Epoch 68/100\n",
      " - 0s - loss: 1.3769 - acc: 0.5000\n",
      "Epoch 69/100\n",
      " - 0s - loss: 1.3728 - acc: 0.5000\n",
      "Epoch 70/100\n",
      " - 0s - loss: 1.3687 - acc: 0.5000\n",
      "Epoch 71/100\n",
      " - 0s - loss: 1.3646 - acc: 0.5000\n",
      "Epoch 72/100\n",
      " - 0s - loss: 1.3606 - acc: 0.5000\n",
      "Epoch 73/100\n",
      " - 0s - loss: 1.3565 - acc: 0.5000\n",
      "Epoch 74/100\n",
      " - 0s - loss: 1.3524 - acc: 0.5000\n",
      "Epoch 75/100\n",
      " - 0s - loss: 1.3484 - acc: 0.5000\n",
      "Epoch 76/100\n",
      " - 0s - loss: 1.3443 - acc: 0.5000\n",
      "Epoch 77/100\n",
      " - 0s - loss: 1.3403 - acc: 0.5000\n",
      "Epoch 78/100\n",
      " - 0s - loss: 1.3362 - acc: 0.5000\n",
      "Epoch 79/100\n",
      " - 0s - loss: 1.3322 - acc: 0.5000\n",
      "Epoch 80/100\n",
      " - 0s - loss: 1.3282 - acc: 0.5000\n",
      "Epoch 81/100\n",
      " - 0s - loss: 1.3242 - acc: 0.5000\n",
      "Epoch 82/100\n",
      " - 0s - loss: 1.3202 - acc: 0.5000\n",
      "Epoch 83/100\n",
      " - 0s - loss: 1.3162 - acc: 0.5000\n",
      "Epoch 84/100\n",
      " - 0s - loss: 1.3122 - acc: 0.5000\n",
      "Epoch 85/100\n",
      " - 0s - loss: 1.3083 - acc: 0.5000\n",
      "Epoch 86/100\n",
      " - 0s - loss: 1.3043 - acc: 0.5000\n",
      "Epoch 87/100\n",
      " - 0s - loss: 1.3004 - acc: 0.5000\n",
      "Epoch 88/100\n",
      " - 0s - loss: 1.2964 - acc: 0.5000\n",
      "Epoch 89/100\n",
      " - 0s - loss: 1.2925 - acc: 0.5000\n",
      "Epoch 90/100\n",
      " - 0s - loss: 1.2886 - acc: 0.5000\n",
      "Epoch 91/100\n",
      " - 0s - loss: 1.2847 - acc: 0.5000\n",
      "Epoch 92/100\n",
      " - 0s - loss: 1.2808 - acc: 0.5000\n",
      "Epoch 93/100\n",
      " - 0s - loss: 1.2769 - acc: 0.5000\n",
      "Epoch 94/100\n",
      " - 0s - loss: 1.2731 - acc: 0.5000\n",
      "Epoch 95/100\n",
      " - 0s - loss: 1.2692 - acc: 0.5000\n",
      "Epoch 96/100\n",
      " - 0s - loss: 1.2654 - acc: 0.5000\n",
      "Epoch 97/100\n",
      " - 0s - loss: 1.2616 - acc: 0.5000\n",
      "Epoch 98/100\n",
      " - 0s - loss: 1.2578 - acc: 0.5000\n",
      "Epoch 99/100\n",
      " - 0s - loss: 1.2540 - acc: 0.5000\n",
      "Epoch 100/100\n",
      " - 0s - loss: 1.2502 - acc: 0.5000\n"
     ]
    }
   ],
   "source": [
    "history = model.fit(x_train, y_train,\n",
    "                    epochs=100,\n",
    "                    verbose=2\n",
    "                   )"
   ]
  },
  {
   "cell_type": "markdown",
   "metadata": {},
   "source": [
    "#### 2.3 학습 결과 확인"
   ]
  },
  {
   "cell_type": "code",
   "execution_count": 19,
   "metadata": {
    "scrolled": false
   },
   "outputs": [
    {
     "data": {
      "text/plain": [
       "array([[[0., 1., 0., 0., 0.],\n",
       "        [0., 0., 0., 1., 0.],\n",
       "        [0., 1., 0., 0., 0.],\n",
       "        [1., 0., 0., 0., 0.],\n",
       "        [0., 0., 0., 0., 1.],\n",
       "        [0., 0., 0., 0., 1.]]], dtype=float32)"
      ]
     },
     "execution_count": 19,
     "metadata": {},
     "output_type": "execute_result"
    }
   ],
   "source": [
    "x_train"
   ]
  },
  {
   "cell_type": "markdown",
   "metadata": {},
   "source": [
    "\\* 예측값"
   ]
  },
  {
   "cell_type": "code",
   "execution_count": 20,
   "metadata": {},
   "outputs": [
    {
     "name": "stdout",
     "output_type": "stream",
     "text": [
      "(1, 6, 5)\n",
      "[[[0.21747965 0.14994061 0.17773423 0.26846102 0.18638453]\n",
      "  [0.10692081 0.20547199 0.35854834 0.19390461 0.13515428]\n",
      "  [0.28192377 0.3136969  0.15799086 0.0872134  0.15917513]\n",
      "  [0.13261203 0.21303669 0.13945279 0.1421281  0.37277037]\n",
      "  [0.15694578 0.18695231 0.17857365 0.11223695 0.36529127]\n",
      "  [0.07020963 0.31163898 0.26686752 0.06244451 0.28883937]]]\n"
     ]
    }
   ],
   "source": [
    "temp = model.predict(x_train)\n",
    "print(temp.shape)\n",
    "print(temp)"
   ]
  },
  {
   "cell_type": "code",
   "execution_count": 21,
   "metadata": {
    "scrolled": true
   },
   "outputs": [
    {
     "name": "stdout",
     "output_type": "stream",
     "text": [
      "i\n",
      "o\n",
      "h\n",
      "l\n",
      "l\n",
      "h\n"
     ]
    }
   ],
   "source": [
    "for i in range(temp.shape[1]):\n",
    "    argmax = np.argmax(temp[:][0][i])\n",
    "#     print(argmax)\n",
    "    print(char_set[argmax])"
   ]
  },
  {
   "cell_type": "markdown",
   "metadata": {},
   "source": [
    "\\* 실제값"
   ]
  },
  {
   "cell_type": "code",
   "execution_count": 22,
   "metadata": {},
   "outputs": [
    {
     "name": "stdout",
     "output_type": "stream",
     "text": [
      "(1, 6, 5)\n",
      "[[[0. 0. 0. 1. 0.]\n",
      "  [0. 1. 0. 0. 0.]\n",
      "  [1. 0. 0. 0. 0.]\n",
      "  [0. 0. 0. 0. 1.]\n",
      "  [0. 0. 0. 0. 1.]\n",
      "  [0. 0. 1. 0. 0.]]]\n"
     ]
    }
   ],
   "source": [
    "print(y_train.shape)\n",
    "print(y_train)"
   ]
  },
  {
   "cell_type": "code",
   "execution_count": 23,
   "metadata": {
    "scrolled": true
   },
   "outputs": [
    {
     "name": "stdout",
     "output_type": "stream",
     "text": [
      "i\n",
      "h\n",
      "e\n",
      "l\n",
      "l\n",
      "o\n"
     ]
    }
   ],
   "source": [
    "for i in range(y_train.shape[1]):\n",
    "    argmax = np.argmax(y_train[:][0][i])\n",
    "#     print(argmax)\n",
    "    print(char_set[argmax])"
   ]
  },
  {
   "cell_type": "markdown",
   "metadata": {},
   "source": [
    "### 실습 예제 1-2)  문장 학습시켜보기\n",
    "+ 다른 Text에 대해 적용해 봅니다."
   ]
  },
  {
   "cell_type": "markdown",
   "metadata": {},
   "source": [
    "## 1. 데이터 생성하기(데이터 살펴보기 + 간단한 전처리)"
   ]
  },
  {
   "cell_type": "markdown",
   "metadata": {},
   "source": [
    "#### 1.1 유일한 문자들에 대해서 One hot encoding 합니다.\n",
    "+ 각 문자에 대해서 독립적인 벡터 형태로 표현하기 위함입니다.\n"
   ]
  },
  {
   "cell_type": "code",
   "execution_count": 24,
   "metadata": {},
   "outputs": [
    {
     "name": "stdout",
     "output_type": "stream",
     "text": [
      "sentence length :  369\n",
      "set size :  30\n",
      "char set : \n",
      " ['e', '0', 'b', 't', 'F', 'd', 'r', 'o', 'n', 'v', 'c', '2', ',', 'w', '.', 'y', 'g', 'f', 'i', ' ', 'h', 'l', 'x', 'T', 'p', 'm', 'V', 's', 'a', 'u']\n",
      "char_dic : \n",
      " {'e': 0, '0': 1, 'b': 2, 't': 3, 'F': 4, 'd': 5, 'r': 6, 'o': 7, 'n': 8, 'v': 9, 'c': 10, '2': 11, ',': 12, 'w': 13, '.': 14, 'y': 15, 'g': 16, 'f': 17, 'i': 18, ' ': 19, 'h': 20, 'l': 21, 'x': 22, 'T': 23, 'p': 24, 'm': 25, 'V': 26, 's': 27, 'a': 28, 'u': 29}\n"
     ]
    }
   ],
   "source": [
    "# sample sentence(text)\n",
    "sentence = (\"The Vision 2020 is at the core of our commitment to create a better world full of richer digital experiences, through innovative technology and products.\"\n",
    "            \"The goal of the vision is to become a beloved brand, an innovative company, and an admired company.\"\n",
    "            \"For this, we dedicate our efforts to creativity and innovation, shared value with our partners, and our great people.\")\n",
    "\n",
    "print('sentence length : ', len(sentence))\n",
    "\n",
    "# 유일한 문자들에 대해서 리스트를 만듭니다.\n",
    "# 문자열 -> 문자 리스트 ['i', 'l', 'e', 'o', 'h', ...]\n",
    "\n",
    "# set 자료형 변환, set 자료형은 중복을 허용하지 않고, 순서가 없는 형태의 자료값을 반환합니다.\n",
    "temp = set(sentence)\n",
    "# set 자료값에 대해서 list형으로 변환합니다.\n",
    "char_set = list(temp)\n",
    "\n",
    "print('set size : ', len(char_set))\n",
    "print('char set : \\n', char_set)\n",
    "\n",
    "#Class의 수(최종 출력 크기(RNN or softmax... 등의 출력 크기))\n",
    "num_classes = len(char_set)\n",
    "\n",
    "# 문자들을 key로 인덱스를 value로 갖는 딕셔너리를 만듭니다.\n",
    "\n",
    "# enumerate 내장 함수는 입력받은 자료형이 순서가 있다고 보고 순서대로 인덱스를 부여합니다.\n",
    "# 부여한 인덱스와 값을 반환합니다.\n",
    "char_dic = {w: i for i, w in enumerate(char_set)}\n",
    "print('char_dic : \\n', char_dic)"
   ]
  },
  {
   "cell_type": "markdown",
   "metadata": {},
   "source": [
    "#### 1.2 Target 데이터를 설정합니다."
   ]
  },
  {
   "cell_type": "code",
   "execution_count": 25,
   "metadata": {},
   "outputs": [],
   "source": [
    "# X data sample (index 0~n-1에 해당하는 값)\n",
    "x_str = sentence[:-1]\n",
    "# Y data sample (index 1~n에 해당하는 값) < Target >\n",
    "y_str = sentence[1:]"
   ]
  },
  {
   "cell_type": "code",
   "execution_count": 26,
   "metadata": {},
   "outputs": [],
   "source": [
    "# 문자를 인덱스값으로 변환합니다.\n",
    "x = [char_dic[c] for c in x_str]  \n",
    "y = [char_dic[c] for c in y_str]"
   ]
  },
  {
   "cell_type": "code",
   "execution_count": 27,
   "metadata": {},
   "outputs": [
    {
     "name": "stdout",
     "output_type": "stream",
     "text": [
      "x(=  The Vision 2020 is at the core of our commitment to create a better world full of richer digital experiences, through innovative technology and products.The goal of the vision is to become a beloved brand, an innovative company, and an admired company.For this, we dedicate our efforts to creativity and innovation, shared value with our partners, and our great people ) :\n",
      " [23, 20, 0, 19, 26, 18, 27, 18, 7, 8, 19, 11, 1, 11, 1, 19, 18, 27, 19, 28, 3, 19, 3, 20, 0, 19, 10, 7, 6, 0, 19, 7, 17, 19, 7, 29, 6, 19, 10, 7, 25, 25, 18, 3, 25, 0, 8, 3, 19, 3, 7, 19, 10, 6, 0, 28, 3, 0, 19, 28, 19, 2, 0, 3, 3, 0, 6, 19, 13, 7, 6, 21, 5, 19, 17, 29, 21, 21, 19, 7, 17, 19, 6, 18, 10, 20, 0, 6, 19, 5, 18, 16, 18, 3, 28, 21, 19, 0, 22, 24, 0, 6, 18, 0, 8, 10, 0, 27, 12, 19, 3, 20, 6, 7, 29, 16, 20, 19, 18, 8, 8, 7, 9, 28, 3, 18, 9, 0, 19, 3, 0, 10, 20, 8, 7, 21, 7, 16, 15, 19, 28, 8, 5, 19, 24, 6, 7, 5, 29, 10, 3, 27, 14, 23, 20, 0, 19, 16, 7, 28, 21, 19, 7, 17, 19, 3, 20, 0, 19, 9, 18, 27, 18, 7, 8, 19, 18, 27, 19, 3, 7, 19, 2, 0, 10, 7, 25, 0, 19, 28, 19, 2, 0, 21, 7, 9, 0, 5, 19, 2, 6, 28, 8, 5, 12, 19, 28, 8, 19, 18, 8, 8, 7, 9, 28, 3, 18, 9, 0, 19, 10, 7, 25, 24, 28, 8, 15, 12, 19, 28, 8, 5, 19, 28, 8, 19, 28, 5, 25, 18, 6, 0, 5, 19, 10, 7, 25, 24, 28, 8, 15, 14, 4, 7, 6, 19, 3, 20, 18, 27, 12, 19, 13, 0, 19, 5, 0, 5, 18, 10, 28, 3, 0, 19, 7, 29, 6, 19, 0, 17, 17, 7, 6, 3, 27, 19, 3, 7, 19, 10, 6, 0, 28, 3, 18, 9, 18, 3, 15, 19, 28, 8, 5, 19, 18, 8, 8, 7, 9, 28, 3, 18, 7, 8, 12, 19, 27, 20, 28, 6, 0, 5, 19, 9, 28, 21, 29, 0, 19, 13, 18, 3, 20, 19, 7, 29, 6, 19, 24, 28, 6, 3, 8, 0, 6, 27, 12, 19, 28, 8, 5, 19, 7, 29, 6, 19, 16, 6, 0, 28, 3, 19, 24, 0, 7, 24, 21, 0]\n",
      "y(=  he Vision 2020 is at the core of our commitment to create a better world full of richer digital experiences, through innovative technology and products.The goal of the vision is to become a beloved brand, an innovative company, and an admired company.For this, we dedicate our efforts to creativity and innovation, shared value with our partners, and our great people. ) :\n",
      " [20, 0, 19, 26, 18, 27, 18, 7, 8, 19, 11, 1, 11, 1, 19, 18, 27, 19, 28, 3, 19, 3, 20, 0, 19, 10, 7, 6, 0, 19, 7, 17, 19, 7, 29, 6, 19, 10, 7, 25, 25, 18, 3, 25, 0, 8, 3, 19, 3, 7, 19, 10, 6, 0, 28, 3, 0, 19, 28, 19, 2, 0, 3, 3, 0, 6, 19, 13, 7, 6, 21, 5, 19, 17, 29, 21, 21, 19, 7, 17, 19, 6, 18, 10, 20, 0, 6, 19, 5, 18, 16, 18, 3, 28, 21, 19, 0, 22, 24, 0, 6, 18, 0, 8, 10, 0, 27, 12, 19, 3, 20, 6, 7, 29, 16, 20, 19, 18, 8, 8, 7, 9, 28, 3, 18, 9, 0, 19, 3, 0, 10, 20, 8, 7, 21, 7, 16, 15, 19, 28, 8, 5, 19, 24, 6, 7, 5, 29, 10, 3, 27, 14, 23, 20, 0, 19, 16, 7, 28, 21, 19, 7, 17, 19, 3, 20, 0, 19, 9, 18, 27, 18, 7, 8, 19, 18, 27, 19, 3, 7, 19, 2, 0, 10, 7, 25, 0, 19, 28, 19, 2, 0, 21, 7, 9, 0, 5, 19, 2, 6, 28, 8, 5, 12, 19, 28, 8, 19, 18, 8, 8, 7, 9, 28, 3, 18, 9, 0, 19, 10, 7, 25, 24, 28, 8, 15, 12, 19, 28, 8, 5, 19, 28, 8, 19, 28, 5, 25, 18, 6, 0, 5, 19, 10, 7, 25, 24, 28, 8, 15, 14, 4, 7, 6, 19, 3, 20, 18, 27, 12, 19, 13, 0, 19, 5, 0, 5, 18, 10, 28, 3, 0, 19, 7, 29, 6, 19, 0, 17, 17, 7, 6, 3, 27, 19, 3, 7, 19, 10, 6, 0, 28, 3, 18, 9, 18, 3, 15, 19, 28, 8, 5, 19, 18, 8, 8, 7, 9, 28, 3, 18, 7, 8, 12, 19, 27, 20, 28, 6, 0, 5, 19, 9, 28, 21, 29, 0, 19, 13, 18, 3, 20, 19, 7, 29, 6, 19, 24, 28, 6, 3, 8, 0, 6, 27, 12, 19, 28, 8, 5, 19, 7, 29, 6, 19, 16, 6, 0, 28, 3, 19, 24, 0, 7, 24, 21, 0, 14]\n"
     ]
    }
   ],
   "source": [
    "print('x(= ',x_str,') :\\n', x)\n",
    "print('y(= ',y_str,') :\\n', y)"
   ]
  },
  {
   "cell_type": "markdown",
   "metadata": {},
   "source": [
    "#### 1.3 index에 대응되는 리스트의 값을 1로 합니다.(one-hot encoding)"
   ]
  },
  {
   "cell_type": "code",
   "execution_count": 28,
   "metadata": {},
   "outputs": [
    {
     "name": "stdout",
     "output_type": "stream",
     "text": [
      "(368, 30)\n"
     ]
    }
   ],
   "source": [
    "# One-hot encoding\n",
    "x = keras.utils.to_categorical(x, num_classes=num_classes)\n",
    "print(x.shape)"
   ]
  },
  {
   "cell_type": "code",
   "execution_count": 29,
   "metadata": {},
   "outputs": [
    {
     "name": "stdout",
     "output_type": "stream",
     "text": [
      "(368, 30)\n"
     ]
    }
   ],
   "source": [
    "# One-hot encoding\n",
    "y = keras.utils.to_categorical(y, num_classes=num_classes)\n",
    "print(y.shape)"
   ]
  },
  {
   "cell_type": "code",
   "execution_count": 30,
   "metadata": {},
   "outputs": [
    {
     "name": "stdout",
     "output_type": "stream",
     "text": [
      "x :\n",
      " [[0. 0. 0. ... 0. 0. 0.]\n",
      " [0. 0. 0. ... 0. 0. 0.]\n",
      " [1. 0. 0. ... 0. 0. 0.]\n",
      " ...\n",
      " [0. 0. 0. ... 0. 0. 0.]\n",
      " [0. 0. 0. ... 0. 0. 0.]\n",
      " [1. 0. 0. ... 0. 0. 0.]]\n",
      "y :\n",
      " [[0. 0. 0. ... 0. 0. 0.]\n",
      " [1. 0. 0. ... 0. 0. 0.]\n",
      " [0. 0. 0. ... 0. 0. 0.]\n",
      " ...\n",
      " [0. 0. 0. ... 0. 0. 0.]\n",
      " [1. 0. 0. ... 0. 0. 0.]\n",
      " [0. 0. 0. ... 0. 0. 0.]]\n"
     ]
    }
   ],
   "source": [
    "print('x :\\n', x)\n",
    "print('y :\\n', y)"
   ]
  },
  {
   "cell_type": "markdown",
   "metadata": {},
   "source": [
    "## 2. keras의 SimpleRNN을 이용해 순환신경망 만들어보기"
   ]
  },
  {
   "cell_type": "markdown",
   "metadata": {},
   "source": [
    "#### Keras 에서 RNN 을 사용하려면 입력 데이터는 (nb_samples, timesteps, input_dim) 크기를 가지는 ndim=3인 3차원 텐서(tensor) 형태이어야 합니다.\n",
    "\n",
    "+ nb_samples(= batch_size) : 자료의 수\n",
    "+ timesteps(= sequemce length) : 순서열의 길이\n",
    "+ input_dim(= data_dim) : 입력 벡터의 차원\n",
    "<br><br>\n",
    "<br><br>"
   ]
  },
  {
   "cell_type": "markdown",
   "metadata": {},
   "source": [
    "#### 2.1 입력 데이터 구조 파라미터를 설정합니다."
   ]
  },
  {
   "cell_type": "code",
   "execution_count": 31,
   "metadata": {},
   "outputs": [],
   "source": [
    "# RNN의 입력 크기(one-hot size)\n",
    "data_dim = len(char_set)\n",
    "\n",
    "#순서열의 길이\n",
    "sequence_length = len(x)# unfolding(unit 수)( = len(sentence)-1)\n",
    "\n",
    "#배치사이즈(one batch size)\n",
    "batch_size = 1\n",
    "\n",
    "# RNN cell의 출력 크기(차원)\n",
    "# hidden_size = len(char_set)"
   ]
  },
  {
   "cell_type": "markdown",
   "metadata": {},
   "source": [
    "#### 데이터 구조를 변환합니다."
   ]
  },
  {
   "cell_type": "code",
   "execution_count": 32,
   "metadata": {},
   "outputs": [
    {
     "name": "stdout",
     "output_type": "stream",
     "text": [
      "(1, 368, 30)\n"
     ]
    }
   ],
   "source": [
    "# reshape X => [samples, sequence length(time steps), features(input dim)]\n",
    "x = np.reshape(x, (-1, sequence_length, data_dim))\n",
    "print(x.shape)"
   ]
  },
  {
   "cell_type": "code",
   "execution_count": 33,
   "metadata": {},
   "outputs": [
    {
     "name": "stdout",
     "output_type": "stream",
     "text": [
      "(1, 368, 30)\n"
     ]
    }
   ],
   "source": [
    "# reshape Y => [samples, sequence length(time steps), features(input dim)]\n",
    "y = np.reshape(y, (-1, sequence_length, data_dim))\n",
    "print(y.shape)"
   ]
  },
  {
   "cell_type": "code",
   "execution_count": 34,
   "metadata": {},
   "outputs": [
    {
     "name": "stdout",
     "output_type": "stream",
     "text": [
      "x_train : [[[0. 0. 0. ... 0. 0. 0.]\n",
      "  [0. 0. 0. ... 0. 0. 0.]\n",
      "  [1. 0. 0. ... 0. 0. 0.]\n",
      "  ...\n",
      "  [0. 0. 0. ... 0. 0. 0.]\n",
      "  [0. 0. 0. ... 0. 0. 0.]\n",
      "  [1. 0. 0. ... 0. 0. 0.]]]\n",
      "y_train : [[[0. 0. 0. ... 0. 0. 0.]\n",
      "  [1. 0. 0. ... 0. 0. 0.]\n",
      "  [0. 0. 0. ... 0. 0. 0.]\n",
      "  ...\n",
      "  [0. 0. 0. ... 0. 0. 0.]\n",
      "  [1. 0. 0. ... 0. 0. 0.]\n",
      "  [0. 0. 0. ... 0. 0. 0.]]]\n"
     ]
    }
   ],
   "source": [
    "x_train = x\n",
    "y_train = y\n",
    "print('x_train :', x_train)\n",
    "print('y_train :', y_train)"
   ]
  },
  {
   "cell_type": "markdown",
   "metadata": {},
   "source": [
    "#### 2.2 학습"
   ]
  },
  {
   "cell_type": "code",
   "execution_count": 35,
   "metadata": {},
   "outputs": [],
   "source": [
    "# 입력 텐서\n",
    "# input_shape : input_length 인수로는 순서열의 길이, input_dim 인수로는 벡터의 크기를 입력합니다.\n",
    "# batch size를 제외한 크기를 입력합니다.\n",
    "input_shape = (x_train[0].shape)\n",
    "input_tensor = layers.Input(input_shape)"
   ]
  },
  {
   "cell_type": "code",
   "execution_count": 36,
   "metadata": {},
   "outputs": [],
   "source": [
    "# 가장 단순한 신경망 구조인 SimpleRNN 클래스를 사용합니다.\n",
    "# 첫번째 인수 : RNN cell 출력의 크기(차원)를 입력합니다.\n",
    "# return_sequences : 출력 시퀀스의 마지막 출력을 반환할지 아니면 전체 시퀀스를 반환할지 지정합니다.\n",
    "rnn_layer = layers.SimpleRNN(30, return_sequences=True)(input_tensor)\n",
    "\n",
    "# 입력의 모든 시간 슬라이스에 Dense 레이어를 적용합니다.\n",
    "# 데이터의 형태가 (32, 10, 16)이라고 한다면\n",
    "# 자료의 수는 32, 순서열의 길이는 10, 입력 벡터의 차원은 18이라는 것을 나타냅니다.\n",
    "# 이때 순서열 각각에 대해서 Dense 레이어를 통과시킵니다.\n",
    "# Target의 차원과 layer의 ouput의 차원을 맞춰주는 것입니다,\n",
    "output_tensor = layers.TimeDistributed(layers.Dense(num_classes, activation='softmax'))(rnn_layer)\n"
   ]
  },
  {
   "cell_type": "code",
   "execution_count": 37,
   "metadata": {},
   "outputs": [],
   "source": [
    "# 모델 컴파일.\n",
    "model2 = models.Model(input_tensor, output_tensor)\n",
    "model2.compile(optimizer = 'Adam',\n",
    "              # 범주 분류이므로 categorical_crossentropy\n",
    "             loss = 'categorical_crossentropy',\n",
    "             metrics = ['accuracy'])"
   ]
  },
  {
   "cell_type": "code",
   "execution_count": 38,
   "metadata": {},
   "outputs": [
    {
     "name": "stdout",
     "output_type": "stream",
     "text": [
      "_________________________________________________________________\n",
      "Layer (type)                 Output Shape              Param #   \n",
      "=================================================================\n",
      "input_2 (InputLayer)         (None, 368, 30)           0         \n",
      "_________________________________________________________________\n",
      "simple_rnn_2 (SimpleRNN)     (None, 368, 30)           1830      \n",
      "_________________________________________________________________\n",
      "time_distributed_2 (TimeDist (None, 368, 30)           930       \n",
      "=================================================================\n",
      "Total params: 2,760\n",
      "Trainable params: 2,760\n",
      "Non-trainable params: 0\n",
      "_________________________________________________________________\n"
     ]
    }
   ],
   "source": [
    "model2.summary()"
   ]
  },
  {
   "cell_type": "code",
   "execution_count": 39,
   "metadata": {},
   "outputs": [
    {
     "name": "stdout",
     "output_type": "stream",
     "text": [
      "Epoch 1/500\n",
      " - 0s - loss: 3.4581 - acc: 0.0435\n",
      "Epoch 2/500\n",
      " - 0s - loss: 3.4437 - acc: 0.0489\n",
      "Epoch 3/500\n",
      " - 0s - loss: 3.4296 - acc: 0.0516\n",
      "Epoch 4/500\n",
      " - 0s - loss: 3.4158 - acc: 0.0571\n",
      "Epoch 5/500\n",
      " - 0s - loss: 3.4022 - acc: 0.0679\n",
      "Epoch 6/500\n",
      " - 0s - loss: 3.3888 - acc: 0.0788\n",
      "Epoch 7/500\n",
      " - 0s - loss: 3.3755 - acc: 0.0815\n",
      "Epoch 8/500\n",
      " - 0s - loss: 3.3623 - acc: 0.0951\n",
      "Epoch 9/500\n",
      " - 0s - loss: 3.3491 - acc: 0.1033\n",
      "Epoch 10/500\n",
      " - 0s - loss: 3.3359 - acc: 0.1114\n",
      "Epoch 11/500\n",
      " - 0s - loss: 3.3226 - acc: 0.1114\n",
      "Epoch 12/500\n",
      " - 0s - loss: 3.3091 - acc: 0.1033\n",
      "Epoch 13/500\n",
      " - 0s - loss: 3.2955 - acc: 0.1060\n",
      "Epoch 14/500\n",
      " - 0s - loss: 3.2815 - acc: 0.1141\n",
      "Epoch 15/500\n",
      " - 0s - loss: 3.2672 - acc: 0.1250\n",
      "Epoch 16/500\n",
      " - 0s - loss: 3.2524 - acc: 0.1386\n",
      "Epoch 17/500\n",
      " - 0s - loss: 3.2372 - acc: 0.1332\n",
      "Epoch 18/500\n",
      " - 0s - loss: 3.2214 - acc: 0.1495\n",
      "Epoch 19/500\n",
      " - 0s - loss: 3.2052 - acc: 0.1495\n",
      "Epoch 20/500\n",
      " - 0s - loss: 3.1885 - acc: 0.1549\n",
      "Epoch 21/500\n",
      " - 0s - loss: 3.1717 - acc: 0.1603\n",
      "Epoch 22/500\n",
      " - 0s - loss: 3.1549 - acc: 0.1522\n",
      "Epoch 23/500\n",
      " - 0s - loss: 3.1386 - acc: 0.1603\n",
      "Epoch 24/500\n",
      " - 0s - loss: 3.1231 - acc: 0.1685\n",
      "Epoch 25/500\n",
      " - 0s - loss: 3.1086 - acc: 0.1685\n",
      "Epoch 26/500\n",
      " - 0s - loss: 3.0951 - acc: 0.1712\n",
      "Epoch 27/500\n",
      " - 0s - loss: 3.0824 - acc: 0.1685\n",
      "Epoch 28/500\n",
      " - 0s - loss: 3.0703 - acc: 0.1739\n",
      "Epoch 29/500\n",
      " - 0s - loss: 3.0586 - acc: 0.1821\n",
      "Epoch 30/500\n",
      " - 0s - loss: 3.0471 - acc: 0.1821\n",
      "Epoch 31/500\n",
      " - 0s - loss: 3.0357 - acc: 0.1739\n",
      "Epoch 32/500\n",
      " - 0s - loss: 3.0243 - acc: 0.1712\n",
      "Epoch 33/500\n",
      " - 0s - loss: 3.0129 - acc: 0.1739\n",
      "Epoch 34/500\n",
      " - 0s - loss: 3.0016 - acc: 0.1766\n",
      "Epoch 35/500\n",
      " - 0s - loss: 2.9905 - acc: 0.1766\n",
      "Epoch 36/500\n",
      " - 0s - loss: 2.9797 - acc: 0.1766\n",
      "Epoch 37/500\n",
      " - 0s - loss: 2.9692 - acc: 0.1739\n",
      "Epoch 38/500\n",
      " - 0s - loss: 2.9592 - acc: 0.1766\n",
      "Epoch 39/500\n",
      " - 0s - loss: 2.9495 - acc: 0.1739\n",
      "Epoch 40/500\n",
      " - 0s - loss: 2.9401 - acc: 0.1766\n",
      "Epoch 41/500\n",
      " - 0s - loss: 2.9310 - acc: 0.1739\n",
      "Epoch 42/500\n",
      " - 0s - loss: 2.9219 - acc: 0.1739\n",
      "Epoch 43/500\n",
      " - 0s - loss: 2.9129 - acc: 0.1739\n",
      "Epoch 44/500\n",
      " - 0s - loss: 2.9040 - acc: 0.1793\n",
      "Epoch 45/500\n",
      " - 0s - loss: 2.8951 - acc: 0.1848\n",
      "Epoch 46/500\n",
      " - 0s - loss: 2.8864 - acc: 0.1848\n",
      "Epoch 47/500\n",
      " - 0s - loss: 2.8777 - acc: 0.1821\n",
      "Epoch 48/500\n",
      " - 0s - loss: 2.8693 - acc: 0.1821\n",
      "Epoch 49/500\n",
      " - 0s - loss: 2.8612 - acc: 0.1848\n",
      "Epoch 50/500\n",
      " - 0s - loss: 2.8532 - acc: 0.1848\n",
      "Epoch 51/500\n",
      " - 0s - loss: 2.8453 - acc: 0.1848\n",
      "Epoch 52/500\n",
      " - 0s - loss: 2.8375 - acc: 0.1848\n",
      "Epoch 53/500\n",
      " - 0s - loss: 2.8298 - acc: 0.1848\n",
      "Epoch 54/500\n",
      " - 0s - loss: 2.8220 - acc: 0.1875\n",
      "Epoch 55/500\n",
      " - 0s - loss: 2.8142 - acc: 0.1875\n",
      "Epoch 56/500\n",
      " - 0s - loss: 2.8064 - acc: 0.1902\n",
      "Epoch 57/500\n",
      " - 0s - loss: 2.7987 - acc: 0.1957\n",
      "Epoch 58/500\n",
      " - 0s - loss: 2.7911 - acc: 0.1984\n",
      "Epoch 59/500\n",
      " - 0s - loss: 2.7836 - acc: 0.2038\n",
      "Epoch 60/500\n",
      " - 0s - loss: 2.7761 - acc: 0.2011\n",
      "Epoch 61/500\n",
      " - 0s - loss: 2.7688 - acc: 0.2038\n",
      "Epoch 62/500\n",
      " - 0s - loss: 2.7614 - acc: 0.2038\n",
      "Epoch 63/500\n",
      " - 0s - loss: 2.7541 - acc: 0.2038\n",
      "Epoch 64/500\n",
      " - 0s - loss: 2.7468 - acc: 0.2065\n",
      "Epoch 65/500\n",
      " - 0s - loss: 2.7395 - acc: 0.2092\n",
      "Epoch 66/500\n",
      " - 0s - loss: 2.7323 - acc: 0.2092\n",
      "Epoch 67/500\n",
      " - 0s - loss: 2.7251 - acc: 0.2092\n",
      "Epoch 68/500\n",
      " - 0s - loss: 2.7179 - acc: 0.2092\n",
      "Epoch 69/500\n",
      " - 0s - loss: 2.7107 - acc: 0.2174\n",
      "Epoch 70/500\n",
      " - 0s - loss: 2.7036 - acc: 0.2174\n",
      "Epoch 71/500\n",
      " - 0s - loss: 2.6965 - acc: 0.2201\n",
      "Epoch 72/500\n",
      " - 0s - loss: 2.6893 - acc: 0.2283\n",
      "Epoch 73/500\n",
      " - 0s - loss: 2.6822 - acc: 0.2283\n",
      "Epoch 74/500\n",
      " - 0s - loss: 2.6752 - acc: 0.2337\n",
      "Epoch 75/500\n",
      " - 0s - loss: 2.6680 - acc: 0.2337\n",
      "Epoch 76/500\n",
      " - 0s - loss: 2.6610 - acc: 0.2310\n",
      "Epoch 77/500\n",
      " - 0s - loss: 2.6538 - acc: 0.2310\n",
      "Epoch 78/500\n",
      " - 0s - loss: 2.6467 - acc: 0.2310\n",
      "Epoch 79/500\n",
      " - 0s - loss: 2.6397 - acc: 0.2310\n",
      "Epoch 80/500\n",
      " - 0s - loss: 2.6326 - acc: 0.2310\n",
      "Epoch 81/500\n",
      " - 0s - loss: 2.6256 - acc: 0.2283\n",
      "Epoch 82/500\n",
      " - 0s - loss: 2.6185 - acc: 0.2337\n",
      "Epoch 83/500\n",
      " - 0s - loss: 2.6114 - acc: 0.2391\n",
      "Epoch 84/500\n",
      " - 0s - loss: 2.6044 - acc: 0.2473\n",
      "Epoch 85/500\n",
      " - 0s - loss: 2.5973 - acc: 0.2500\n",
      "Epoch 86/500\n",
      " - 0s - loss: 2.5903 - acc: 0.2527\n",
      "Epoch 87/500\n",
      " - 0s - loss: 2.5832 - acc: 0.2554\n",
      "Epoch 88/500\n",
      " - 0s - loss: 2.5761 - acc: 0.2582\n",
      "Epoch 89/500\n",
      " - 0s - loss: 2.5690 - acc: 0.2582\n",
      "Epoch 90/500\n",
      " - 0s - loss: 2.5619 - acc: 0.2582\n",
      "Epoch 91/500\n",
      " - 0s - loss: 2.5547 - acc: 0.2582\n",
      "Epoch 92/500\n",
      " - 0s - loss: 2.5476 - acc: 0.2636\n",
      "Epoch 93/500\n",
      " - 0s - loss: 2.5403 - acc: 0.2663\n",
      "Epoch 94/500\n",
      " - 0s - loss: 2.5331 - acc: 0.2799\n",
      "Epoch 95/500\n",
      " - 0s - loss: 2.5259 - acc: 0.2853\n",
      "Epoch 96/500\n",
      " - 0s - loss: 2.5187 - acc: 0.2908\n",
      "Epoch 97/500\n",
      " - 0s - loss: 2.5115 - acc: 0.2935\n",
      "Epoch 98/500\n",
      " - 0s - loss: 2.5042 - acc: 0.2935\n",
      "Epoch 99/500\n",
      " - 0s - loss: 2.4970 - acc: 0.2962\n",
      "Epoch 100/500\n",
      " - 0s - loss: 2.4897 - acc: 0.2989\n",
      "Epoch 101/500\n",
      " - 0s - loss: 2.4824 - acc: 0.3016\n",
      "Epoch 102/500\n",
      " - 0s - loss: 2.4752 - acc: 0.3016\n",
      "Epoch 103/500\n",
      " - 0s - loss: 2.4679 - acc: 0.3043\n",
      "Epoch 104/500\n",
      " - 0s - loss: 2.4607 - acc: 0.3016\n",
      "Epoch 105/500\n",
      " - 0s - loss: 2.4534 - acc: 0.3016\n",
      "Epoch 106/500\n",
      " - 0s - loss: 2.4461 - acc: 0.3071\n",
      "Epoch 107/500\n",
      " - 0s - loss: 2.4387 - acc: 0.3098\n",
      "Epoch 108/500\n",
      " - 0s - loss: 2.4314 - acc: 0.3125\n",
      "Epoch 109/500\n",
      " - 0s - loss: 2.4240 - acc: 0.3125\n",
      "Epoch 110/500\n",
      " - 0s - loss: 2.4166 - acc: 0.3179\n",
      "Epoch 111/500\n",
      " - 0s - loss: 2.4091 - acc: 0.3179\n",
      "Epoch 112/500\n",
      " - 0s - loss: 2.4016 - acc: 0.3207\n",
      "Epoch 113/500\n",
      " - 0s - loss: 2.3941 - acc: 0.3207\n",
      "Epoch 114/500\n",
      " - 0s - loss: 2.3865 - acc: 0.3234\n",
      "Epoch 115/500\n",
      " - 0s - loss: 2.3789 - acc: 0.3234\n",
      "Epoch 116/500\n",
      " - 0s - loss: 2.3713 - acc: 0.3234\n",
      "Epoch 117/500\n",
      " - 0s - loss: 2.3636 - acc: 0.3261\n",
      "Epoch 118/500\n",
      " - 0s - loss: 2.3559 - acc: 0.3315\n",
      "Epoch 119/500\n",
      " - 0s - loss: 2.3481 - acc: 0.3370\n",
      "Epoch 120/500\n",
      " - 0s - loss: 2.3404 - acc: 0.3397\n",
      "Epoch 121/500\n",
      " - 0s - loss: 2.3326 - acc: 0.3397\n",
      "Epoch 122/500\n",
      " - 0s - loss: 2.3248 - acc: 0.3451\n",
      "Epoch 123/500\n",
      " - 0s - loss: 2.3174 - acc: 0.3505\n",
      "Epoch 124/500\n",
      " - 0s - loss: 2.3108 - acc: 0.3451\n",
      "Epoch 125/500\n",
      " - 0s - loss: 2.3052 - acc: 0.3505\n",
      "Epoch 126/500\n",
      " - 0s - loss: 2.2954 - acc: 0.3505\n",
      "Epoch 127/500\n",
      " - 0s - loss: 2.2929 - acc: 0.3370\n",
      "Epoch 128/500\n",
      " - 0s - loss: 2.2806 - acc: 0.3478\n",
      "Epoch 129/500\n",
      " - 0s - loss: 2.2758 - acc: 0.3505\n",
      "Epoch 130/500\n",
      " - 0s - loss: 2.2666 - acc: 0.3533\n",
      "Epoch 131/500\n",
      " - 0s - loss: 2.2623 - acc: 0.3478\n",
      "Epoch 132/500\n",
      " - 0s - loss: 2.2522 - acc: 0.3668\n",
      "Epoch 133/500\n",
      " - 0s - loss: 2.2470 - acc: 0.3641\n",
      "Epoch 134/500\n",
      " - 0s - loss: 2.2391 - acc: 0.3696\n",
      "Epoch 135/500\n",
      " - 0s - loss: 2.2325 - acc: 0.3696\n",
      "Epoch 136/500\n",
      " - 0s - loss: 2.2246 - acc: 0.3696\n",
      "Epoch 137/500\n",
      " - 0s - loss: 2.2184 - acc: 0.3696\n",
      "Epoch 138/500\n",
      " - 0s - loss: 2.2109 - acc: 0.3696\n",
      "Epoch 139/500\n",
      " - 0s - loss: 2.2044 - acc: 0.3750\n",
      "Epoch 140/500\n",
      " - 0s - loss: 2.1967 - acc: 0.3832\n",
      "Epoch 141/500\n",
      " - 0s - loss: 2.1905 - acc: 0.3777\n",
      "Epoch 142/500\n",
      " - 0s - loss: 2.1830 - acc: 0.3777\n",
      "Epoch 143/500\n",
      " - 0s - loss: 2.1769 - acc: 0.3832\n",
      "Epoch 144/500\n",
      " - 0s - loss: 2.1691 - acc: 0.3804\n",
      "Epoch 145/500\n",
      " - 0s - loss: 2.1628 - acc: 0.3832\n",
      "Epoch 146/500\n",
      " - 0s - loss: 2.1556 - acc: 0.3913\n",
      "Epoch 147/500\n",
      " - 0s - loss: 2.1485 - acc: 0.3940\n",
      "Epoch 148/500\n",
      " - 0s - loss: 2.1421 - acc: 0.4022\n",
      "Epoch 149/500\n",
      " - 0s - loss: 2.1349 - acc: 0.3913\n",
      "Epoch 150/500\n",
      " - 0s - loss: 2.1280 - acc: 0.3940\n",
      "Epoch 151/500\n",
      " - 0s - loss: 2.1216 - acc: 0.3967\n",
      "Epoch 152/500\n",
      " - 0s - loss: 2.1147 - acc: 0.4049\n",
      "Epoch 153/500\n",
      " - 0s - loss: 2.1078 - acc: 0.3995\n",
      "Epoch 154/500\n",
      " - 0s - loss: 2.1008 - acc: 0.3967\n",
      "Epoch 155/500\n",
      " - 0s - loss: 2.0940 - acc: 0.3995\n",
      "Epoch 156/500\n",
      " - 0s - loss: 2.0872 - acc: 0.3995\n",
      "Epoch 157/500\n",
      " - 0s - loss: 2.0804 - acc: 0.4022\n",
      "Epoch 158/500\n",
      " - 0s - loss: 2.0737 - acc: 0.4049\n",
      "Epoch 159/500\n",
      " - 0s - loss: 2.0669 - acc: 0.4049\n",
      "Epoch 160/500\n",
      " - 0s - loss: 2.0608 - acc: 0.4076\n",
      "Epoch 161/500\n",
      " - 0s - loss: 2.0605 - acc: 0.4212\n",
      "Epoch 162/500\n",
      " - 0s - loss: 2.0503 - acc: 0.4130\n",
      "Epoch 163/500\n",
      " - 0s - loss: 2.0427 - acc: 0.4185\n",
      "Epoch 164/500\n",
      " - 0s - loss: 2.0353 - acc: 0.4158\n",
      "Epoch 165/500\n",
      " - 0s - loss: 2.0283 - acc: 0.4158\n",
      "Epoch 166/500\n",
      " - 0s - loss: 2.0228 - acc: 0.4130\n",
      "Epoch 167/500\n",
      " - 0s - loss: 2.0248 - acc: 0.4348\n",
      "Epoch 168/500\n",
      " - 0s - loss: 2.0157 - acc: 0.4293\n",
      "Epoch 169/500\n",
      " - 0s - loss: 2.0071 - acc: 0.4212\n",
      "Epoch 170/500\n",
      " - 0s - loss: 2.0013 - acc: 0.4293\n"
     ]
    },
    {
     "name": "stdout",
     "output_type": "stream",
     "text": [
      "Epoch 171/500\n",
      " - 0s - loss: 1.9972 - acc: 0.4266\n",
      "Epoch 172/500\n",
      " - 0s - loss: 1.9907 - acc: 0.4402\n",
      "Epoch 173/500\n",
      " - 0s - loss: 1.9858 - acc: 0.4429\n",
      "Epoch 174/500\n",
      " - 0s - loss: 1.9781 - acc: 0.4429\n",
      "Epoch 175/500\n",
      " - 0s - loss: 1.9735 - acc: 0.4484\n",
      "Epoch 176/500\n",
      " - 0s - loss: 1.9668 - acc: 0.4620\n",
      "Epoch 177/500\n",
      " - 0s - loss: 1.9614 - acc: 0.4592\n",
      "Epoch 178/500\n",
      " - 0s - loss: 1.9575 - acc: 0.4565\n",
      "Epoch 179/500\n",
      " - 0s - loss: 1.9507 - acc: 0.4511\n",
      "Epoch 180/500\n",
      " - 0s - loss: 1.9443 - acc: 0.4647\n",
      "Epoch 181/500\n",
      " - 0s - loss: 1.9416 - acc: 0.4647\n",
      "Epoch 182/500\n",
      " - 0s - loss: 1.9337 - acc: 0.4592\n",
      "Epoch 183/500\n",
      " - 0s - loss: 1.9291 - acc: 0.4538\n",
      "Epoch 184/500\n",
      " - 0s - loss: 1.9237 - acc: 0.4484\n",
      "Epoch 185/500\n",
      " - 0s - loss: 1.9185 - acc: 0.4701\n",
      "Epoch 186/500\n",
      " - 0s - loss: 1.9122 - acc: 0.4701\n",
      "Epoch 187/500\n",
      " - 0s - loss: 1.9076 - acc: 0.4674\n",
      "Epoch 188/500\n",
      " - 0s - loss: 1.9020 - acc: 0.4620\n",
      "Epoch 189/500\n",
      " - 0s - loss: 1.8977 - acc: 0.4674\n",
      "Epoch 190/500\n",
      " - 0s - loss: 1.8947 - acc: 0.4864\n",
      "Epoch 191/500\n",
      " - 0s - loss: 1.8868 - acc: 0.4701\n",
      "Epoch 192/500\n",
      " - 0s - loss: 1.8822 - acc: 0.4701\n",
      "Epoch 193/500\n",
      " - 0s - loss: 1.8817 - acc: 0.5000\n",
      "Epoch 194/500\n",
      " - 0s - loss: 1.8736 - acc: 0.4918\n",
      "Epoch 195/500\n",
      " - 0s - loss: 1.8697 - acc: 0.4728\n",
      "Epoch 196/500\n",
      " - 0s - loss: 1.8640 - acc: 0.4837\n",
      "Epoch 197/500\n",
      " - 0s - loss: 1.8577 - acc: 0.4973\n",
      "Epoch 198/500\n",
      " - 0s - loss: 1.8551 - acc: 0.4864\n",
      "Epoch 199/500\n",
      " - 0s - loss: 1.8497 - acc: 0.4918\n",
      "Epoch 200/500\n",
      " - 0s - loss: 1.8452 - acc: 0.4918\n",
      "Epoch 201/500\n",
      " - 0s - loss: 1.8387 - acc: 0.5082\n",
      "Epoch 202/500\n",
      " - 0s - loss: 1.8389 - acc: 0.4810\n",
      "Epoch 203/500\n",
      " - 0s - loss: 1.8388 - acc: 0.4946\n",
      "Epoch 204/500\n",
      " - 0s - loss: 1.8260 - acc: 0.4973\n",
      "Epoch 205/500\n",
      " - 0s - loss: 1.8282 - acc: 0.4973\n",
      "Epoch 206/500\n",
      " - 0s - loss: 1.8175 - acc: 0.5109\n",
      "Epoch 207/500\n",
      " - 0s - loss: 1.8143 - acc: 0.4973\n",
      "Epoch 208/500\n",
      " - 0s - loss: 1.8113 - acc: 0.4891\n",
      "Epoch 209/500\n",
      " - 0s - loss: 1.8047 - acc: 0.5000\n",
      "Epoch 210/500\n",
      " - 0s - loss: 1.7994 - acc: 0.4973\n",
      "Epoch 211/500\n",
      " - 0s - loss: 1.7934 - acc: 0.5082\n",
      "Epoch 212/500\n",
      " - 0s - loss: 1.7903 - acc: 0.5082\n",
      "Epoch 213/500\n",
      " - 0s - loss: 1.7851 - acc: 0.5054\n",
      "Epoch 214/500\n",
      " - 0s - loss: 1.7802 - acc: 0.5054\n",
      "Epoch 215/500\n",
      " - 0s - loss: 1.7762 - acc: 0.5027\n",
      "Epoch 216/500\n",
      " - 0s - loss: 1.7707 - acc: 0.5054\n",
      "Epoch 217/500\n",
      " - 0s - loss: 1.7658 - acc: 0.5082\n",
      "Epoch 218/500\n",
      " - 0s - loss: 1.7619 - acc: 0.5082\n",
      "Epoch 219/500\n",
      " - 0s - loss: 1.7572 - acc: 0.5109\n",
      "Epoch 220/500\n",
      " - 0s - loss: 1.7530 - acc: 0.5217\n",
      "Epoch 221/500\n",
      " - 0s - loss: 1.7503 - acc: 0.5136\n",
      "Epoch 222/500\n",
      " - 0s - loss: 1.7534 - acc: 0.5163\n",
      "Epoch 223/500\n",
      " - 0s - loss: 1.7505 - acc: 0.5136\n",
      "Epoch 224/500\n",
      " - 0s - loss: 1.7529 - acc: 0.5299\n",
      "Epoch 225/500\n",
      " - 0s - loss: 1.7389 - acc: 0.5217\n",
      "Epoch 226/500\n",
      " - 0s - loss: 1.7372 - acc: 0.5272\n",
      "Epoch 227/500\n",
      " - 0s - loss: 1.7290 - acc: 0.5299\n",
      "Epoch 228/500\n",
      " - 0s - loss: 1.7266 - acc: 0.5272\n",
      "Epoch 229/500\n",
      " - 0s - loss: 1.7213 - acc: 0.5245\n",
      "Epoch 230/500\n",
      " - 0s - loss: 1.7179 - acc: 0.5136\n",
      "Epoch 231/500\n",
      " - 0s - loss: 1.7131 - acc: 0.5272\n",
      "Epoch 232/500\n",
      " - 0s - loss: 1.7097 - acc: 0.5299\n",
      "Epoch 233/500\n",
      " - 0s - loss: 1.7036 - acc: 0.5353\n",
      "Epoch 234/500\n",
      " - 0s - loss: 1.6990 - acc: 0.5272\n",
      "Epoch 235/500\n",
      " - 0s - loss: 1.6953 - acc: 0.5299\n",
      "Epoch 236/500\n",
      " - 0s - loss: 1.6908 - acc: 0.5326\n",
      "Epoch 237/500\n",
      " - 0s - loss: 1.6858 - acc: 0.5408\n",
      "Epoch 238/500\n",
      " - 0s - loss: 1.6827 - acc: 0.5435\n",
      "Epoch 239/500\n",
      " - 0s - loss: 1.6787 - acc: 0.5408\n",
      "Epoch 240/500\n",
      " - 0s - loss: 1.6741 - acc: 0.5353\n",
      "Epoch 241/500\n",
      " - 0s - loss: 1.6692 - acc: 0.5408\n",
      "Epoch 242/500\n",
      " - 0s - loss: 1.6651 - acc: 0.5543\n",
      "Epoch 243/500\n",
      " - 0s - loss: 1.6616 - acc: 0.5516\n",
      "Epoch 244/500\n",
      " - 0s - loss: 1.6573 - acc: 0.5516\n",
      "Epoch 245/500\n",
      " - 0s - loss: 1.6527 - acc: 0.5571\n",
      "Epoch 246/500\n",
      " - 0s - loss: 1.6481 - acc: 0.5598\n",
      "Epoch 247/500\n",
      " - 0s - loss: 1.6440 - acc: 0.5625\n",
      "Epoch 248/500\n",
      " - 0s - loss: 1.6406 - acc: 0.5679\n",
      "Epoch 249/500\n",
      " - 0s - loss: 1.6367 - acc: 0.5679\n",
      "Epoch 250/500\n",
      " - 0s - loss: 1.6322 - acc: 0.5679\n",
      "Epoch 251/500\n",
      " - 0s - loss: 1.6281 - acc: 0.5707\n",
      "Epoch 252/500\n",
      " - 0s - loss: 1.6249 - acc: 0.5679\n",
      "Epoch 253/500\n",
      " - 0s - loss: 1.6218 - acc: 0.5598\n",
      "Epoch 254/500\n",
      " - 0s - loss: 1.6181 - acc: 0.5707\n",
      "Epoch 255/500\n",
      " - 0s - loss: 1.6142 - acc: 0.5679\n",
      "Epoch 256/500\n",
      " - 0s - loss: 1.6127 - acc: 0.5734\n",
      "Epoch 257/500\n",
      " - 0s - loss: 1.6127 - acc: 0.5625\n",
      "Epoch 258/500\n",
      " - 0s - loss: 1.7627 - acc: 0.5217\n",
      "Epoch 259/500\n",
      " - 0s - loss: 1.6459 - acc: 0.5679\n",
      "Epoch 260/500\n",
      " - 0s - loss: 1.6638 - acc: 0.5598\n",
      "Epoch 261/500\n",
      " - 0s - loss: 1.8450 - acc: 0.4810\n",
      "Epoch 262/500\n",
      " - 0s - loss: 1.7909 - acc: 0.4783\n",
      "Epoch 263/500\n",
      " - 0s - loss: 1.7894 - acc: 0.4620\n",
      "Epoch 264/500\n",
      " - 0s - loss: 1.8228 - acc: 0.4293\n",
      "Epoch 265/500\n",
      " - 0s - loss: 1.8473 - acc: 0.4321\n",
      "Epoch 266/500\n",
      " - 0s - loss: 1.8728 - acc: 0.4321\n",
      "Epoch 267/500\n",
      " - 0s - loss: 1.8966 - acc: 0.4348\n",
      "Epoch 268/500\n",
      " - 0s - loss: 1.9017 - acc: 0.4293\n",
      "Epoch 269/500\n",
      " - 0s - loss: 1.8893 - acc: 0.4266\n",
      "Epoch 270/500\n",
      " - 0s - loss: 1.8679 - acc: 0.4321\n",
      "Epoch 271/500\n",
      " - 0s - loss: 1.8484 - acc: 0.4375\n",
      "Epoch 272/500\n",
      " - 0s - loss: 1.8329 - acc: 0.4348\n",
      "Epoch 273/500\n",
      " - 0s - loss: 1.8197 - acc: 0.4402\n",
      "Epoch 274/500\n",
      " - 0s - loss: 1.8050 - acc: 0.4538\n",
      "Epoch 275/500\n",
      " - 0s - loss: 1.7867 - acc: 0.4701\n",
      "Epoch 276/500\n",
      " - 0s - loss: 1.7657 - acc: 0.4783\n",
      "Epoch 277/500\n",
      " - 0s - loss: 1.7453 - acc: 0.4810\n",
      "Epoch 278/500\n",
      " - 0s - loss: 1.7292 - acc: 0.4973\n",
      "Epoch 279/500\n",
      " - 0s - loss: 1.7172 - acc: 0.5082\n",
      "Epoch 280/500\n",
      " - 0s - loss: 1.7079 - acc: 0.5109\n",
      "Epoch 281/500\n",
      " - 0s - loss: 1.7002 - acc: 0.5163\n",
      "Epoch 282/500\n",
      " - 0s - loss: 1.6929 - acc: 0.5163\n",
      "Epoch 283/500\n",
      " - 0s - loss: 1.6851 - acc: 0.5217\n",
      "Epoch 284/500\n",
      " - 0s - loss: 1.6768 - acc: 0.5245\n",
      "Epoch 285/500\n",
      " - 0s - loss: 1.6683 - acc: 0.5245\n",
      "Epoch 286/500\n",
      " - 0s - loss: 1.6604 - acc: 0.5217\n",
      "Epoch 287/500\n",
      " - 0s - loss: 1.6534 - acc: 0.5190\n",
      "Epoch 288/500\n",
      " - 0s - loss: 1.6470 - acc: 0.5245\n",
      "Epoch 289/500\n",
      " - 0s - loss: 1.6411 - acc: 0.5353\n",
      "Epoch 290/500\n",
      " - 0s - loss: 1.6349 - acc: 0.5435\n",
      "Epoch 291/500\n",
      " - 0s - loss: 1.6283 - acc: 0.5435\n",
      "Epoch 292/500\n",
      " - 0s - loss: 1.6215 - acc: 0.5435\n",
      "Epoch 293/500\n",
      " - 0s - loss: 1.6148 - acc: 0.5435\n",
      "Epoch 294/500\n",
      " - 0s - loss: 1.6086 - acc: 0.5489\n",
      "Epoch 295/500\n",
      " - 0s - loss: 1.6028 - acc: 0.5598\n",
      "Epoch 296/500\n",
      " - 0s - loss: 1.5975 - acc: 0.5625\n",
      "Epoch 297/500\n",
      " - 0s - loss: 1.5924 - acc: 0.5679\n",
      "Epoch 298/500\n",
      " - 0s - loss: 1.5875 - acc: 0.5679\n",
      "Epoch 299/500\n",
      " - 0s - loss: 1.5825 - acc: 0.5679\n",
      "Epoch 300/500\n",
      " - 0s - loss: 1.5772 - acc: 0.5652\n",
      "Epoch 301/500\n",
      " - 0s - loss: 1.5716 - acc: 0.5707\n",
      "Epoch 302/500\n",
      " - 0s - loss: 1.5661 - acc: 0.5734\n",
      "Epoch 303/500\n",
      " - 0s - loss: 1.5610 - acc: 0.5761\n",
      "Epoch 304/500\n",
      " - 0s - loss: 1.5562 - acc: 0.5707\n",
      "Epoch 305/500\n",
      " - 0s - loss: 1.5518 - acc: 0.5707\n",
      "Epoch 306/500\n",
      " - 0s - loss: 1.5475 - acc: 0.5734\n",
      "Epoch 307/500\n",
      " - 0s - loss: 1.5434 - acc: 0.5842\n",
      "Epoch 308/500\n",
      " - 0s - loss: 1.5392 - acc: 0.5870\n",
      "Epoch 309/500\n",
      " - 0s - loss: 1.5350 - acc: 0.5924\n",
      "Epoch 310/500\n",
      " - 0s - loss: 1.5308 - acc: 0.5951\n",
      "Epoch 311/500\n",
      " - 0s - loss: 1.5267 - acc: 0.5951\n",
      "Epoch 312/500\n",
      " - 0s - loss: 1.5226 - acc: 0.5978\n",
      "Epoch 313/500\n",
      " - 0s - loss: 1.5186 - acc: 0.6060\n",
      "Epoch 314/500\n",
      " - 0s - loss: 1.5147 - acc: 0.6087\n",
      "Epoch 315/500\n",
      " - 0s - loss: 1.5110 - acc: 0.6114\n",
      "Epoch 316/500\n",
      " - 0s - loss: 1.5072 - acc: 0.6087\n",
      "Epoch 317/500\n",
      " - 0s - loss: 1.5035 - acc: 0.6005\n",
      "Epoch 318/500\n",
      " - 0s - loss: 1.4997 - acc: 0.6005\n",
      "Epoch 319/500\n",
      " - 0s - loss: 1.4961 - acc: 0.5978\n",
      "Epoch 320/500\n",
      " - 0s - loss: 1.4925 - acc: 0.6033\n",
      "Epoch 321/500\n",
      " - 0s - loss: 1.4891 - acc: 0.6033\n",
      "Epoch 322/500\n",
      " - 0s - loss: 1.4858 - acc: 0.6005\n",
      "Epoch 323/500\n",
      " - 0s - loss: 1.4825 - acc: 0.6005\n",
      "Epoch 324/500\n",
      " - 0s - loss: 1.4792 - acc: 0.5978\n",
      "Epoch 325/500\n",
      " - 0s - loss: 1.4760 - acc: 0.5978\n",
      "Epoch 326/500\n",
      " - 0s - loss: 1.4728 - acc: 0.6005\n",
      "Epoch 327/500\n",
      " - 0s - loss: 1.4696 - acc: 0.6060\n",
      "Epoch 328/500\n",
      " - 0s - loss: 1.4664 - acc: 0.6114\n",
      "Epoch 329/500\n",
      " - 0s - loss: 1.4633 - acc: 0.6168\n",
      "Epoch 330/500\n",
      " - 0s - loss: 1.4602 - acc: 0.6196\n",
      "Epoch 331/500\n",
      " - 0s - loss: 1.4571 - acc: 0.6223\n",
      "Epoch 332/500\n",
      " - 0s - loss: 1.4540 - acc: 0.6277\n",
      "Epoch 333/500\n",
      " - 0s - loss: 1.4509 - acc: 0.6277\n",
      "Epoch 334/500\n",
      " - 0s - loss: 1.4479 - acc: 0.6304\n",
      "Epoch 335/500\n",
      " - 0s - loss: 1.4449 - acc: 0.6304\n",
      "Epoch 336/500\n",
      " - 0s - loss: 1.4419 - acc: 0.6304\n",
      "Epoch 337/500\n",
      " - 0s - loss: 1.4389 - acc: 0.6332\n",
      "Epoch 338/500\n"
     ]
    },
    {
     "name": "stdout",
     "output_type": "stream",
     "text": [
      " - 0s - loss: 1.4359 - acc: 0.6386\n",
      "Epoch 339/500\n",
      " - 0s - loss: 1.4329 - acc: 0.6413\n",
      "Epoch 340/500\n",
      " - 0s - loss: 1.4300 - acc: 0.6440\n",
      "Epoch 341/500\n",
      " - 0s - loss: 1.4271 - acc: 0.6467\n",
      "Epoch 342/500\n",
      " - 0s - loss: 1.4242 - acc: 0.6467\n",
      "Epoch 343/500\n",
      " - 0s - loss: 1.4213 - acc: 0.6495\n",
      "Epoch 344/500\n",
      " - 0s - loss: 1.4184 - acc: 0.6495\n",
      "Epoch 345/500\n",
      " - 0s - loss: 1.4155 - acc: 0.6495\n",
      "Epoch 346/500\n",
      " - 0s - loss: 1.4127 - acc: 0.6495\n",
      "Epoch 347/500\n",
      " - 0s - loss: 1.4099 - acc: 0.6467\n",
      "Epoch 348/500\n",
      " - 0s - loss: 1.4070 - acc: 0.6467\n",
      "Epoch 349/500\n",
      " - 0s - loss: 1.4042 - acc: 0.6495\n",
      "Epoch 350/500\n",
      " - 0s - loss: 1.4014 - acc: 0.6522\n",
      "Epoch 351/500\n",
      " - 0s - loss: 1.3986 - acc: 0.6522\n",
      "Epoch 352/500\n",
      " - 0s - loss: 1.3959 - acc: 0.6549\n",
      "Epoch 353/500\n",
      " - 0s - loss: 1.3931 - acc: 0.6549\n",
      "Epoch 354/500\n",
      " - 0s - loss: 1.3903 - acc: 0.6549\n",
      "Epoch 355/500\n",
      " - 0s - loss: 1.3876 - acc: 0.6549\n",
      "Epoch 356/500\n",
      " - 0s - loss: 1.3848 - acc: 0.6549\n",
      "Epoch 357/500\n",
      " - 0s - loss: 1.3821 - acc: 0.6549\n",
      "Epoch 358/500\n",
      " - 0s - loss: 1.3794 - acc: 0.6549\n",
      "Epoch 359/500\n",
      " - 0s - loss: 1.3766 - acc: 0.6549\n",
      "Epoch 360/500\n",
      " - 0s - loss: 1.3739 - acc: 0.6576\n",
      "Epoch 361/500\n",
      " - 0s - loss: 1.3712 - acc: 0.6576\n",
      "Epoch 362/500\n",
      " - 0s - loss: 1.3685 - acc: 0.6576\n",
      "Epoch 363/500\n",
      " - 0s - loss: 1.3658 - acc: 0.6549\n",
      "Epoch 364/500\n",
      " - 0s - loss: 1.3632 - acc: 0.6576\n",
      "Epoch 365/500\n",
      " - 0s - loss: 1.3605 - acc: 0.6576\n",
      "Epoch 366/500\n",
      " - 0s - loss: 1.3578 - acc: 0.6576\n",
      "Epoch 367/500\n",
      " - 0s - loss: 1.3551 - acc: 0.6658\n",
      "Epoch 368/500\n",
      " - 0s - loss: 1.3525 - acc: 0.6658\n",
      "Epoch 369/500\n",
      " - 0s - loss: 1.3498 - acc: 0.6658\n",
      "Epoch 370/500\n",
      " - 0s - loss: 1.3472 - acc: 0.6658\n",
      "Epoch 371/500\n",
      " - 0s - loss: 1.3445 - acc: 0.6630\n",
      "Epoch 372/500\n",
      " - 0s - loss: 1.3419 - acc: 0.6630\n",
      "Epoch 373/500\n",
      " - 0s - loss: 1.3393 - acc: 0.6658\n",
      "Epoch 374/500\n",
      " - 0s - loss: 1.3367 - acc: 0.6658\n",
      "Epoch 375/500\n",
      " - 0s - loss: 1.3340 - acc: 0.6685\n",
      "Epoch 376/500\n",
      " - 0s - loss: 1.3314 - acc: 0.6712\n",
      "Epoch 377/500\n",
      " - 0s - loss: 1.3288 - acc: 0.6712\n",
      "Epoch 378/500\n",
      " - 0s - loss: 1.3262 - acc: 0.6712\n",
      "Epoch 379/500\n",
      " - 0s - loss: 1.3236 - acc: 0.6712\n",
      "Epoch 380/500\n",
      " - 0s - loss: 1.3210 - acc: 0.6712\n",
      "Epoch 381/500\n",
      " - 0s - loss: 1.3184 - acc: 0.6712\n",
      "Epoch 382/500\n",
      " - 0s - loss: 1.3158 - acc: 0.6766\n",
      "Epoch 383/500\n",
      " - 0s - loss: 1.3133 - acc: 0.6766\n",
      "Epoch 384/500\n",
      " - 0s - loss: 1.3107 - acc: 0.6766\n",
      "Epoch 385/500\n",
      " - 0s - loss: 1.3081 - acc: 0.6766\n",
      "Epoch 386/500\n",
      " - 0s - loss: 1.3055 - acc: 0.6766\n",
      "Epoch 387/500\n",
      " - 0s - loss: 1.3030 - acc: 0.6766\n",
      "Epoch 388/500\n",
      " - 0s - loss: 1.3004 - acc: 0.6766\n",
      "Epoch 389/500\n",
      " - 0s - loss: 1.2979 - acc: 0.6766\n",
      "Epoch 390/500\n",
      " - 0s - loss: 1.2953 - acc: 0.6793\n",
      "Epoch 391/500\n",
      " - 0s - loss: 1.2929 - acc: 0.6766\n",
      "Epoch 392/500\n",
      " - 0s - loss: 1.2907 - acc: 0.6793\n",
      "Epoch 393/500\n",
      " - 0s - loss: 1.2887 - acc: 0.6793\n",
      "Epoch 394/500\n",
      " - 0s - loss: 1.2887 - acc: 0.6793\n",
      "Epoch 395/500\n",
      " - 0s - loss: 1.2831 - acc: 0.6793\n",
      "Epoch 396/500\n",
      " - 0s - loss: 1.2875 - acc: 0.6739\n",
      "Epoch 397/500\n",
      " - 0s - loss: 1.2865 - acc: 0.6793\n",
      "Epoch 398/500\n",
      " - 0s - loss: 1.2905 - acc: 0.6793\n",
      "Epoch 399/500\n",
      " - 0s - loss: 1.2879 - acc: 0.6766\n",
      "Epoch 400/500\n",
      " - 0s - loss: 1.2811 - acc: 0.6821\n",
      "Epoch 401/500\n",
      " - 0s - loss: 1.2756 - acc: 0.6793\n",
      "Epoch 402/500\n",
      " - 0s - loss: 1.2722 - acc: 0.6929\n",
      "Epoch 403/500\n",
      " - 0s - loss: 1.2700 - acc: 0.6957\n",
      "Epoch 404/500\n",
      " - 0s - loss: 1.2696 - acc: 0.6848\n",
      "Epoch 405/500\n",
      " - 0s - loss: 1.2661 - acc: 0.6929\n",
      "Epoch 406/500\n",
      " - 0s - loss: 1.2615 - acc: 0.6902\n",
      "Epoch 407/500\n",
      " - 0s - loss: 1.2588 - acc: 0.6929\n",
      "Epoch 408/500\n",
      " - 0s - loss: 1.2563 - acc: 0.6957\n",
      "Epoch 409/500\n",
      " - 0s - loss: 1.2544 - acc: 0.6902\n",
      "Epoch 410/500\n",
      " - 0s - loss: 1.2523 - acc: 0.6929\n",
      "Epoch 411/500\n",
      " - 0s - loss: 1.2485 - acc: 0.6984\n",
      "Epoch 412/500\n",
      " - 0s - loss: 1.2451 - acc: 0.6902\n",
      "Epoch 413/500\n",
      " - 0s - loss: 1.2423 - acc: 0.6902\n",
      "Epoch 414/500\n",
      " - 0s - loss: 1.2395 - acc: 0.6984\n",
      "Epoch 415/500\n",
      " - 0s - loss: 1.2382 - acc: 0.6984\n",
      "Epoch 416/500\n",
      " - 0s - loss: 1.2350 - acc: 0.7011\n",
      "Epoch 417/500\n",
      " - 0s - loss: 1.2320 - acc: 0.7038\n",
      "Epoch 418/500\n",
      " - 0s - loss: 1.2297 - acc: 0.6957\n",
      "Epoch 419/500\n",
      " - 0s - loss: 1.2269 - acc: 0.6929\n",
      "Epoch 420/500\n",
      " - 0s - loss: 1.2246 - acc: 0.6957\n",
      "Epoch 421/500\n",
      " - 0s - loss: 1.2220 - acc: 0.6957\n",
      "Epoch 422/500\n",
      " - 0s - loss: 1.2196 - acc: 0.6929\n",
      "Epoch 423/500\n",
      " - 0s - loss: 1.2165 - acc: 0.7011\n",
      "Epoch 424/500\n",
      " - 0s - loss: 1.2145 - acc: 0.6984\n",
      "Epoch 425/500\n",
      " - 0s - loss: 1.2120 - acc: 0.7038\n",
      "Epoch 426/500\n",
      " - 0s - loss: 1.2096 - acc: 0.7011\n",
      "Epoch 427/500\n",
      " - 0s - loss: 1.2068 - acc: 0.7038\n",
      "Epoch 428/500\n",
      " - 0s - loss: 1.2048 - acc: 0.6984\n",
      "Epoch 429/500\n",
      " - 0s - loss: 1.2024 - acc: 0.6984\n",
      "Epoch 430/500\n",
      " - 0s - loss: 1.1998 - acc: 0.6984\n",
      "Epoch 431/500\n",
      " - 0s - loss: 1.1973 - acc: 0.7120\n",
      "Epoch 432/500\n",
      " - 0s - loss: 1.1949 - acc: 0.7092\n",
      "Epoch 433/500\n",
      " - 0s - loss: 1.1927 - acc: 0.7120\n",
      "Epoch 434/500\n",
      " - 0s - loss: 1.1901 - acc: 0.7092\n",
      "Epoch 435/500\n",
      " - 0s - loss: 1.1877 - acc: 0.7038\n",
      "Epoch 436/500\n",
      " - 0s - loss: 1.1854 - acc: 0.7038\n",
      "Epoch 437/500\n",
      " - 0s - loss: 1.1830 - acc: 0.7065\n",
      "Epoch 438/500\n",
      " - 0s - loss: 1.1804 - acc: 0.7092\n",
      "Epoch 439/500\n",
      " - 0s - loss: 1.1781 - acc: 0.7147\n",
      "Epoch 440/500\n",
      " - 0s - loss: 1.1759 - acc: 0.7174\n",
      "Epoch 441/500\n",
      " - 0s - loss: 1.1736 - acc: 0.7147\n",
      "Epoch 442/500\n",
      " - 0s - loss: 1.1712 - acc: 0.7174\n",
      "Epoch 443/500\n",
      " - 0s - loss: 1.1688 - acc: 0.7147\n",
      "Epoch 444/500\n",
      " - 0s - loss: 1.1668 - acc: 0.7147\n",
      "Epoch 445/500\n",
      " - 0s - loss: 1.1646 - acc: 0.7120\n",
      "Epoch 446/500\n",
      " - 0s - loss: 1.1631 - acc: 0.7174\n",
      "Epoch 447/500\n",
      " - 0s - loss: 1.1609 - acc: 0.7174\n",
      "Epoch 448/500\n",
      " - 0s - loss: 1.1606 - acc: 0.7201\n",
      "Epoch 449/500\n",
      " - 0s - loss: 1.1559 - acc: 0.7228\n",
      "Epoch 450/500\n",
      " - 0s - loss: 1.1551 - acc: 0.7174\n",
      "Epoch 451/500\n",
      " - 0s - loss: 1.1567 - acc: 0.7092\n",
      "Epoch 452/500\n",
      " - 0s - loss: 1.1489 - acc: 0.7147\n",
      "Epoch 453/500\n",
      " - 0s - loss: 1.1501 - acc: 0.7201\n",
      "Epoch 454/500\n",
      " - 0s - loss: 1.1488 - acc: 0.7147\n",
      "Epoch 455/500\n",
      " - 0s - loss: 1.1453 - acc: 0.7228\n",
      "Epoch 456/500\n",
      " - 0s - loss: 1.1452 - acc: 0.7174\n",
      "Epoch 457/500\n",
      " - 0s - loss: 1.1394 - acc: 0.7310\n",
      "Epoch 458/500\n",
      " - 0s - loss: 1.1381 - acc: 0.7283\n",
      "Epoch 459/500\n",
      " - 0s - loss: 1.1342 - acc: 0.7255\n",
      "Epoch 460/500\n",
      " - 0s - loss: 1.1336 - acc: 0.7255\n",
      "Epoch 461/500\n",
      " - 0s - loss: 1.1311 - acc: 0.7228\n",
      "Epoch 462/500\n",
      " - 0s - loss: 1.1286 - acc: 0.7255\n",
      "Epoch 463/500\n",
      " - 0s - loss: 1.1272 - acc: 0.7337\n",
      "Epoch 464/500\n",
      " - 0s - loss: 1.1244 - acc: 0.7337\n",
      "Epoch 465/500\n",
      " - 0s - loss: 1.1216 - acc: 0.7337\n",
      "Epoch 466/500\n",
      " - 0s - loss: 1.1215 - acc: 0.7283\n",
      "Epoch 467/500\n",
      " - 0s - loss: 1.1173 - acc: 0.7337\n",
      "Epoch 468/500\n",
      " - 0s - loss: 1.1154 - acc: 0.7283\n",
      "Epoch 469/500\n",
      " - 0s - loss: 1.1140 - acc: 0.7310\n",
      "Epoch 470/500\n",
      " - 0s - loss: 1.1106 - acc: 0.7337\n",
      "Epoch 471/500\n",
      " - 0s - loss: 1.1075 - acc: 0.7364\n",
      "Epoch 472/500\n",
      " - 0s - loss: 1.1064 - acc: 0.7446\n",
      "Epoch 473/500\n",
      " - 0s - loss: 1.1041 - acc: 0.7391\n",
      "Epoch 474/500\n",
      " - 0s - loss: 1.1014 - acc: 0.7391\n",
      "Epoch 475/500\n",
      " - 0s - loss: 1.1009 - acc: 0.7418\n",
      "Epoch 476/500\n",
      " - 0s - loss: 1.0969 - acc: 0.7418\n",
      "Epoch 477/500\n",
      " - 0s - loss: 1.0953 - acc: 0.7418\n",
      "Epoch 478/500\n",
      " - 0s - loss: 1.0935 - acc: 0.7446\n",
      "Epoch 479/500\n",
      " - 0s - loss: 1.0925 - acc: 0.7364\n",
      "Epoch 480/500\n",
      " - 0s - loss: 1.0980 - acc: 0.7310\n",
      "Epoch 481/500\n",
      " - 0s - loss: 1.0886 - acc: 0.7337\n",
      "Epoch 482/500\n",
      " - 0s - loss: 1.0931 - acc: 0.7255\n",
      "Epoch 483/500\n",
      " - 0s - loss: 1.0867 - acc: 0.7500\n",
      "Epoch 484/500\n",
      " - 0s - loss: 1.0881 - acc: 0.7446\n",
      "Epoch 485/500\n",
      " - 0s - loss: 1.0849 - acc: 0.7391\n",
      "Epoch 486/500\n",
      " - 0s - loss: 1.0798 - acc: 0.7391\n",
      "Epoch 487/500\n",
      " - 0s - loss: 1.0794 - acc: 0.7391\n",
      "Epoch 488/500\n",
      " - 0s - loss: 1.0782 - acc: 0.7364\n",
      "Epoch 489/500\n",
      " - 0s - loss: 1.0782 - acc: 0.7446\n",
      "Epoch 490/500\n",
      " - 0s - loss: 1.0815 - acc: 0.7337\n",
      "Epoch 491/500\n",
      " - 0s - loss: 1.0775 - acc: 0.7391\n",
      "Epoch 492/500\n",
      " - 0s - loss: 1.0700 - acc: 0.7554\n",
      "Epoch 493/500\n",
      " - 0s - loss: 1.0691 - acc: 0.7582\n",
      "Epoch 494/500\n",
      " - 0s - loss: 1.0669 - acc: 0.7337\n",
      "Epoch 495/500\n",
      " - 0s - loss: 1.0648 - acc: 0.7337\n",
      "Epoch 496/500\n",
      " - 0s - loss: 1.0611 - acc: 0.7391\n",
      "Epoch 497/500\n",
      " - 0s - loss: 1.0609 - acc: 0.7418\n",
      "Epoch 498/500\n",
      " - 0s - loss: 1.0591 - acc: 0.7473\n",
      "Epoch 499/500\n",
      " - 0s - loss: 1.0563 - acc: 0.7554\n",
      "Epoch 500/500\n",
      " - 0s - loss: 1.0523 - acc: 0.7554\n"
     ]
    }
   ],
   "source": [
    "history = model2.fit(x_train, y_train,\n",
    "                    epochs=500,\n",
    "                    verbose=2\n",
    "                    )"
   ]
  },
  {
   "cell_type": "markdown",
   "metadata": {},
   "source": [
    "#### 2.3 학습 결과 확인"
   ]
  },
  {
   "cell_type": "code",
   "execution_count": 40,
   "metadata": {},
   "outputs": [
    {
     "data": {
      "text/plain": [
       "array([[[0., 0., 0., ..., 0., 0., 0.],\n",
       "        [0., 0., 0., ..., 0., 0., 0.],\n",
       "        [1., 0., 0., ..., 0., 0., 0.],\n",
       "        ...,\n",
       "        [0., 0., 0., ..., 0., 0., 0.],\n",
       "        [0., 0., 0., ..., 0., 0., 0.],\n",
       "        [1., 0., 0., ..., 0., 0., 0.]]], dtype=float32)"
      ]
     },
     "execution_count": 40,
     "metadata": {},
     "output_type": "execute_result"
    }
   ],
   "source": [
    "x_train"
   ]
  },
  {
   "cell_type": "markdown",
   "metadata": {},
   "source": [
    "\\* 예측값"
   ]
  },
  {
   "cell_type": "code",
   "execution_count": 41,
   "metadata": {},
   "outputs": [
    {
     "name": "stdout",
     "output_type": "stream",
     "text": [
      "(1, 368, 30)\n",
      "[[[2.7641183e-02 1.2060534e-02 1.4971838e-02 ... 1.6923176e-02\n",
      "   3.7285905e-02 1.1028806e-02]\n",
      "  [6.3180405e-01 5.9263885e-04 5.1934859e-03 ... 3.3187091e-03\n",
      "   7.9249870e-03 4.2422172e-02]\n",
      "  [3.9301086e-02 3.5532985e-03 1.1395028e-02 ... 3.5583512e-03\n",
      "   7.7789458e-03 4.6256343e-03]\n",
      "  ...\n",
      "  [4.2143017e-02 6.4198230e-03 4.0939618e-02 ... 6.3071460e-02\n",
      "   9.1269845e-03 3.3234343e-02]\n",
      "  [3.5540733e-01 2.1845107e-03 7.8897150e-03 ... 7.8534661e-03\n",
      "   9.9520525e-03 2.9076603e-03]\n",
      "  [3.3395402e-03 1.1865933e-02 1.8863381e-03 ... 9.3703913e-03\n",
      "   1.2121445e-02 1.4631938e-03]]]\n"
     ]
    }
   ],
   "source": [
    "temp = model2.predict(x_train)\n",
    "print(temp.shape)\n",
    "print(temp)"
   ]
  },
  {
   "cell_type": "code",
   "execution_count": 42,
   "metadata": {},
   "outputs": [
    {
     "name": "stdout",
     "output_type": "stream",
     "text": [
      "he Vision s0a0 is tt the come tf one comlateeto tn orean  a better corln ferl of ritheo  orian  eoperienc s, throuoheannovative cerheov gy and iroducts.The goal tf ihe vision ts tn oe ohe nebe oved crann, an  nnovative cempany, an  an aadirnd company,For th s, te oe irate tur cepart  to or atovith and itn v tian, shaoe  ritue wioheour irrt ers, ond anr tr an peophe."
     ]
    }
   ],
   "source": [
    "for i in range(temp.shape[1]):\n",
    "    argmax = np.argmax(temp[:][0][i])\n",
    "#     print(argmax)\n",
    "    print(char_set[argmax], end = '')"
   ]
  },
  {
   "cell_type": "markdown",
   "metadata": {},
   "source": [
    "\\* 실제값"
   ]
  },
  {
   "cell_type": "code",
   "execution_count": 43,
   "metadata": {},
   "outputs": [
    {
     "name": "stdout",
     "output_type": "stream",
     "text": [
      "[[[0. 0. 0. ... 0. 0. 0.]\n",
      "  [1. 0. 0. ... 0. 0. 0.]\n",
      "  [0. 0. 0. ... 0. 0. 0.]\n",
      "  ...\n",
      "  [0. 0. 0. ... 0. 0. 0.]\n",
      "  [1. 0. 0. ... 0. 0. 0.]\n",
      "  [0. 0. 0. ... 0. 0. 0.]]]\n"
     ]
    }
   ],
   "source": [
    "print(y_train)"
   ]
  },
  {
   "cell_type": "code",
   "execution_count": 44,
   "metadata": {
    "scrolled": true
   },
   "outputs": [
    {
     "name": "stdout",
     "output_type": "stream",
     "text": [
      "he Vision 2020 is at the core of our commitment to create a better world full of richer digital experiences, through innovative technology and products.The goal of the vision is to become a beloved brand, an innovative company, and an admired company.For this, we dedicate our efforts to creativity and innovation, shared value with our partners, and our great people."
     ]
    }
   ],
   "source": [
    "for i in range(y_train.shape[1]):\n",
    "    argmax = np.argmax(y_train[:][0][i])\n",
    "#     print(argmax)\n",
    "    print(char_set[argmax], end = '')"
   ]
  },
  {
   "cell_type": "markdown",
   "metadata": {},
   "source": [
    "### 예제 2) 시계열 예측하기(many to one)\n",
    "\n",
    "#### 시계열 학습 : 3스텝 크기의 순서열 -> 다음 시간 스텝의 값\n",
    "+ 3스텝 크기의 싸인파의 값 순서열을 통해 다음 시간 스텝의 값을 예측하도록 학습해보겠습니다.\n",
    "\n",
    "(time steps : 3( = Sequence length ))\n",
    "\n",
    "\n",
    "### 사인파형 시계열 데이터를 입력으로 3스텝 크기의 순서열에 대해 그 다음 스텝의 출력을 예측해 보겠습니다."
   ]
  },
  {
   "cell_type": "markdown",
   "metadata": {},
   "source": [
    "## 1. 데이터 생성하기(데이터 살펴보기 + 간단한 전처리)"
   ]
  },
  {
   "cell_type": "markdown",
   "metadata": {},
   "source": [
    "+ 아래의 싸인파에서 입력 순서열과 출력(target) 값을 만듭니다."
   ]
  },
  {
   "cell_type": "code",
   "execution_count": 45,
   "metadata": {},
   "outputs": [
    {
     "data": {
      "image/png": "[encoded data removed]",
      "text/plain": [
       "<Figure size 432x288 with 1 Axes>"
      ]
     },
     "metadata": {
      "needs_background": "light"
     },
     "output_type": "display_data"
    }
   ],
   "source": [
    "s = np.sin(2 * np.pi * 0.125 * np.arange(20))\n",
    "plt.plot(s, 'ro-')\n",
    "plt.xlim(-0.5, 20.5)\n",
    "plt.ylim(-1.1, 1.1)\n",
    "plt.show()"
   ]
  },
  {
   "cell_type": "markdown",
   "metadata": {},
   "source": [
    "####  1.1 Target 데이터를 설정합니다."
   ]
  },
  {
   "cell_type": "code",
   "execution_count": 46,
   "metadata": {
    "scrolled": false
   },
   "outputs": [
    {
     "name": "stdout",
     "output_type": "stream",
     "text": [
      "<input sequence>\t\t\t->\t\t\t<target>\n",
      "\n",
      "[0.         0.70710678 1.        ] -> 1.2246467991473532e-16 \n",
      "\n",
      "[0.70710678 1.         0.70710678] -> -0.7071067811865475 \n",
      "\n",
      "[1.00000000e+00 7.07106781e-01 1.22464680e-16] -> -1.0 \n",
      "\n",
      "[ 7.07106781e-01  1.22464680e-16 -7.07106781e-01] -> -0.7071067811865477 \n",
      "\n",
      "[ 1.22464680e-16 -7.07106781e-01 -1.00000000e+00] -> -2.4492935982947064e-16 \n",
      "\n",
      "[-0.70710678 -1.         -0.70710678] -> 0.7071067811865474 \n",
      "\n",
      "[-1.00000000e+00 -7.07106781e-01 -2.44929360e-16] -> 1.0 \n",
      "\n",
      "[-7.07106781e-01 -2.44929360e-16  7.07106781e-01] -> 0.7071067811865483 \n",
      "\n",
      "[-2.44929360e-16  7.07106781e-01  1.00000000e+00] -> 3.6739403974420594e-16 \n",
      "\n",
      "[0.70710678 1.         0.70710678] -> -0.7071067811865479 \n",
      "\n",
      "[1.00000000e+00 7.07106781e-01 3.67394040e-16] -> -1.0 \n",
      "\n",
      "[ 7.07106781e-01  3.67394040e-16 -7.07106781e-01] -> -0.7071067811865485 \n",
      "\n",
      "[ 3.67394040e-16 -7.07106781e-01 -1.00000000e+00] -> -4.898587196589413e-16 \n",
      "\n",
      "[-0.70710678 -1.         -0.70710678] -> 0.7071067811865478 \n",
      "\n",
      "[-1.00000000e+00 -7.07106781e-01 -4.89858720e-16] -> 1.0 \n",
      "\n",
      "[-7.07106781e-01 -4.89858720e-16  7.07106781e-01] -> 0.7071067811865486 \n",
      "\n"
     ]
    }
   ],
   "source": [
    "X_train = []\n",
    "Y_train = []\n",
    "sequence_length = 3\n",
    "print('<input sequence>\\t\\t\\t->\\t\\t\\t<target>\\n')\n",
    "for i in range(0, len(s) - sequence_length):\n",
    "    if i + sequence_length + 1 == 20:\n",
    "        break\n",
    "    x = s[i:i + sequence_length]\n",
    "    y = s[i + sequence_length + 1]\n",
    "    print(x, '->', y, '\\n')\n",
    "\n",
    "    X_train.append(x)\n",
    "    Y_train.append(y)\n"
   ]
  },
  {
   "cell_type": "markdown",
   "metadata": {},
   "source": [
    "\\* 그래프로 확인하기"
   ]
  },
  {
   "cell_type": "code",
   "execution_count": 47,
   "metadata": {},
   "outputs": [
    {
     "data": {
      "image/png": "[encoded data removed]",
      "text/plain": [
       "<Figure size 432x288 with 2 Axes>"
      ]
     },
     "metadata": {
      "needs_background": "light"
     },
     "output_type": "display_data"
    }
   ],
   "source": [
    "plt.subplot(211)\n",
    "plt.plot([0, 1, 2], X_train[0].flatten(), 'bo-', label=\"input sequence\")\n",
    "plt.plot([3], Y_train[0], 'ro', label=\"target\")\n",
    "#그래프에 나타낼 x축 범위\n",
    "plt.xlim(-0.5, 4.5)\n",
    "#그래프에 나타낼 y축 범위\n",
    "plt.ylim(-1.1, 1.1)\n",
    "plt.legend()#범주\n",
    "plt.title(\"First sample sequence\")\n",
    "\n",
    "plt.subplot(212)\n",
    "plt.plot([1, 2, 3], X_train[1].flatten(), 'bo-', label=\"input sequence\")\n",
    "plt.plot([4], Y_train[1], 'ro', label=\"target\")\n",
    "#그래프에 나타낼 x축 범위\n",
    "plt.xlim(-0.5, 4.5)\n",
    "#그래프에 나타낼 y축 범위\n",
    "plt.ylim(-1.1, 1.1)\n",
    "plt.legend()\n",
    "plt.title(\"Second sample sequence\")\n",
    "plt.tight_layout()\n",
    "\n",
    "plt.show()"
   ]
  },
  {
   "cell_type": "code",
   "execution_count": 48,
   "metadata": {},
   "outputs": [
    {
     "data": {
      "image/png": "[encoded data removed]",
      "text/plain": [
       "<Figure size 432x288 with 2 Axes>"
      ]
     },
     "metadata": {
      "needs_background": "light"
     },
     "output_type": "display_data"
    }
   ],
   "source": [
    "plt.subplot(211)\n",
    "plt.plot([0, 1, 2], X_train[0], 'bo-', label=\"input sequence\")\n",
    "plt.plot([3], Y_train[0], 'ro', label=\"target\")\n",
    "#그래프에 나타낼 x축 범위\n",
    "plt.xlim(-0.5, 4.5)\n",
    "#그래프에 나타낼 y축 범위\n",
    "plt.ylim(-1.1, 1.1)\n",
    "plt.legend()#범주\n",
    "plt.title(\"First sample sequence\")\n",
    "\n",
    "plt.subplot(212)\n",
    "plt.plot([1, 2, 3], X_train[1], 'bo-', label=\"input sequence\")\n",
    "plt.plot([4], Y_train[1], 'ro', label=\"target\")\n",
    "#그래프에 나타낼 x축 범위\n",
    "plt.xlim(-0.5, 4.5)\n",
    "#그래프에 나타낼 y축 범위\n",
    "plt.ylim(-1.1, 1.1)\n",
    "plt.legend()\n",
    "plt.title(\"Second sample sequence\")\n",
    "plt.tight_layout()\n",
    "\n",
    "plt.show()"
   ]
  },
  {
   "cell_type": "markdown",
   "metadata": {},
   "source": [
    "## 2. keras의 SimpleRNN을 이용해 순환신경망 만들어보기"
   ]
  },
  {
   "cell_type": "markdown",
   "metadata": {},
   "source": [
    "#### Keras 에서 RNN 을 사용하려면 입력 데이터는 (nb_samples, timesteps, input_dim) 크기를 가지는 ndim=3인 3차원 텐서(tensor) 형태이어야 합니다.\n",
    "\n",
    "+ nb_samples(= batch_size) : 자료의 수\n",
    "+ timesteps(= sequemce length) : 순서열의 길이\n",
    "+ input_dim(= data_dim) : 입력 벡터의 차원\n",
    "\n",
    "여기서 단일 시계열 데이터 이므로 input_dim = 1이고, \n",
    "\n",
    "3 스텝 크기의 순서열을 사용하므로 timesteps = 3이며 \n",
    "\n",
    "자료의 수는 16개로 nb_samples = 16 입니다.\n",
    "<br><br>\n",
    "<br><br>"
   ]
  },
  {
   "cell_type": "markdown",
   "metadata": {},
   "source": [
    "#### 2.1 입력 데이터 구조 파라미터를 설정합니다."
   ]
  },
  {
   "cell_type": "code",
   "execution_count": 49,
   "metadata": {},
   "outputs": [],
   "source": [
    "# RNN의 입력 크기(one-hot size)\n",
    "data_dim = 1\n",
    "\n",
    "#순서열의 길이\n",
    "sequence_length = len(X_train[0])# unfolding(unit 수)\n",
    "\n",
    "#배치사이즈(one batch size)\n",
    "# batch_size\n",
    "\n",
    "# RNN cell의 출력 크기(차원)\n",
    "# hidden_size = len(char_set) = num_classes"
   ]
  },
  {
   "cell_type": "markdown",
   "metadata": {},
   "source": [
    "#### 데이터 구조를 변환합니다."
   ]
  },
  {
   "cell_type": "code",
   "execution_count": 50,
   "metadata": {},
   "outputs": [],
   "source": [
    "X_train = np.reshape(X_train, (-1, sequence_length, data_dim))"
   ]
  },
  {
   "cell_type": "code",
   "execution_count": 51,
   "metadata": {},
   "outputs": [
    {
     "name": "stdout",
     "output_type": "stream",
     "text": [
      "(16, 3, 1)\n",
      "(16,)\n"
     ]
    }
   ],
   "source": [
    "print(np.shape(X_train))\n",
    "print(np.shape(Y_train))"
   ]
  },
  {
   "cell_type": "markdown",
   "metadata": {},
   "source": [
    "#### 2.2 학습"
   ]
  },
  {
   "cell_type": "code",
   "execution_count": 52,
   "metadata": {},
   "outputs": [],
   "source": [
    "# 입력 텐서\n",
    "input_shape = (X_train[0].shape)\n",
    "input_tensor = layers.Input(input_shape)"
   ]
  },
  {
   "cell_type": "code",
   "execution_count": 53,
   "metadata": {},
   "outputs": [
    {
     "data": {
      "text/plain": [
       "<tf.Tensor 'input_3:0' shape=(?, 3, 1) dtype=float32>"
      ]
     },
     "execution_count": 53,
     "metadata": {},
     "output_type": "execute_result"
    }
   ],
   "source": [
    "input_tensor"
   ]
  },
  {
   "cell_type": "code",
   "execution_count": 54,
   "metadata": {},
   "outputs": [],
   "source": [
    "# 가장 단순한 신경망 구조인 SimpleRNN 클래스를 사용합니다.\n",
    "# 첫번째 인수 : RNN cell 출력의 크기(차원)를 입력합니다.\n",
    "\n",
    "rnn_layer = layers.SimpleRNN(10)(input_tensor)\n",
    "\n",
    "# Dense 레이어를 통과시켜 Target의 차원과 layer의 ouput의 차원을 맞춰줍니다.\n",
    "output_tensor = layers.Dense(1, activation=\"linear\")(rnn_layer)"
   ]
  },
  {
   "cell_type": "code",
   "execution_count": 55,
   "metadata": {},
   "outputs": [],
   "source": [
    "# 모델 컴파일.\n",
    "model = models.Model(input_tensor, output_tensor)\n",
    "model.compile(optimizer = 'Adam',\n",
    "              # 예측값과 실제값 사이의 차이를 최소화하므로 mse\n",
    "              loss = 'mse',\n",
    "              metrics = ['mse'])"
   ]
  },
  {
   "cell_type": "code",
   "execution_count": 56,
   "metadata": {},
   "outputs": [
    {
     "name": "stdout",
     "output_type": "stream",
     "text": [
      "_________________________________________________________________\n",
      "Layer (type)                 Output Shape              Param #   \n",
      "=================================================================\n",
      "input_3 (InputLayer)         (None, 3, 1)              0         \n",
      "_________________________________________________________________\n",
      "simple_rnn_3 (SimpleRNN)     (None, 10)                120       \n",
      "_________________________________________________________________\n",
      "dense_3 (Dense)              (None, 1)                 11        \n",
      "=================================================================\n",
      "Total params: 131\n",
      "Trainable params: 131\n",
      "Non-trainable params: 0\n",
      "_________________________________________________________________\n"
     ]
    }
   ],
   "source": [
    "model.summary()"
   ]
  },
  {
   "cell_type": "markdown",
   "metadata": {},
   "source": [
    "\\* 학습 이전의 model 출력"
   ]
  },
  {
   "cell_type": "code",
   "execution_count": 57,
   "metadata": {},
   "outputs": [
    {
     "data": {
      "image/png": "[encoded data removed]",
      "text/plain": [
       "<Figure size 432x288 with 1 Axes>"
      ]
     },
     "metadata": {
      "needs_background": "light"
     },
     "output_type": "display_data"
    }
   ],
   "source": [
    "plt.plot(Y_train, 'ro-', label=\"target\")\n",
    "plt.plot(model.predict(X_train[:, :, :]), 'bs-', label=\"output\")\n",
    "plt.xlim(-0.5, 20.5)\n",
    "plt.ylim(-1.1, 1.1)\n",
    "plt.legend()\n",
    "plt.title(\"Before training\")\n",
    "plt.show()"
   ]
  },
  {
   "cell_type": "code",
   "execution_count": 58,
   "metadata": {},
   "outputs": [
    {
     "name": "stdout",
     "output_type": "stream",
     "text": [
      "Epoch 1/100\n",
      " - 0s - loss: 0.7951 - mean_squared_error: 0.7951\n",
      "Epoch 2/100\n",
      " - 0s - loss: 0.7694 - mean_squared_error: 0.7694\n",
      "Epoch 3/100\n",
      " - 0s - loss: 0.7443 - mean_squared_error: 0.7443\n",
      "Epoch 4/100\n",
      " - 0s - loss: 0.7196 - mean_squared_error: 0.7196\n",
      "Epoch 5/100\n",
      " - 0s - loss: 0.6955 - mean_squared_error: 0.6955\n",
      "Epoch 6/100\n",
      " - 0s - loss: 0.6718 - mean_squared_error: 0.6718\n",
      "Epoch 7/100\n",
      " - 0s - loss: 0.6486 - mean_squared_error: 0.6486\n",
      "Epoch 8/100\n",
      " - 0s - loss: 0.6260 - mean_squared_error: 0.6260\n",
      "Epoch 9/100\n",
      " - 0s - loss: 0.6039 - mean_squared_error: 0.6039\n",
      "Epoch 10/100\n",
      " - 0s - loss: 0.5822 - mean_squared_error: 0.5822\n",
      "Epoch 11/100\n",
      " - 0s - loss: 0.5611 - mean_squared_error: 0.5611\n",
      "Epoch 12/100\n",
      " - 0s - loss: 0.5406 - mean_squared_error: 0.5406\n",
      "Epoch 13/100\n",
      " - 0s - loss: 0.5205 - mean_squared_error: 0.5205\n",
      "Epoch 14/100\n",
      " - 0s - loss: 0.5009 - mean_squared_error: 0.5009\n",
      "Epoch 15/100\n",
      " - 0s - loss: 0.4819 - mean_squared_error: 0.4819\n",
      "Epoch 16/100\n",
      " - 0s - loss: 0.4633 - mean_squared_error: 0.4633\n",
      "Epoch 17/100\n",
      " - 0s - loss: 0.4452 - mean_squared_error: 0.4452\n",
      "Epoch 18/100\n",
      " - 0s - loss: 0.4276 - mean_squared_error: 0.4276\n",
      "Epoch 19/100\n",
      " - 0s - loss: 0.4105 - mean_squared_error: 0.4105\n",
      "Epoch 20/100\n",
      " - 0s - loss: 0.3939 - mean_squared_error: 0.3939\n",
      "Epoch 21/100\n",
      " - 0s - loss: 0.3777 - mean_squared_error: 0.3777\n",
      "Epoch 22/100\n",
      " - 0s - loss: 0.3620 - mean_squared_error: 0.3620\n",
      "Epoch 23/100\n",
      " - 0s - loss: 0.3468 - mean_squared_error: 0.3468\n",
      "Epoch 24/100\n",
      " - 0s - loss: 0.3320 - mean_squared_error: 0.3320\n",
      "Epoch 25/100\n",
      " - 0s - loss: 0.3176 - mean_squared_error: 0.3176\n",
      "Epoch 26/100\n",
      " - 0s - loss: 0.3037 - mean_squared_error: 0.3037\n",
      "Epoch 27/100\n",
      " - 0s - loss: 0.2901 - mean_squared_error: 0.2901\n",
      "Epoch 28/100\n",
      " - 0s - loss: 0.2770 - mean_squared_error: 0.2770\n",
      "Epoch 29/100\n",
      " - 0s - loss: 0.2643 - mean_squared_error: 0.2643\n",
      "Epoch 30/100\n",
      " - 0s - loss: 0.2520 - mean_squared_error: 0.2520\n",
      "Epoch 31/100\n",
      " - 0s - loss: 0.2401 - mean_squared_error: 0.2401\n",
      "Epoch 32/100\n",
      " - 0s - loss: 0.2286 - mean_squared_error: 0.2286\n",
      "Epoch 33/100\n",
      " - 0s - loss: 0.2175 - mean_squared_error: 0.2175\n",
      "Epoch 34/100\n",
      " - 0s - loss: 0.2067 - mean_squared_error: 0.2067\n",
      "Epoch 35/100\n",
      " - 0s - loss: 0.1964 - mean_squared_error: 0.1964\n",
      "Epoch 36/100\n",
      " - 0s - loss: 0.1863 - mean_squared_error: 0.1863\n",
      "Epoch 37/100\n",
      " - 0s - loss: 0.1767 - mean_squared_error: 0.1767\n",
      "Epoch 38/100\n",
      " - 0s - loss: 0.1674 - mean_squared_error: 0.1674\n",
      "Epoch 39/100\n",
      " - 0s - loss: 0.1584 - mean_squared_error: 0.1584\n",
      "Epoch 40/100\n",
      " - 0s - loss: 0.1498 - mean_squared_error: 0.1498\n",
      "Epoch 41/100\n",
      " - 0s - loss: 0.1415 - mean_squared_error: 0.1415\n",
      "Epoch 42/100\n",
      " - 0s - loss: 0.1335 - mean_squared_error: 0.1335\n",
      "Epoch 43/100\n",
      " - 0s - loss: 0.1258 - mean_squared_error: 0.1258\n",
      "Epoch 44/100\n",
      " - 0s - loss: 0.1185 - mean_squared_error: 0.1185\n",
      "Epoch 45/100\n",
      " - 0s - loss: 0.1115 - mean_squared_error: 0.1115\n",
      "Epoch 46/100\n",
      " - 0s - loss: 0.1047 - mean_squared_error: 0.1047\n",
      "Epoch 47/100\n",
      " - 0s - loss: 0.0983 - mean_squared_error: 0.0983\n",
      "Epoch 48/100\n",
      " - 0s - loss: 0.0921 - mean_squared_error: 0.0921\n",
      "Epoch 49/100\n",
      " - 0s - loss: 0.0862 - mean_squared_error: 0.0862\n",
      "Epoch 50/100\n",
      " - 0s - loss: 0.0806 - mean_squared_error: 0.0806\n",
      "Epoch 51/100\n",
      " - 0s - loss: 0.0753 - mean_squared_error: 0.0753\n",
      "Epoch 52/100\n",
      " - 0s - loss: 0.0702 - mean_squared_error: 0.0702\n",
      "Epoch 53/100\n",
      " - 0s - loss: 0.0653 - mean_squared_error: 0.0653\n",
      "Epoch 54/100\n",
      " - 0s - loss: 0.0607 - mean_squared_error: 0.0607\n",
      "Epoch 55/100\n",
      " - 0s - loss: 0.0564 - mean_squared_error: 0.0564\n",
      "Epoch 56/100\n",
      " - 0s - loss: 0.0523 - mean_squared_error: 0.0523\n",
      "Epoch 57/100\n",
      " - 0s - loss: 0.0484 - mean_squared_error: 0.0484\n",
      "Epoch 58/100\n",
      " - 0s - loss: 0.0447 - mean_squared_error: 0.0447\n",
      "Epoch 59/100\n",
      " - 0s - loss: 0.0412 - mean_squared_error: 0.0412\n",
      "Epoch 60/100\n",
      " - 0s - loss: 0.0380 - mean_squared_error: 0.0380\n",
      "Epoch 61/100\n",
      " - 0s - loss: 0.0349 - mean_squared_error: 0.0349\n",
      "Epoch 62/100\n",
      " - 0s - loss: 0.0320 - mean_squared_error: 0.0320\n",
      "Epoch 63/100\n",
      " - 0s - loss: 0.0293 - mean_squared_error: 0.0293\n",
      "Epoch 64/100\n",
      " - 0s - loss: 0.0268 - mean_squared_error: 0.0268\n",
      "Epoch 65/100\n",
      " - 0s - loss: 0.0244 - mean_squared_error: 0.0244\n",
      "Epoch 66/100\n",
      " - 0s - loss: 0.0223 - mean_squared_error: 0.0223\n",
      "Epoch 67/100\n",
      " - 0s - loss: 0.0202 - mean_squared_error: 0.0202\n",
      "Epoch 68/100\n",
      " - 0s - loss: 0.0183 - mean_squared_error: 0.0183\n",
      "Epoch 69/100\n",
      " - 0s - loss: 0.0166 - mean_squared_error: 0.0166\n",
      "Epoch 70/100\n",
      " - 0s - loss: 0.0149 - mean_squared_error: 0.0149\n",
      "Epoch 71/100\n",
      " - 0s - loss: 0.0135 - mean_squared_error: 0.0135\n",
      "Epoch 72/100\n",
      " - 0s - loss: 0.0121 - mean_squared_error: 0.0121\n",
      "Epoch 73/100\n",
      " - 0s - loss: 0.0108 - mean_squared_error: 0.0108\n",
      "Epoch 74/100\n",
      " - 0s - loss: 0.0097 - mean_squared_error: 0.0097\n",
      "Epoch 75/100\n",
      " - 0s - loss: 0.0086 - mean_squared_error: 0.0086\n",
      "Epoch 76/100\n",
      " - 0s - loss: 0.0077 - mean_squared_error: 0.0077\n",
      "Epoch 77/100\n",
      " - 0s - loss: 0.0068 - mean_squared_error: 0.0068\n",
      "Epoch 78/100\n",
      " - 0s - loss: 0.0060 - mean_squared_error: 0.0060\n",
      "Epoch 79/100\n",
      " - 0s - loss: 0.0053 - mean_squared_error: 0.0053\n",
      "Epoch 80/100\n",
      " - 0s - loss: 0.0047 - mean_squared_error: 0.0047\n",
      "Epoch 81/100\n",
      " - 0s - loss: 0.0041 - mean_squared_error: 0.0041\n",
      "Epoch 82/100\n",
      " - 0s - loss: 0.0036 - mean_squared_error: 0.0036\n",
      "Epoch 83/100\n",
      " - 0s - loss: 0.0031 - mean_squared_error: 0.0031\n",
      "Epoch 84/100\n",
      " - 0s - loss: 0.0027 - mean_squared_error: 0.0027\n",
      "Epoch 85/100\n",
      " - 0s - loss: 0.0024 - mean_squared_error: 0.0024\n",
      "Epoch 86/100\n",
      " - 0s - loss: 0.0021 - mean_squared_error: 0.0021\n",
      "Epoch 87/100\n",
      " - 0s - loss: 0.0018 - mean_squared_error: 0.0018\n",
      "Epoch 88/100\n",
      " - 0s - loss: 0.0015 - mean_squared_error: 0.0015\n",
      "Epoch 89/100\n",
      " - 0s - loss: 0.0013 - mean_squared_error: 0.0013\n",
      "Epoch 90/100\n",
      " - 0s - loss: 0.0012 - mean_squared_error: 0.0012\n",
      "Epoch 91/100\n",
      " - 0s - loss: 0.0010 - mean_squared_error: 0.0010\n",
      "Epoch 92/100\n",
      " - 0s - loss: 8.9490e-04 - mean_squared_error: 8.9490e-04\n",
      "Epoch 93/100\n",
      " - 0s - loss: 7.8829e-04 - mean_squared_error: 7.8829e-04\n",
      "Epoch 94/100\n",
      " - 0s - loss: 6.9936e-04 - mean_squared_error: 6.9936e-04\n",
      "Epoch 95/100\n",
      " - 0s - loss: 6.2589e-04 - mean_squared_error: 6.2589e-04\n",
      "Epoch 96/100\n",
      " - 0s - loss: 5.6585e-04 - mean_squared_error: 5.6585e-04\n",
      "Epoch 97/100\n",
      " - 0s - loss: 5.1738e-04 - mean_squared_error: 5.1738e-04\n",
      "Epoch 98/100\n",
      " - 0s - loss: 4.7882e-04 - mean_squared_error: 4.7882e-04\n",
      "Epoch 99/100\n",
      " - 0s - loss: 4.4866e-04 - mean_squared_error: 4.4866e-04\n",
      "Epoch 100/100\n",
      " - 0s - loss: 4.2556e-04 - mean_squared_error: 4.2556e-04\n"
     ]
    }
   ],
   "source": [
    "history = model.fit(X_train, Y_train, epochs=100, verbose=2)"
   ]
  },
  {
   "cell_type": "markdown",
   "metadata": {},
   "source": [
    "#### 2.3 학습 결과 확인"
   ]
  },
  {
   "cell_type": "markdown",
   "metadata": {},
   "source": [
    "\\* 학습을 후의 출력"
   ]
  },
  {
   "cell_type": "code",
   "execution_count": 59,
   "metadata": {},
   "outputs": [
    {
     "data": {
      "image/png": "[encoded data removed]",
      "text/plain": [
       "<Figure size 432x288 with 1 Axes>"
      ]
     },
     "metadata": {
      "needs_background": "light"
     },
     "output_type": "display_data"
    }
   ],
   "source": [
    "plt.plot(Y_train, 'ro-', label=\"target\")\n",
    "plt.plot(model.predict(X_train[:, :, :]), 'bs-', label=\"output\")\n",
    "plt.xlim(-0.5, 20.5)\n",
    "plt.ylim(-1.1, 1.1)\n",
    "plt.legend()\n",
    "plt.title(\"After training\")\n",
    "plt.show()"
   ]
  },
  {
   "cell_type": "markdown",
   "metadata": {},
   "source": [
    "### 실습 예제 2-2)  시계열 예측하기(many to many)\n",
    "\n",
    "다음 3스텝의 순서열을 예측하도로 학습합니다."
   ]
  },
  {
   "cell_type": "markdown",
   "metadata": {},
   "source": [
    "## 1. 데이터 생성하기(데이터 살펴보기 + 간단한 전처리)"
   ]
  },
  {
   "cell_type": "markdown",
   "metadata": {},
   "source": [
    "#### 예제 2)와 동일한 싸인파를 데이터로 사용합니다."
   ]
  },
  {
   "cell_type": "code",
   "execution_count": 60,
   "metadata": {},
   "outputs": [
    {
     "data": {
      "image/png": "[encoded data removed]",
      "text/plain": [
       "<Figure size 432x288 with 1 Axes>"
      ]
     },
     "metadata": {
      "needs_background": "light"
     },
     "output_type": "display_data"
    }
   ],
   "source": [
    "s = np.sin(2 * np.pi * 0.125 * np.arange(20))\n",
    "plt.plot(s, 'ro-')\n",
    "plt.xlim(-0.5, 20.5)\n",
    "plt.ylim(-1.1, 1.1)\n",
    "plt.show()"
   ]
  },
  {
   "cell_type": "markdown",
   "metadata": {},
   "source": [
    "####  1.1Target 데이터를 설정합니다."
   ]
  },
  {
   "cell_type": "code",
   "execution_count": 61,
   "metadata": {},
   "outputs": [
    {
     "name": "stdout",
     "output_type": "stream",
     "text": [
      "<input sequence>\t\t\t->\t\t\t<target>\n",
      "\n",
      "[0.         0.70710678 1.        ] -> [ 7.07106781e-01  1.22464680e-16 -7.07106781e-01] \n",
      "\n",
      "[0.70710678 1.         0.70710678] -> [ 1.22464680e-16 -7.07106781e-01 -1.00000000e+00] \n",
      "\n",
      "[1.00000000e+00 7.07106781e-01 1.22464680e-16] -> [-0.70710678 -1.         -0.70710678] \n",
      "\n",
      "[ 7.07106781e-01  1.22464680e-16 -7.07106781e-01] -> [-1.00000000e+00 -7.07106781e-01 -2.44929360e-16] \n",
      "\n",
      "[ 1.22464680e-16 -7.07106781e-01 -1.00000000e+00] -> [-7.07106781e-01 -2.44929360e-16  7.07106781e-01] \n",
      "\n",
      "[-0.70710678 -1.         -0.70710678] -> [-2.44929360e-16  7.07106781e-01  1.00000000e+00] \n",
      "\n",
      "[-1.00000000e+00 -7.07106781e-01 -2.44929360e-16] -> [0.70710678 1.         0.70710678] \n",
      "\n",
      "[-7.07106781e-01 -2.44929360e-16  7.07106781e-01] -> [1.00000000e+00 7.07106781e-01 3.67394040e-16] \n",
      "\n",
      "[-2.44929360e-16  7.07106781e-01  1.00000000e+00] -> [ 7.07106781e-01  3.67394040e-16 -7.07106781e-01] \n",
      "\n",
      "[0.70710678 1.         0.70710678] -> [ 3.67394040e-16 -7.07106781e-01 -1.00000000e+00] \n",
      "\n",
      "[1.00000000e+00 7.07106781e-01 3.67394040e-16] -> [-0.70710678 -1.         -0.70710678] \n",
      "\n",
      "[ 7.07106781e-01  3.67394040e-16 -7.07106781e-01] -> [-1.00000000e+00 -7.07106781e-01 -4.89858720e-16] \n",
      "\n",
      "[ 3.67394040e-16 -7.07106781e-01 -1.00000000e+00] -> [-7.07106781e-01 -4.89858720e-16  7.07106781e-01] \n",
      "\n",
      "[-0.70710678 -1.         -0.70710678] -> [-4.89858720e-16  7.07106781e-01  1.00000000e+00] \n",
      "\n",
      "[-1.00000000e+00 -7.07106781e-01 -4.89858720e-16] -> [0.70710678 1.         0.70710678] \n",
      "\n"
     ]
    }
   ],
   "source": [
    "X_train2 = []\n",
    "Y_train2 = []\n",
    "sequence_length = 3\n",
    "print('<input sequence>\\t\\t\\t->\\t\\t\\t<target>\\n')\n",
    "for i in range(0, len(s) - sequence_length):\n",
    "    if i + sequence_length == 18:\n",
    "        break\n",
    "    x = s[i:i + sequence_length]\n",
    "    y = s[i + sequence_length:i + sequence_length * 2]\n",
    "    print(x, '->', y, '\\n')\n",
    "\n",
    "    X_train2.append(x)\n",
    "    Y_train2.append(y)\n"
   ]
  },
  {
   "cell_type": "markdown",
   "metadata": {},
   "source": [
    "\\* 그래프로 확인하기"
   ]
  },
  {
   "cell_type": "code",
   "execution_count": 62,
   "metadata": {},
   "outputs": [
    {
     "data": {
      "image/png": "[encoded data removed]",
      "text/plain": [
       "<Figure size 432x288 with 2 Axes>"
      ]
     },
     "metadata": {
      "needs_background": "light"
     },
     "output_type": "display_data"
    }
   ],
   "source": [
    "plt.subplot(211)\n",
    "plt.plot([0, 1, 2], X_train2[0].flatten(), 'bo-', label=\"input sequence\")\n",
    "plt.plot([3, 4, 5], Y_train2[0].flatten(), 'ro-', label=\"target sequence\")\n",
    "#그래프에 나타낼 x축 범위\n",
    "plt.xlim(-0.5, 6.5)\n",
    "#그래프에 나타낼 y축 범위\n",
    "plt.ylim(-1.1, 1.1)\n",
    "plt.legend()#범주\n",
    "plt.title(\"First sample sequence\")\n",
    "plt.subplot(212)\n",
    "plt.plot([1, 2, 3], X_train2[1].flatten(), 'bo-', label=\"input sequence\")\n",
    "plt.plot([4, 5, 6], Y_train2[1].flatten(), 'ro-', label=\"target sequence\")\n",
    "#그래프에 나타낼 x축 범위\n",
    "plt.xlim(-0.5, 6.5)\n",
    "#그래프에 나타낼 y축 범위\n",
    "plt.ylim(-1.1, 1.1)\n",
    "plt.legend()\n",
    "plt.title(\"Second sample sequence\")\n",
    "plt.tight_layout()\n",
    "plt.show()"
   ]
  },
  {
   "cell_type": "code",
   "execution_count": 63,
   "metadata": {},
   "outputs": [
    {
     "name": "stdout",
     "output_type": "stream",
     "text": [
      "(15, 3)\n",
      "(15, 3)\n"
     ]
    }
   ],
   "source": [
    "print(np.shape(X_train2))\n",
    "print(np.shape(Y_train2))"
   ]
  },
  {
   "cell_type": "markdown",
   "metadata": {},
   "source": [
    "## 2. keras의 SimpleRNN을 이용해 순환신경망 만들어보기"
   ]
  },
  {
   "cell_type": "markdown",
   "metadata": {},
   "source": [
    "#### Keras 에서 RNN 을 사용하려면 입력 데이터는 (nb_samples, timesteps, input_dim) 크기를 가지는 ndim=3인 3차원 텐서(tensor) 형태이어야 합니다.\n",
    "\n",
    "+ nb_samples(= batch_size) : 자료의 수\n",
    "+ timesteps(= sequemce length) : 순서열의 길이\n",
    "+ input_dim(= data_dim) : 입력 벡터의 차원\n",
    "\n",
    "여기서 단일 시계열 데이터 이므로 input_dim = 1이고, \n",
    "\n",
    "3 스텝 크기의 순서열을 사용하므로 timesteps = 3이며 \n",
    "\n",
    "자료의 수는 15개로 nb_samples = 15 입니다.\n",
    "<br><br>\n",
    "<br><br>"
   ]
  },
  {
   "cell_type": "markdown",
   "metadata": {},
   "source": [
    "#### 2.1 입력 데이터 구조 파라미터를 설정합니다."
   ]
  },
  {
   "cell_type": "code",
   "execution_count": 64,
   "metadata": {},
   "outputs": [],
   "source": [
    "# RNN의 입력 크기(one-hot size)\n",
    "data_dim = 1\n",
    "\n",
    "#순서열의 길이\n",
    "sequence_length = len(X_train[0])# unfolding(unit 수)\n",
    "\n",
    "#배치사이즈(one batch size)\n",
    "# batch_size\n",
    "\n",
    "# RNN cell의 출력 크기(차원)\n",
    "# hidden_size = len(char_set) = num_classes"
   ]
  },
  {
   "cell_type": "markdown",
   "metadata": {},
   "source": [
    "#### 데이터 구조를 변환합니다."
   ]
  },
  {
   "cell_type": "code",
   "execution_count": 65,
   "metadata": {},
   "outputs": [],
   "source": [
    "X_train2 = np.reshape(X_train2, (-1, sequence_length, data_dim))"
   ]
  },
  {
   "cell_type": "code",
   "execution_count": 66,
   "metadata": {},
   "outputs": [],
   "source": [
    "Y_train2 = np.reshape(Y_train2, (-1, sequence_length, data_dim))"
   ]
  },
  {
   "cell_type": "code",
   "execution_count": 67,
   "metadata": {},
   "outputs": [
    {
     "name": "stdout",
     "output_type": "stream",
     "text": [
      "(15, 3, 1)\n",
      "(15, 3, 1)\n"
     ]
    }
   ],
   "source": [
    "print(np.shape(X_train2))\n",
    "print(np.shape(Y_train2))"
   ]
  },
  {
   "cell_type": "markdown",
   "metadata": {},
   "source": [
    "#### 2.2 학습"
   ]
  },
  {
   "cell_type": "code",
   "execution_count": 68,
   "metadata": {},
   "outputs": [],
   "source": [
    "# 입력 텐서\n",
    "input_shape = (X_train2[0].shape)\n",
    "input_tensor = layers.Input(input_shape)"
   ]
  },
  {
   "cell_type": "code",
   "execution_count": 69,
   "metadata": {},
   "outputs": [
    {
     "data": {
      "text/plain": [
       "<tf.Tensor 'input_4:0' shape=(?, 3, 1) dtype=float32>"
      ]
     },
     "execution_count": 69,
     "metadata": {},
     "output_type": "execute_result"
    }
   ],
   "source": [
    "input_tensor"
   ]
  },
  {
   "cell_type": "code",
   "execution_count": 70,
   "metadata": {},
   "outputs": [],
   "source": [
    "# 가장 단순한 신경망 구조인 SimpleRNN 클래스를 사용합니다.\n",
    "# 첫번째 인수 : RNN cell 출력의 크기(차원)를 입력합니다.\n",
    "# return_sequences : 출력 시퀀스의 마지막 출력을 반환할지 아니면 전체 시퀀스를 반환할지 지정합니다.\n",
    "rnn_layer = layers.SimpleRNN(10, return_sequences=True)(input_tensor)\n",
    "\n",
    "# 입력의 모든 시간 슬라이스에 Dense 레이어를 적용합니다.\n",
    "# 데이터의 형태가 (32, 10, 18)이라고 한다면\n",
    "# 자료의 수는 32, 순서열의 길이는 10, 입력 벡터의 차원은 18이라는 것을 나타냅니다.\n",
    "# 이때 순서열 각각에 대해서 Dense 레이어를 통과시킵니다.\n",
    "# Target의 차원과 layer의 ouput의 차원을 맞춰주는 것입니다,\n",
    "output_tensor = layers.TimeDistributed(layers.Dense(1, activation='linear'))(rnn_layer)\n"
   ]
  },
  {
   "cell_type": "code",
   "execution_count": 71,
   "metadata": {},
   "outputs": [],
   "source": [
    "# 모델 컴파일.\n",
    "model2 = models.Model(input_tensor, output_tensor)\n",
    "model2.compile(optimizer = 'Adam',\n",
    "              # 예측값과 실제값 사이의 차이를 최소화하므로 mse\n",
    "              loss = 'mse',\n",
    "              metrics = ['mse'])"
   ]
  },
  {
   "cell_type": "code",
   "execution_count": 72,
   "metadata": {},
   "outputs": [
    {
     "name": "stdout",
     "output_type": "stream",
     "text": [
      "_________________________________________________________________\n",
      "Layer (type)                 Output Shape              Param #   \n",
      "=================================================================\n",
      "input_4 (InputLayer)         (None, 3, 1)              0         \n",
      "_________________________________________________________________\n",
      "simple_rnn_4 (SimpleRNN)     (None, 3, 10)             120       \n",
      "_________________________________________________________________\n",
      "time_distributed_3 (TimeDist (None, 3, 1)              11        \n",
      "=================================================================\n",
      "Total params: 131\n",
      "Trainable params: 131\n",
      "Non-trainable params: 0\n",
      "_________________________________________________________________\n"
     ]
    }
   ],
   "source": [
    "model2.summary()"
   ]
  },
  {
   "cell_type": "markdown",
   "metadata": {},
   "source": [
    "\\* 학습 이전의 model 출력"
   ]
  },
  {
   "cell_type": "code",
   "execution_count": 73,
   "metadata": {},
   "outputs": [
    {
     "data": {
      "image/png": "[encoded data removed]",
      "text/plain": [
       "<Figure size 432x288 with 2 Axes>"
      ]
     },
     "metadata": {
      "needs_background": "light"
     },
     "output_type": "display_data"
    }
   ],
   "source": [
    "plt.subplot(211)\n",
    "plt.plot([1, 2, 3], X_train2[1].flatten(), 'bo-', label=\"input sequence\")\n",
    "plt.plot([4, 5, 6], Y_train2[1].flatten(), 'ro-', label=\"target sequence\")\n",
    "plt.plot([4, 5, 6], model2.predict(X_train2[1:2, :, :]\n",
    "                                   ).flatten(), 'gs-', label=\"output sequence\")\n",
    "plt.xlim(-0.5, 7.5)\n",
    "plt.ylim(-1.1, 1.1)\n",
    "plt.legend()\n",
    "plt.title(\"Second sample sequence\")\n",
    "plt.subplot(212)\n",
    "plt.plot([2, 3, 4], X_train2[2].flatten(), 'bo-', label=\"input sequence\")\n",
    "plt.plot([5, 6, 7], Y_train2[2].flatten(), 'ro-', label=\"target sequence\")\n",
    "plt.plot([5, 6, 7], model2.predict(X_train2[2:3, :, :]\n",
    "                                   ).flatten(), 'gs-', label=\"output sequence\")\n",
    "plt.xlim(-0.5, 7.5)\n",
    "plt.ylim(-1.1, 1.1)\n",
    "plt.legend()\n",
    "plt.title(\"Third sample sequence\")\n",
    "plt.tight_layout()\n",
    "plt.show()"
   ]
  },
  {
   "cell_type": "code",
   "execution_count": 74,
   "metadata": {},
   "outputs": [
    {
     "name": "stdout",
     "output_type": "stream",
     "text": [
      "Epoch 1/100\n",
      " - 0s - loss: 0.8865 - mean_squared_error: 0.8865\n",
      "Epoch 2/100\n",
      " - 0s - loss: 0.8670 - mean_squared_error: 0.8670\n",
      "Epoch 3/100\n",
      " - 0s - loss: 0.8479 - mean_squared_error: 0.8479\n",
      "Epoch 4/100\n",
      " - 0s - loss: 0.8292 - mean_squared_error: 0.8292\n",
      "Epoch 5/100\n",
      " - 0s - loss: 0.8108 - mean_squared_error: 0.8108\n",
      "Epoch 6/100\n",
      " - 0s - loss: 0.7928 - mean_squared_error: 0.7928\n",
      "Epoch 7/100\n",
      " - 0s - loss: 0.7751 - mean_squared_error: 0.7751\n",
      "Epoch 8/100\n",
      " - 0s - loss: 0.7579 - mean_squared_error: 0.7579\n",
      "Epoch 9/100\n",
      " - 0s - loss: 0.7410 - mean_squared_error: 0.7410\n",
      "Epoch 10/100\n",
      " - 0s - loss: 0.7245 - mean_squared_error: 0.7245\n",
      "Epoch 11/100\n",
      " - 0s - loss: 0.7084 - mean_squared_error: 0.7084\n",
      "Epoch 12/100\n",
      " - 0s - loss: 0.6926 - mean_squared_error: 0.6926\n",
      "Epoch 13/100\n",
      " - 0s - loss: 0.6772 - mean_squared_error: 0.6772\n",
      "Epoch 14/100\n",
      " - 0s - loss: 0.6622 - mean_squared_error: 0.6622\n",
      "Epoch 15/100\n",
      " - 0s - loss: 0.6475 - mean_squared_error: 0.6475\n",
      "Epoch 16/100\n",
      " - 0s - loss: 0.6331 - mean_squared_error: 0.6331\n",
      "Epoch 17/100\n",
      " - 0s - loss: 0.6191 - mean_squared_error: 0.6191\n",
      "Epoch 18/100\n",
      " - 0s - loss: 0.6055 - mean_squared_error: 0.6055\n",
      "Epoch 19/100\n",
      " - 0s - loss: 0.5921 - mean_squared_error: 0.5921\n",
      "Epoch 20/100\n",
      " - 0s - loss: 0.5791 - mean_squared_error: 0.5791\n",
      "Epoch 21/100\n",
      " - 0s - loss: 0.5664 - mean_squared_error: 0.5664\n",
      "Epoch 22/100\n",
      " - 0s - loss: 0.5540 - mean_squared_error: 0.5540\n",
      "Epoch 23/100\n",
      " - 0s - loss: 0.5419 - mean_squared_error: 0.5419\n",
      "Epoch 24/100\n",
      " - 0s - loss: 0.5301 - mean_squared_error: 0.5301\n",
      "Epoch 25/100\n",
      " - 0s - loss: 0.5186 - mean_squared_error: 0.5186\n",
      "Epoch 26/100\n",
      " - 0s - loss: 0.5073 - mean_squared_error: 0.5073\n",
      "Epoch 27/100\n",
      " - 0s - loss: 0.4964 - mean_squared_error: 0.4964\n",
      "Epoch 28/100\n",
      " - 0s - loss: 0.4857 - mean_squared_error: 0.4857\n",
      "Epoch 29/100\n",
      " - 0s - loss: 0.4753 - mean_squared_error: 0.4753\n",
      "Epoch 30/100\n",
      " - 0s - loss: 0.4651 - mean_squared_error: 0.4651\n",
      "Epoch 31/100\n",
      " - 0s - loss: 0.4552 - mean_squared_error: 0.4552\n",
      "Epoch 32/100\n",
      " - 0s - loss: 0.4456 - mean_squared_error: 0.4456\n",
      "Epoch 33/100\n",
      " - 0s - loss: 0.4361 - mean_squared_error: 0.4361\n",
      "Epoch 34/100\n",
      " - 0s - loss: 0.4270 - mean_squared_error: 0.4270\n",
      "Epoch 35/100\n",
      " - 0s - loss: 0.4181 - mean_squared_error: 0.4181\n",
      "Epoch 36/100\n",
      " - 0s - loss: 0.4094 - mean_squared_error: 0.4094\n",
      "Epoch 37/100\n",
      " - 0s - loss: 0.4009 - mean_squared_error: 0.4009\n",
      "Epoch 38/100\n",
      " - 0s - loss: 0.3926 - mean_squared_error: 0.3926\n",
      "Epoch 39/100\n",
      " - 0s - loss: 0.3846 - mean_squared_error: 0.3846\n",
      "Epoch 40/100\n",
      " - 0s - loss: 0.3768 - mean_squared_error: 0.3768\n",
      "Epoch 41/100\n",
      " - 0s - loss: 0.3692 - mean_squared_error: 0.3692\n",
      "Epoch 42/100\n",
      " - 0s - loss: 0.3617 - mean_squared_error: 0.3617\n",
      "Epoch 43/100\n",
      " - 0s - loss: 0.3545 - mean_squared_error: 0.3545\n",
      "Epoch 44/100\n",
      " - 0s - loss: 0.3475 - mean_squared_error: 0.3475\n",
      "Epoch 45/100\n",
      " - 0s - loss: 0.3406 - mean_squared_error: 0.3406\n",
      "Epoch 46/100\n",
      " - 0s - loss: 0.3339 - mean_squared_error: 0.3339\n",
      "Epoch 47/100\n",
      " - 0s - loss: 0.3274 - mean_squared_error: 0.3274\n",
      "Epoch 48/100\n",
      " - 0s - loss: 0.3210 - mean_squared_error: 0.3210\n",
      "Epoch 49/100\n",
      " - 0s - loss: 0.3149 - mean_squared_error: 0.3149\n",
      "Epoch 50/100\n",
      " - 0s - loss: 0.3088 - mean_squared_error: 0.3088\n",
      "Epoch 51/100\n",
      " - 0s - loss: 0.3029 - mean_squared_error: 0.3029\n",
      "Epoch 52/100\n",
      " - 0s - loss: 0.2972 - mean_squared_error: 0.2972\n",
      "Epoch 53/100\n",
      " - 0s - loss: 0.2916 - mean_squared_error: 0.2916\n",
      "Epoch 54/100\n",
      " - 0s - loss: 0.2862 - mean_squared_error: 0.2862\n",
      "Epoch 55/100\n",
      " - 0s - loss: 0.2809 - mean_squared_error: 0.2809\n",
      "Epoch 56/100\n",
      " - 0s - loss: 0.2757 - mean_squared_error: 0.2757\n",
      "Epoch 57/100\n",
      " - 0s - loss: 0.2707 - mean_squared_error: 0.2707\n",
      "Epoch 58/100\n",
      " - 0s - loss: 0.2657 - mean_squared_error: 0.2657\n",
      "Epoch 59/100\n",
      " - 0s - loss: 0.2609 - mean_squared_error: 0.2609\n",
      "Epoch 60/100\n",
      " - 0s - loss: 0.2563 - mean_squared_error: 0.2563\n",
      "Epoch 61/100\n",
      " - 0s - loss: 0.2517 - mean_squared_error: 0.2517\n",
      "Epoch 62/100\n",
      " - 0s - loss: 0.2473 - mean_squared_error: 0.2473\n",
      "Epoch 63/100\n",
      " - 0s - loss: 0.2429 - mean_squared_error: 0.2429\n",
      "Epoch 64/100\n",
      " - 0s - loss: 0.2387 - mean_squared_error: 0.2387\n",
      "Epoch 65/100\n",
      " - 0s - loss: 0.2346 - mean_squared_error: 0.2346\n",
      "Epoch 66/100\n",
      " - 0s - loss: 0.2306 - mean_squared_error: 0.2306\n",
      "Epoch 67/100\n",
      " - 0s - loss: 0.2267 - mean_squared_error: 0.2267\n",
      "Epoch 68/100\n",
      " - 0s - loss: 0.2229 - mean_squared_error: 0.2229\n",
      "Epoch 69/100\n",
      " - 0s - loss: 0.2191 - mean_squared_error: 0.2191\n",
      "Epoch 70/100\n",
      " - 0s - loss: 0.2155 - mean_squared_error: 0.2155\n",
      "Epoch 71/100\n",
      " - 0s - loss: 0.2120 - mean_squared_error: 0.2120\n",
      "Epoch 72/100\n",
      " - 0s - loss: 0.2085 - mean_squared_error: 0.2085\n",
      "Epoch 73/100\n",
      " - 0s - loss: 0.2052 - mean_squared_error: 0.2052\n",
      "Epoch 74/100\n",
      " - 0s - loss: 0.2019 - mean_squared_error: 0.2019\n",
      "Epoch 75/100\n",
      " - 0s - loss: 0.1987 - mean_squared_error: 0.1987\n",
      "Epoch 76/100\n",
      " - 0s - loss: 0.1956 - mean_squared_error: 0.1956\n",
      "Epoch 77/100\n",
      " - 0s - loss: 0.1926 - mean_squared_error: 0.1926\n",
      "Epoch 78/100\n",
      " - 0s - loss: 0.1897 - mean_squared_error: 0.1897\n",
      "Epoch 79/100\n",
      " - 0s - loss: 0.1868 - mean_squared_error: 0.1868\n",
      "Epoch 80/100\n",
      " - 0s - loss: 0.1840 - mean_squared_error: 0.1840\n",
      "Epoch 81/100\n",
      " - 0s - loss: 0.1813 - mean_squared_error: 0.1813\n",
      "Epoch 82/100\n",
      " - 0s - loss: 0.1787 - mean_squared_error: 0.1787\n",
      "Epoch 83/100\n",
      " - 0s - loss: 0.1761 - mean_squared_error: 0.1761\n",
      "Epoch 84/100\n",
      " - 0s - loss: 0.1736 - mean_squared_error: 0.1736\n",
      "Epoch 85/100\n",
      " - 0s - loss: 0.1712 - mean_squared_error: 0.1712\n",
      "Epoch 86/100\n",
      " - 0s - loss: 0.1688 - mean_squared_error: 0.1688\n",
      "Epoch 87/100\n",
      " - 0s - loss: 0.1665 - mean_squared_error: 0.1665\n",
      "Epoch 88/100\n",
      " - 0s - loss: 0.1643 - mean_squared_error: 0.1643\n",
      "Epoch 89/100\n",
      " - 0s - loss: 0.1621 - mean_squared_error: 0.1621\n",
      "Epoch 90/100\n",
      " - 0s - loss: 0.1600 - mean_squared_error: 0.1600\n",
      "Epoch 91/100\n",
      " - 0s - loss: 0.1580 - mean_squared_error: 0.1580\n",
      "Epoch 92/100\n",
      " - 0s - loss: 0.1560 - mean_squared_error: 0.1560\n",
      "Epoch 93/100\n",
      " - 0s - loss: 0.1541 - mean_squared_error: 0.1541\n",
      "Epoch 94/100\n",
      " - 0s - loss: 0.1522 - mean_squared_error: 0.1522\n",
      "Epoch 95/100\n",
      " - 0s - loss: 0.1504 - mean_squared_error: 0.1504\n",
      "Epoch 96/100\n",
      " - 0s - loss: 0.1486 - mean_squared_error: 0.1486\n",
      "Epoch 97/100\n",
      " - 0s - loss: 0.1469 - mean_squared_error: 0.1469\n",
      "Epoch 98/100\n",
      " - 0s - loss: 0.1453 - mean_squared_error: 0.1453\n",
      "Epoch 99/100\n",
      " - 0s - loss: 0.1437 - mean_squared_error: 0.1437\n",
      "Epoch 100/100\n",
      " - 0s - loss: 0.1421 - mean_squared_error: 0.1421\n"
     ]
    }
   ],
   "source": [
    "history = model2.fit(X_train2, Y_train2, epochs=100, verbose=2)"
   ]
  },
  {
   "cell_type": "markdown",
   "metadata": {},
   "source": [
    "#### 2.3 학습 결과 확인"
   ]
  },
  {
   "cell_type": "markdown",
   "metadata": {},
   "source": [
    "\\* 학습을 후의 출력"
   ]
  },
  {
   "cell_type": "code",
   "execution_count": 75,
   "metadata": {},
   "outputs": [
    {
     "ename": "SyntaxError",
     "evalue": "invalid syntax (<ipython-input-75-55384daea628>, line 20)",
     "output_type": "error",
     "traceback": [
      "\u001b[0;36m  File \u001b[0;32m\"<ipython-input-75-55384daea628>\"\u001b[0;36m, line \u001b[0;32m20\u001b[0m\n\u001b[0;31m    plt.show()ㅣ\u001b[0m\n\u001b[0m              ^\u001b[0m\n\u001b[0;31mSyntaxError\u001b[0m\u001b[0;31m:\u001b[0m invalid syntax\n"
     ]
    }
   ],
   "source": [
    "plt.subplot(211)\n",
    "plt.plot([1, 2, 3], X_train2[1].flatten(), 'bo-', label=\"input sequence\")\n",
    "plt.plot([4, 5, 6], Y_train2[1].flatten(), 'ro-', label=\"target sequence\")\n",
    "plt.plot([4, 5, 6], model2.predict(X_train2[1:2, :, :]\n",
    "                                   ).flatten(), 'gs-', label=\"output sequence\")\n",
    "plt.xlim(-0.5, 7.5)\n",
    "plt.ylim(-1.1, 1.1)\n",
    "plt.legend()\n",
    "plt.title(\"Second sample sequence\")\n",
    "plt.subplot(212)\n",
    "plt.plot([2, 3, 4], X_train2[2].flatten(), 'bo-', label=\"input sequence\")\n",
    "plt.plot([5, 6, 7], Y_train2[2].flatten(), 'ro-', label=\"target sequence\")\n",
    "plt.plot([5, 6, 7], model2.predict(X_train2[2:3, :, :]\n",
    "                                   ).flatten(), 'gs-', label=\"output sequence\")\n",
    "plt.xlim(-0.5, 7.5)\n",
    "plt.ylim(-1.1, 1.1)\n",
    "plt.legend()\n",
    "plt.title(\"Third sample sequence\")\n",
    "plt.tight_layout()\n",
    "plt.show()"
   ]
  },
  {
   "cell_type": "markdown",
   "metadata": {},
   "source": [
    "# 장단기 기억 모형(Long short-term memory, LSTM)\n",
    " \n",
    "+ 현재 시점을 예측하는데 필요한 문맥이 가까이 있고 많지 않다면 RNN은 이를 학습할 수 있습니다. 하지만, 정보를 필요로하는 시점과, 필요한 정보가 멀리 떨어져있다면 RNN은 잘 예측할 수 없게 됩니다. 이 문제를 __\"Long-term dependency\"__라고 하며 이를 해결하기 위해 고안된 것이 LSTM입니다.\n",
    "\n",
    "\n",
    "+ 이렇게 학습능력이 크게 저하되는 것은 관련 정보와 그 정보를 사용하는 지점 사이 거리가 멀 경우 역전파시 경사가 점차 줄기 때문입니다. 그렇기 때문에 경사 소실 문제(Vanishing gradient problem)라고도 합니다"
   ]
  },
  {
   "cell_type": "markdown",
   "metadata": {},
   "source": [
    "## LSTM은 RNN의 히든 state에 cell-state를 추가한 구조입니다.\n",
    "\n",
    "<img src=\"./Images/LSTM.png\">\n",
    "\n",
    "__cell state는 state가 시간이 오래 경과하더라도 경사가 비교적 잘 전파되도록 합니다.__"
   ]
  },
  {
   "cell_type": "markdown",
   "metadata": {},
   "source": [
    "<img src=\"./Images/forgetgate.png\">\n",
    "1\\. forget gate(망각게이트) : '과거 정보를 잊기'를 위한 게이트\n",
    "\n",
    "망각게이트는 t시점에서의 입력값($x_t$)과 이전 t−1시점에서의 출력값($h_{t-1}$)을 입력받아 이전 셀의 정보를 망각할지 말지 결정합니다.\n",
    "\n",
    "망각게이트의 출력값 : $f_t = \\sigma{(W_f[h_{t-1},x_t]+b_f)}$\n",
    "\n",
    "($\\sigma$ : 시그모이드 함수, $W_f$ : 망각게이트의 가중치. $b_f$: 바이어스 )"
   ]
  },
  {
   "cell_type": "markdown",
   "metadata": {},
   "source": [
    "<img src=\"./Images/inputgate.png\">\n",
    "\n",
    "2\\. input gate(입력게이트):'현재 정보를 기억하기'위한 게이트\n",
    "\n",
    "입력게이트는  t시점에서의 입력값($x_t$)과 이전 t−1시점에서의 출력값($h_{t-1}$)을 입력받고 현재의 정보를 다음 시점으로 전해질 cell state에 얼마나 반영할 지를 결정합니다.\n",
    "\n",
    "입력게이트의 출력값 : $i_t = \\sigma{(W_i[h_{t-1},x_t]+b_i)}$\n",
    "\n",
    "($\\sigma$ : 시그모이드 함수, $W_i$ : 입력게이트의 가중치. $b_i$: 바이어스 )"
   ]
  },
  {
   "cell_type": "markdown",
   "metadata": {},
   "source": [
    "<img src=\"./Images/combination.png\">\n",
    "\n",
    "3\\. cell state 갱신\n",
    "\n",
    "입력값($x_t$)과 이전 t−1시점에서의 출력값($h_{t-1}$) 을 입력받고 하이퍼탄젠트 함수를 사용해  $\\tilde{C}_t$ 를 생성하고 입력게이트의 출력과 Hadamard 곱 (⊙) 을 합니다.\n",
    "그리고 이 값과 망각게이트의 출력을 이용해 cell state를 다음 수식과 같이 갱신합니다.\n",
    "\n",
    "(⊙는 요소별 곱셈을 뜻하는 Hadamard product 연산자입니다.)\n",
    "\n",
    "$\\tilde{C}_t = tanh(W_c[h_{t-1},x_t]+b_c)$\n",
    "\n",
    "($W_c$ : 셀 상태 가중치. $b_c$: 바이어스 )\n",
    "\n",
    "$C_t = C_{t-1}⊙f_t+i_t⊙\\tilde{C}_t$"
   ]
  },
  {
   "cell_type": "markdown",
   "metadata": {},
   "source": [
    "<img src=\"./Images/outputgate.png\">\n",
    "\n",
    "4\\. 현재 셀의 출력값 계산\n",
    "\n",
    "현재 셀의 출력값 $h_t$는 다음 수식과 같이 계산합니다.\n",
    "\n",
    "$o_t = \\sigma{(W_o[h_{t-1},x_t]+b_0)}$\n",
    "\n",
    "$h_t = o_t⊙tanh(C_t) $"
   ]
  },
  {
   "cell_type": "markdown",
   "metadata": {},
   "source": [
    "### Reference\n",
    "+ https://github.com/hunkim/DeepLearningZeroToAll\n",
    " \n",
    "+ https://datascienceschool.net\n",
    " \n",
    "+ http://colah.github.io/posts/2015-08-Understanding-LSTMs/"
   ]
  }
 ],
 "metadata": {
  "kernelspec": {
   "display_name": "sstest",
   "language": "python",
   "name": "sstest"
  },
  "language_info": {
   "codemirror_mode": {
    "name": "ipython",
    "version": 3
   },
   "file_extension": ".py",
   "mimetype": "text/x-python",
   "name": "python",
   "nbconvert_exporter": "python",
   "pygments_lexer": "ipython3",
   "version": "3.6.8"
  }
 },
 "nbformat": 4,
 "nbformat_minor": 2
}
