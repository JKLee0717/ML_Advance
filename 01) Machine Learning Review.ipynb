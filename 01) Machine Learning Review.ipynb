{
 "cells": [
  {
   "cell_type": "markdown",
   "metadata": {},
   "source": [
    "Lab01\n",
    "====="
   ]
  },
  {
   "cell_type": "markdown",
   "metadata": {},
   "source": [
    "###  Context\n",
    "#### Machine Learning Review\n",
    "   + Clustering\n",
    "   + Regression\n",
    "   + Classification\n",
    "   + Ensemble"
   ]
  },
  {
   "cell_type": "markdown",
   "metadata": {},
   "source": [
    "# 머신러닝 기초 리뷰\n",
    "간단하게 지난 데이터 분석 기초 수업에서 배웠던 기초 머신러닝 알고리즘들의 사용법을 살펴보고 심화 내용을 시작하도록 하겠습니다.<br>\n",
    "\n",
    "## 1) Clustering\n",
    "클러스터링은 비지도학습의 대표적인 알고리즘으로 '비슷한 데이터는 모여있을것이다' 라는 관점으로 데이터를 군집화합니다.<br>\n",
    "\n",
    "1. k-means Clustering - k개의 중심점을 기준으로 각 데이터마다 가장 가까운 중심점으로 할당하고, 생성된 군집의 중심점으로 새로운 중심점을 결정하는 알고리즘\n",
    "2. Hierarchical Clustering - n개의 클러스터를 형성하고 가장 가까운 데이터끼리 군집을 형성(Bottom-Up)하는 알고리즘\n",
    "\n",
    "## 2) Regression\n",
    "회귀는 추정하고자 하는 라벨이 연속 데이터인 경우 사용하는 알고리즘으로 잔차의 제곱(분산)을 최소화 하는 회귀선을 찾는 알고리즘입니다.<br>\n",
    "\n",
    "1. Simple Linear Regression - 데이터 변수의 분포가 직선이고, 1개의 독립 변수에 대한 선형 회귀\n",
    "2. Multiple Linear Regression - 데이터 변수의 분포가 직선이고, 2개 이상의 독립 변수에 대한 선형 회귀\n",
    "3. Polynomial Regression - 데이터 변수의 분포가 곡선인 선형 회귀\n",
    "\n",
    "## 3) Classification\n",
    "추정하고자 하는 라벨이 범주형 데이터인 경우 사용하는 알고리즘입니다. 모델마다 서로 다른 기준으로 분류 모델을 형성하는 알고리즘입니다.<br>\n",
    "\n",
    "1. k-NN - k-means와 혼동될 수 있는 분류 모델입니다. 새로운 데이터가 투입되었을 때 그 데이터를 기준으로 k개의 이웃을 찾아 가장 많은 라벨을 선택합니다.\n",
    "2. Decision Tree - 데이터의 정보량을 최대화하는 방향으로 Greedy하게 분기합니다. 최적해를 찾지 못할 수 있습니다.\n",
    "3. Logistic Regression - 선형 회귀의 종속 변수를 odd로 표현하여 이진 분류를 가능하게한 모델입니다.\n",
    "\n",
    "\n",
    "## 4) Ensemble Learning\n",
    "앙상블 기법은 여러개의 단일 모델을 학습하여 하나의 모델로 작동하게 하는 방법입니다.<br>"
   ]
  },
  {
   "cell_type": "markdown",
   "metadata": {},
   "source": [
    "\n",
    "\n",
    "### Bagging, Boosting\n",
    "동일한 알고리즘을 사용하여 여러개의 단일 모델을 통해 하나의 모델을 만드는 방법\n",
    "\n",
    "1. Bagging - 샘플을 여러 번 뽑아 각 모델을 학습시켜 결과를 집계(Aggregating) 하는 방법입니다.\n",
    "2. Boosting - 이전 학습시에 에러를 일으킨 데이터에 더 큰 중점을 두고 다음 학습을 진행하는 방법입니다.\n",
    "\n",
    "<img src='./Images/01.JPG'>\n",
    "\n",
    "### Stacking\n",
    "서로 다른 알고리즘을 사용하여 여러개의 단일 모델을 통해 하나의 모델을 만드는 방법.<br>\n",
    "\n",
    "\"Two heads are better than one” 이라는 아이디어에서 출발합니다.\n",
    "Stacking은 서로 다른 모델들을 조합해서 최고의 성능을 내는 모델을 생성합니다. <br> \n",
    "여기에서 사용되는 모델은 SVM, RandomForest, KNN 등 다양한 알고리즘을 사용할 수 있습니다. <br>\n",
    "이러한 조합을 통해 서로의 장점은 취하고 약점을 보완할 수 있게 되는 것 입니다.\n",
    "\n",
    "직관적인 이해 위한 예시로는 업무 능력이 '중'인 4명과 '상'인 1명이 있는 경우<br>\n",
    "어떤 프로젝트를 '상' 1명이 하는 것보다 '중'인 4명이 같이 할 때 더 좋은 성과가 나오는 것을 생각하시면 쉽습니다.\n",
    "\n",
    "\n",
    "앙상블 모델은 단일 모델보다 더욱 좋은 성능을 내며 이는 모델들의 다양성 측면 떄문에 성능이 높아진다고 합니다. <br>\n"
   ]
  },
  {
   "cell_type": "markdown",
   "metadata": {},
   "source": [
    "\n",
    "#### 투표 기반 분류기(Voting Classifier)\n",
    "학습 단계에서 여러개의 머신러닝 알고리즘 모델을 학습시킨 후 이러한 모델들을 이용해 새로운 데이터에 대해 각 모델의 예측값을 가지고 다수결 투표를 통해 최종 클래스를 예측하는 방법입니다. 이러한 분류기를 직접 투표(hard voting) 분류기라고 합니다.\n",
    "<img src='./Images/02.JPG'>\n",
    "\n",
    "## Moons 데이터셋에 앙상블 학습 적용하기\n",
    "\n",
    "위에서 살펴본 투표 분류기를 Scikit-Learn의 VotingClassifier를 이용해 예제 데이터셋인 moons데이터 셋에 적용해보겠습니다.<br>\n",
    "moons 데이터셋은 Scikit-Learn에서 제공하는 반달 모양의 데이터셋입니다.\n",
    "<img src='./Images/03.JPG' style=\"height: 400px\">\n",
    " "
   ]
  },
  {
   "cell_type": "code",
   "execution_count": 1,
   "metadata": {
    "scrolled": true
   },
   "outputs": [
    {
     "data": {
      "text/html": [
       "<div>\n",
       "<style scoped>\n",
       "    .dataframe tbody tr th:only-of-type {\n",
       "        vertical-align: middle;\n",
       "    }\n",
       "\n",
       "    .dataframe tbody tr th {\n",
       "        vertical-align: top;\n",
       "    }\n",
       "\n",
       "    .dataframe thead th {\n",
       "        text-align: right;\n",
       "    }\n",
       "</style>\n",
       "<table border=\"1\" class=\"dataframe\">\n",
       "  <thead>\n",
       "    <tr style=\"text-align: right;\">\n",
       "      <th></th>\n",
       "      <th>x1</th>\n",
       "      <th>x2</th>\n",
       "      <th>y</th>\n",
       "    </tr>\n",
       "  </thead>\n",
       "  <tbody>\n",
       "    <tr>\n",
       "      <th>0</th>\n",
       "      <td>0.831039</td>\n",
       "      <td>-0.258749</td>\n",
       "      <td>1</td>\n",
       "    </tr>\n",
       "    <tr>\n",
       "      <th>1</th>\n",
       "      <td>1.185064</td>\n",
       "      <td>0.920387</td>\n",
       "      <td>0</td>\n",
       "    </tr>\n",
       "    <tr>\n",
       "      <th>2</th>\n",
       "      <td>1.164022</td>\n",
       "      <td>-0.455526</td>\n",
       "      <td>1</td>\n",
       "    </tr>\n",
       "    <tr>\n",
       "      <th>3</th>\n",
       "      <td>-0.023656</td>\n",
       "      <td>1.086288</td>\n",
       "      <td>0</td>\n",
       "    </tr>\n",
       "    <tr>\n",
       "      <th>4</th>\n",
       "      <td>0.480503</td>\n",
       "      <td>1.509424</td>\n",
       "      <td>0</td>\n",
       "    </tr>\n",
       "  </tbody>\n",
       "</table>\n",
       "</div>"
      ],
      "text/plain": [
       "         x1        x2  y\n",
       "0  0.831039 -0.258749  1\n",
       "1  1.185064  0.920387  0\n",
       "2  1.164022 -0.455526  1\n",
       "3 -0.023656  1.086288  0\n",
       "4  0.480503  1.509424  0"
      ]
     },
     "execution_count": 1,
     "metadata": {},
     "output_type": "execute_result"
    }
   ],
   "source": [
    "from os.path import join\n",
    "import pandas as pd\n",
    "\n",
    "\n",
    "df = pd.read_csv(join('data','moons_data.csv'))\n",
    "df.head()"
   ]
  },
  {
   "cell_type": "code",
   "execution_count": 2,
   "metadata": {},
   "outputs": [
    {
     "name": "stdout",
     "output_type": "stream",
     "text": [
      "LogisticRegression 0.864\n",
      "RandomForestClassifier 0.872\n",
      "SVC 0.888\n",
      "VotingClassifier 0.896\n"
     ]
    }
   ],
   "source": [
    "import warnings\n",
    "warnings.filterwarnings(\"ignore\")\n",
    "\n",
    "from sklearn.ensemble import VotingClassifier\n",
    "from sklearn.model_selection import train_test_split\n",
    "\n",
    "X = df[[\"x1\",\"x2\"]]\n",
    "y = df[\"y\"]\n",
    "\n",
    "X_train, X_test, y_train, y_test = train_test_split(X, y, random_state=42)\n",
    "\n",
    "from sklearn.ensemble import RandomForestClassifier\n",
    "from sklearn.ensemble import VotingClassifier\n",
    "from sklearn.linear_model import LogisticRegression\n",
    "from sklearn.svm import SVC\n",
    "\n",
    "\n",
    "log_clf = LogisticRegression(random_state=42)\n",
    "rnd_clf = RandomForestClassifier(random_state=42)\n",
    "svm_clf = SVC(random_state=42)\n",
    "\n",
    "voting_clf = VotingClassifier(\n",
    "    estimators=[('lr', log_clf), ('rf', rnd_clf), ('svc', svm_clf)])\n",
    "\n",
    "voting_clf.fit(X_train, y_train)\n",
    "\n",
    "from sklearn.metrics import accuracy_score\n",
    "\n",
    "for clf in (log_clf, rnd_clf, svm_clf, voting_clf):\n",
    "    clf.fit(X_train, y_train)\n",
    "    y_pred = clf.predict(X_test)\n",
    "    print(clf.__class__.__name__, accuracy_score(y_test, y_pred))\n",
    "    "
   ]
  },
  {
   "cell_type": "code",
   "execution_count": 3,
   "metadata": {},
   "outputs": [],
   "source": [
    "import warnings\n",
    "warnings.filterwarnings(\"ignore\")\n",
    "\n",
    "from os.path import join\n",
    "\n",
    "import time\n",
    "import random\n",
    "import numpy as np\n",
    "import pandas as pd\n",
    "\n",
    "# 차원 축소 모델\n",
    "from sklearn.decomposition import PCA\n",
    "\n",
    "# 군집화 모델\n",
    "from sklearn.cluster import KMeans\n",
    "from sklearn.cluster import AgglomerativeClustering\n",
    "\n",
    "# 선형 회귀 모델\n",
    "from sklearn.linear_model import LinearRegression\n",
    "\n",
    "# 분류 모델\n",
    "from sklearn.neighbors import KNeighborsClassifier\n",
    "from sklearn.tree import DecisionTreeClassifier\n",
    "from sklearn.linear_model import LogisticRegression\n",
    "\n",
    "# 앙상블 모델\n",
    "from sklearn.ensemble import VotingClassifier\n",
    "\n",
    "from sklearn.model_selection import train_test_split\n",
    "\n",
    "import matplotlib.pyplot as plt\n",
    "\n",
    "datapath = join('data', join('wine', 'wine.txt'))\n",
    "labelpath = join('data', join('wine', 'wine_attributes.txt'))\n",
    "\n",
    "columns = list()\n",
    "with open(labelpath, 'r') as f:\n",
    "    columns = f.read().split('\\n')"
   ]
  },
  {
   "cell_type": "markdown",
   "metadata": {},
   "source": [
    "## 1. 데이터 살펴보기\n",
    "이번 장에서 우리가 사용할 데이터는 178개의 행과 14개의 열로 이루어진 와인 데이터 입니다. <br>\n",
    "와인 데이터가 가진 컬럼에 대해 간단히 살펴 보겠습니다.<br>\n",
    "와인 데이터는 13개의 컬럼을 가지고 있으며, 3개의 등급으로 나누어진 데이터셋 입니다.<br>\n",
    "해당 데이터셋은 등급 컬럼을 이용해 분류에 사용할 수도 있고, 클러스터링, 회귀, 차원축소 등 여러가지 머신러닝 기법에 사용될 수 있습니다.<br>\n",
    "### Feature Description \n",
    "1. Alcohol : 알콜 도수.\n",
    "2. Malic acid : 와인 특유의 신맛을 나타내는 성분.\n",
    "3. Ash : 영양학에서, 음식물 속에 들어 있는 무기물 또는 그것의 전체 분량에 대한 비율을 이르는 말.\n",
    "4. Alcalinity of ash : 무기물의 염기성 정도.\n",
    "5. Magnesium : 마그네슘 함량.\n",
    "6. Total phenols : 와인에 들어있는 페놀의 전체 양.\n",
    "7. Flavonoids :  레드 와인의 페놀 성분 중 최대 90% 비율을 나타내는 폴리 페놀 성분들 플라보노이드 라고 한다. 떫은 맛을 내는 탄닌이 플라보노이드에 속한다.\n",
    "8. Nonflavanoid phenols : 90% 성분을 제외한 10%의 페놀 성분들.\n",
    "9. Proanthocyanins : 심장혈관 질환의 발병률을 낮추는데 도움을 주는 성분.\n",
    "10. Color intensity\t: 색의 진한 정도.\n",
    "11. Hue : 와인을 잔에 따라 흔들었을 때 와인과 글라스의 경계 부분의 색깔이 다른 정도. Edge 라고도 한다.\n",
    "12. OD280/OD315 of diluted wines\n",
    "13. Proline : 와인의 아미노산 성분 중 가장 많은 양을 차지함.\n",
    "\n",
    "<br>데이터를 살펴보기 쉽게 pandas DataFrame으로 읽습니다."
   ]
  },
  {
   "cell_type": "code",
   "execution_count": 4,
   "metadata": {},
   "outputs": [],
   "source": [
    "data = pd.read_csv(datapath, names = columns)"
   ]
  },
  {
   "cell_type": "markdown",
   "metadata": {},
   "source": [
    "DataFrame.head() 함수로 처음 5개의 데이터를 살펴볼 수 있습니다."
   ]
  },
  {
   "cell_type": "code",
   "execution_count": 5,
   "metadata": {},
   "outputs": [
    {
     "data": {
      "text/html": [
       "<div>\n",
       "<style scoped>\n",
       "    .dataframe tbody tr th:only-of-type {\n",
       "        vertical-align: middle;\n",
       "    }\n",
       "\n",
       "    .dataframe tbody tr th {\n",
       "        vertical-align: top;\n",
       "    }\n",
       "\n",
       "    .dataframe thead th {\n",
       "        text-align: right;\n",
       "    }\n",
       "</style>\n",
       "<table border=\"1\" class=\"dataframe\">\n",
       "  <thead>\n",
       "    <tr style=\"text-align: right;\">\n",
       "      <th></th>\n",
       "      <th>Class</th>\n",
       "      <th>Alcohol</th>\n",
       "      <th>Malic acid</th>\n",
       "      <th>Ash</th>\n",
       "      <th>Alcalinity of ash</th>\n",
       "      <th>Magnesium</th>\n",
       "      <th>Total phenols</th>\n",
       "      <th>Flavanoids</th>\n",
       "      <th>Nonflavanoid phenols</th>\n",
       "      <th>Proanthocyanins</th>\n",
       "      <th>Color intensity</th>\n",
       "      <th>Hue</th>\n",
       "      <th>OD280/OD315 of diluted wines</th>\n",
       "      <th>Proline</th>\n",
       "    </tr>\n",
       "  </thead>\n",
       "  <tbody>\n",
       "    <tr>\n",
       "      <th>0</th>\n",
       "      <td>1</td>\n",
       "      <td>14.23</td>\n",
       "      <td>1.71</td>\n",
       "      <td>2.43</td>\n",
       "      <td>15.6</td>\n",
       "      <td>127</td>\n",
       "      <td>2.80</td>\n",
       "      <td>3.06</td>\n",
       "      <td>0.28</td>\n",
       "      <td>2.29</td>\n",
       "      <td>5.64</td>\n",
       "      <td>1.04</td>\n",
       "      <td>3.92</td>\n",
       "      <td>1065</td>\n",
       "    </tr>\n",
       "    <tr>\n",
       "      <th>1</th>\n",
       "      <td>1</td>\n",
       "      <td>13.20</td>\n",
       "      <td>1.78</td>\n",
       "      <td>2.14</td>\n",
       "      <td>11.2</td>\n",
       "      <td>100</td>\n",
       "      <td>2.65</td>\n",
       "      <td>2.76</td>\n",
       "      <td>0.26</td>\n",
       "      <td>1.28</td>\n",
       "      <td>4.38</td>\n",
       "      <td>1.05</td>\n",
       "      <td>3.40</td>\n",
       "      <td>1050</td>\n",
       "    </tr>\n",
       "    <tr>\n",
       "      <th>2</th>\n",
       "      <td>1</td>\n",
       "      <td>13.16</td>\n",
       "      <td>2.36</td>\n",
       "      <td>2.67</td>\n",
       "      <td>18.6</td>\n",
       "      <td>101</td>\n",
       "      <td>2.80</td>\n",
       "      <td>3.24</td>\n",
       "      <td>0.30</td>\n",
       "      <td>2.81</td>\n",
       "      <td>5.68</td>\n",
       "      <td>1.03</td>\n",
       "      <td>3.17</td>\n",
       "      <td>1185</td>\n",
       "    </tr>\n",
       "    <tr>\n",
       "      <th>3</th>\n",
       "      <td>1</td>\n",
       "      <td>14.37</td>\n",
       "      <td>1.95</td>\n",
       "      <td>2.50</td>\n",
       "      <td>16.8</td>\n",
       "      <td>113</td>\n",
       "      <td>3.85</td>\n",
       "      <td>3.49</td>\n",
       "      <td>0.24</td>\n",
       "      <td>2.18</td>\n",
       "      <td>7.80</td>\n",
       "      <td>0.86</td>\n",
       "      <td>3.45</td>\n",
       "      <td>1480</td>\n",
       "    </tr>\n",
       "    <tr>\n",
       "      <th>4</th>\n",
       "      <td>1</td>\n",
       "      <td>13.24</td>\n",
       "      <td>2.59</td>\n",
       "      <td>2.87</td>\n",
       "      <td>21.0</td>\n",
       "      <td>118</td>\n",
       "      <td>2.80</td>\n",
       "      <td>2.69</td>\n",
       "      <td>0.39</td>\n",
       "      <td>1.82</td>\n",
       "      <td>4.32</td>\n",
       "      <td>1.04</td>\n",
       "      <td>2.93</td>\n",
       "      <td>735</td>\n",
       "    </tr>\n",
       "  </tbody>\n",
       "</table>\n",
       "</div>"
      ],
      "text/plain": [
       "   Class  Alcohol  Malic acid   Ash  Alcalinity of ash  Magnesium  \\\n",
       "0      1    14.23        1.71  2.43               15.6        127   \n",
       "1      1    13.20        1.78  2.14               11.2        100   \n",
       "2      1    13.16        2.36  2.67               18.6        101   \n",
       "3      1    14.37        1.95  2.50               16.8        113   \n",
       "4      1    13.24        2.59  2.87               21.0        118   \n",
       "\n",
       "   Total phenols  Flavanoids  Nonflavanoid phenols  Proanthocyanins  \\\n",
       "0           2.80        3.06                  0.28             2.29   \n",
       "1           2.65        2.76                  0.26             1.28   \n",
       "2           2.80        3.24                  0.30             2.81   \n",
       "3           3.85        3.49                  0.24             2.18   \n",
       "4           2.80        2.69                  0.39             1.82   \n",
       "\n",
       "   Color intensity   Hue  OD280/OD315 of diluted wines  Proline  \n",
       "0             5.64  1.04                          3.92     1065  \n",
       "1             4.38  1.05                          3.40     1050  \n",
       "2             5.68  1.03                          3.17     1185  \n",
       "3             7.80  0.86                          3.45     1480  \n",
       "4             4.32  1.04                          2.93      735  "
      ]
     },
     "execution_count": 5,
     "metadata": {},
     "output_type": "execute_result"
    }
   ],
   "source": [
    "data.head()"
   ]
  },
  {
   "cell_type": "markdown",
   "metadata": {},
   "source": [
    "라벨 변수를 따로 저장하고 데이터에서 제거합니다.<br>\n",
    "del DataFrame['컬럼이름']으로 제거할 수 있습니다."
   ]
  },
  {
   "cell_type": "code",
   "execution_count": 6,
   "metadata": {},
   "outputs": [],
   "source": [
    "label = data['Class']\n",
    "del data['Class']"
   ]
  },
  {
   "cell_type": "markdown",
   "metadata": {},
   "source": [
    "## 2. 간단한 전처리와 준비\n",
    "wine 데이터는 13개의 컬럼을 가지고 있고, 하나의 데이터(행)는 13개의 차원으로 이루어진 벡터라고 볼 수 있습니다. <br>\n",
    "13차원은 우리 눈으로 볼 수 있도록 표현하기 어려우므로 PCA 차원축소를 통해 차원을 줄이겠습니다.<br>\n",
    "또한, 각 변수들의 값의 범위를 min-max 정규화를 통해 조정해주겠습니다."
   ]
  },
  {
   "cell_type": "code",
   "execution_count": 7,
   "metadata": {},
   "outputs": [],
   "source": [
    "for dim in data.columns:\n",
    "        data[dim] -= np.min(data[dim])\n",
    "        data[dim] /= np.max(data[dim])"
   ]
  },
  {
   "cell_type": "code",
   "execution_count": 8,
   "metadata": {},
   "outputs": [],
   "source": [
    "# 클러스터에서는 시각화를 위해 2차원으로 차원을 축소합니다.\n",
    "pca = PCA(n_components=2)\n",
    "\n",
    "x = pca.fit_transform(data)"
   ]
  },
  {
   "cell_type": "markdown",
   "metadata": {},
   "source": [
    "## 3. Clustering\n",
    "k-means, hierarchical clustering 알고리즘을 살펴보겠습니다."
   ]
  },
  {
   "cell_type": "code",
   "execution_count": 9,
   "metadata": {},
   "outputs": [],
   "source": [
    "# k-means 모델 생성\n",
    "kmeans_model = KMeans(n_clusters=3)\n",
    "# hierarchical 모델 생성\n",
    "hierarchical = AgglomerativeClustering(n_clusters=3, linkage='average')"
   ]
  },
  {
   "cell_type": "code",
   "execution_count": 10,
   "metadata": {},
   "outputs": [],
   "source": [
    "# 데이터 학습 및 군집화\n",
    "kmeans_label = kmeans_model.fit_predict(x, label)\n",
    "hierarchical_label = hierarchical.fit_predict(x, label)"
   ]
  },
  {
   "cell_type": "markdown",
   "metadata": {},
   "source": [
    "#### 3_1. k-means 시각화"
   ]
  },
  {
   "cell_type": "code",
   "execution_count": 11,
   "metadata": {},
   "outputs": [
    {
     "data": {
      "image/png": "[encoded data removed]",
      "text/plain": [
       "<Figure size 432x288 with 1 Axes>"
      ]
     },
     "metadata": {
      "needs_background": "light"
     },
     "output_type": "display_data"
    }
   ],
   "source": [
    "plt.scatter(x[:,0], x[:,1], c=kmeans_label)\n",
    "plt.title('k-means Cluster')\n",
    "plt.show()"
   ]
  },
  {
   "cell_type": "markdown",
   "metadata": {},
   "source": [
    "#### 3_2. hierarchical clustering 시각화"
   ]
  },
  {
   "cell_type": "code",
   "execution_count": 12,
   "metadata": {},
   "outputs": [
    {
     "data": {
      "image/png": "[encoded data removed]",
      "text/plain": [
       "<Figure size 432x288 with 1 Axes>"
      ]
     },
     "metadata": {
      "needs_background": "light"
     },
     "output_type": "display_data"
    }
   ],
   "source": [
    "plt.scatter(x[:,0], x[:,1], c=hierarchical_label)\n",
    "plt.title('Hierarchical Cluster')\n",
    "plt.show()"
   ]
  },
  {
   "cell_type": "markdown",
   "metadata": {},
   "source": [
    "## 4. Regression\n",
    "이번에는 알콜 도수를 기준으로 회귀를 진행해보겠습니다. 회귀에서는 차원 축소를 사용하지 않고 특정 변수를 선택하겠습니다."
   ]
  },
  {
   "cell_type": "code",
   "execution_count": 13,
   "metadata": {},
   "outputs": [],
   "source": [
    "# 입력 데이터를 numpy 행렬로 변환합니다.(시각화 오류 방지)\n",
    "x = data['Proline'].values.reshape((-1, 1))\n",
    "y = data['Alcohol'].values"
   ]
  },
  {
   "cell_type": "code",
   "execution_count": 14,
   "metadata": {},
   "outputs": [],
   "source": [
    "# 데이터를 학습 데이터와 검증 데이터로 나눕니다.\n",
    "x_train, x_test, y_train, y_test = train_test_split(x, y,\n",
    "                                                    test_size=0.2,\n",
    "                                                    random_state=2019)"
   ]
  },
  {
   "cell_type": "code",
   "execution_count": 15,
   "metadata": {},
   "outputs": [
    {
     "data": {
      "image/png": "[encoded data removed]",
      "text/plain": [
       "<Figure size 432x288 with 1 Axes>"
      ]
     },
     "metadata": {
      "needs_background": "light"
     },
     "output_type": "display_data"
    }
   ],
   "source": [
    "# 데이터 좌표 plot\n",
    "plt.scatter(x_train, y_train,  color='black', label='Data Point')\n",
    "model = LinearRegression()\n",
    "model.fit(X=x_train,y=y_train)\n",
    "\n",
    "y_pred = model.predict(x_test)\n",
    "\n",
    "# 회귀 결과 plot\n",
    "plt.plot(x_test, y_pred, color='blue', linewidth=3, label='Linear Regression')\n",
    "\n",
    "# x축 label\n",
    "plt.xlabel('Proline')\n",
    "\n",
    "#y축 label\n",
    "plt.ylabel('Alcohol')\n",
    "plt.legend()\n",
    "plt.show()"
   ]
  },
  {
   "cell_type": "code",
   "execution_count": 16,
   "metadata": {},
   "outputs": [
    {
     "name": "stdout",
     "output_type": "stream",
     "text": [
      "R^2 : 0.438721401315867\n"
     ]
    }
   ],
   "source": [
    "# 모델 생성\n",
    "lr = LinearRegression()\n",
    "# 훈련 데이터로 모델 학습\n",
    "lr.fit(x_train, y_train)\n",
    "# R^2 확인\n",
    "print('R^2 : {}'.format(lr.score(x_test, y_test)))\n",
    "# 검증 데이터로 결과 얻기\n",
    "y_pred = lr.predict(x_test)"
   ]
  },
  {
   "cell_type": "code",
   "execution_count": 17,
   "metadata": {},
   "outputs": [
    {
     "data": {
      "text/plain": [
       "array([0.59589925])"
      ]
     },
     "execution_count": 17,
     "metadata": {},
     "output_type": "execute_result"
    }
   ],
   "source": [
    "lr.coef_"
   ]
  },
  {
   "cell_type": "markdown",
   "metadata": {},
   "source": [
    "## 5. Classification\n",
    "### 단일 모델\n",
    "마지막으로 간단하게 분류 모델 사용해보겠습니다. 분류 모델은 차원을 축소하지않고, 데이터 전체를 사용하겠습니다."
   ]
  },
  {
   "cell_type": "code",
   "execution_count": 18,
   "metadata": {},
   "outputs": [],
   "source": [
    "# 분류에서는 데이터 전체를 집어넣습니다.\n",
    "x = data"
   ]
  },
  {
   "cell_type": "code",
   "execution_count": 19,
   "metadata": {},
   "outputs": [],
   "source": [
    "# 데이터를 학습 데이터와 검증 데이터로 나눕니다.\n",
    "x_train, x_test, y_train, y_test = train_test_split(x, label,\n",
    "                                                    test_size=0.33,\n",
    "                                                    random_state=211)"
   ]
  },
  {
   "cell_type": "code",
   "execution_count": 20,
   "metadata": {},
   "outputs": [],
   "source": [
    "# 모델을 정의합니다.\n",
    "knn_clf = KNeighborsClassifier(n_neighbors=5, weights='distance')\n",
    "dt_clf = DecisionTreeClassifier(max_depth=5)\n",
    "logistic_clf = LogisticRegression()"
   ]
  },
  {
   "cell_type": "code",
   "execution_count": 21,
   "metadata": {},
   "outputs": [
    {
     "name": "stdout",
     "output_type": "stream",
     "text": [
      "knn acc : 96.61%\n",
      "dt acc : 86.44%\n",
      "logistic acc : 96.61%\n"
     ]
    }
   ],
   "source": [
    "# 모델을 학습합니다.\n",
    "knn_clf.fit(x_train, y_train)\n",
    "dt_clf.fit(x_train, y_train)\n",
    "logistic_clf.fit(x_train, y_train)\n",
    "\n",
    "# 정확도를 확인해봅니다.\n",
    "print('knn acc : {:.2f}%'.format(knn_clf.score(x_test, y_test)*100))\n",
    "print('dt acc : {:.2f}%'.format(dt_clf.score(x_test, y_test)*100))\n",
    "print('logistic acc : {:.2f}%'.format(logistic_clf.score(x_test, y_test)*100))"
   ]
  },
  {
   "cell_type": "markdown",
   "metadata": {},
   "source": [
    "## 6. Ensemble\n",
    "### 앙상블 모델\n",
    "상기 3개의 단일 모델을 앙상블 학습을 통해 하나의 모델로 만들어 보겠습니다."
   ]
  },
  {
   "cell_type": "code",
   "execution_count": 22,
   "metadata": {},
   "outputs": [],
   "source": [
    "# 앙상블 모델에 넣을 모델들을 보여질 이름과 모델 변수를 쌍으로 리스트로 만듭니다.\n",
    "clfs = [('k-NN',knn_clf), ('DT', dt_clf), ('LR', logistic_clf)]\n",
    "\n",
    "# 앙상블 모델에 모델 리스트를 넣어 정의합니다.\n",
    "ensemble_clf = VotingClassifier(estimators=clfs)"
   ]
  },
  {
   "cell_type": "code",
   "execution_count": 23,
   "metadata": {},
   "outputs": [
    {
     "name": "stdout",
     "output_type": "stream",
     "text": [
      "ensemble acc : 98.31%\n"
     ]
    }
   ],
   "source": [
    "# 모델을 학습합니다.\n",
    "ensemble_clf.fit(x_train, y_train)\n",
    "\n",
    "# 정확도를 확인해봅니다.\n",
    "print('ensemble acc : {:.2f}%'.format(ensemble_clf.score(x_test, y_test)*100))"
   ]
  },
  {
   "cell_type": "markdown",
   "metadata": {},
   "source": [
    "기존의 단일 모델의 가장 높은 정확도는 96.61%였지만, 3개의 모델을 앙상블한 모델의 정확도는 98.31%가 나왔습니다."
   ]
  },
  {
   "cell_type": "markdown",
   "metadata": {},
   "source": [
    "### Reference\n",
    "\n",
    "- CrossValidation : https://3months.tistory.com/321"
   ]
  },
  {
   "cell_type": "code",
   "execution_count": null,
   "metadata": {},
   "outputs": [],
   "source": []
  }
 ],
 "metadata": {
  "kernelspec": {
   "display_name": "samsung",
   "language": "python",
   "name": "samsung"
  },
  "language_info": {
   "codemirror_mode": {
    "name": "ipython",
    "version": 3
   },
   "file_extension": ".py",
   "mimetype": "text/x-python",
   "name": "python",
   "nbconvert_exporter": "python",
   "pygments_lexer": "ipython3",
   "version": "3.6.7"
  }
 },
 "nbformat": 4,
 "nbformat_minor": 2
}
