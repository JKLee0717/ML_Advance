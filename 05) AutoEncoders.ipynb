{
 "cells": [
  {
   "cell_type": "markdown",
   "metadata": {},
   "source": [
    "Lab03\n",
    "====="
   ]
  },
  {
   "cell_type": "markdown",
   "metadata": {},
   "source": [
    "###  Context\n",
    "#### AutoEncoders\n",
    "   + AutoEncoder\n",
    "   + Denoise AutoEncoder\n",
    "   + Variational AutoEncoder"
   ]
  },
  {
   "cell_type": "markdown",
   "metadata": {},
   "source": [
    "## AutoEncoder\n",
    "AutoEncoder는 입력과 똑같은 출력을 만들어 내도록 하는 Neural Network의 일종입니다.<br>\n",
    "데이터를 압축하여 Latent 벡터를 생성하는 Encoder 부분과 Latent 벡터를 가지고 기존의 데이터를 복원하는 Decoder 로 구성되어 있습니다.<br>\n",
    "여기서 한가지 가정은 AutoEncoder가 생성하는 Latent 벡터는 입력 데이터를 아주 잘 표현하는 벡터이며, 해당 벡터를 복원했을 때 기존의 데이터가 출력 된다는 점 입니다.<br>\n",
    "이러한 가정으로인해 우리가 AutoEncoder를 차원 축소 기법으로 사용할 수 있습니다. \n",
    "\n",
    "![AudoEncoder](./Images/AutoEncoder.png)\n",
    "\n",
    "### 우리가 만들어볼 AutoEncoder는?\n",
    "AutoEncoder에서 높은 차원의 입력이 낮은 차원의 각 층을 통과할 때 마다 입력 데이터는 정보를 손실하게 됩니다.<br>\n",
    "여기에서 낮은 차원으로 내려갈 때 차원이 급격하게 감소하면 정보의 손실은 더욱 심해지게 됩니다.<br>\n",
    "그래서 이번 실습에서는 입력 데이터의 정보를 덜 손실하면서 잘 복원하는 Stacked AutoEncoder 모델을 만들어 보도록 하겠습니다.<br>\n",
    "\n"
   ]
  },
  {
   "cell_type": "code",
   "execution_count": 1,
   "metadata": {},
   "outputs": [
    {
     "name": "stderr",
     "output_type": "stream",
     "text": [
      "Using TensorFlow backend.\n"
     ]
    }
   ],
   "source": [
    "from os.path import join\n",
    "\n",
    "import numpy as np\n",
    "import pandas as pd\n",
    "from sklearn.model_selection import train_test_split\n",
    "from scipy import stats\n",
    "\n",
    "import tensorflow as tf\n",
    "import keras\n",
    "from keras import layers, models, Input, metrics\n",
    "from keras.utils import to_categorical\n",
    "from keras.backend import tensorflow_backend as K\n",
    "\n",
    "import matplotlib.pyplot as plt\n",
    "import seaborn as sbn\n",
    "\n",
    "datapath = join('data','MNIST')\n",
    "\n",
    "# 케라스 백 엔드인 텐서플로우의 세션 설정을 불러옵니다.\n",
    "from keras.backend.tensorflow_backend import set_session\n",
    "\n",
    "# 텐서플로우의 ConfigProto() 객체에 학습시 적용할 옵션들을 명시적으로 설정할 수 있습니다.\n",
    "config = tf.ConfigProto()\n",
    "# GPU 옵션으로 allow_grouth를 True로 설정합니다.\n",
    "config.gpu_options.allow_growth = True \n",
    "\n",
    "# 텐서플로우는 세션이라는 실행 단위를 가지고 있는데, 해당 세션에 적용할 옵션을 담고있는 Config객체를 전달합니다.\n",
    "sess = tf.Session(config=config)\n",
    "# 설정한 세션을 현재 프로세스에 적용합니다.\n",
    "set_session(sess)  "
   ]
  },
  {
   "cell_type": "markdown",
   "metadata": {},
   "source": [
    "## 1. 데이터 살펴보기\n",
    "이번에 사용할 데이터는 손글씨 데이터로 유명한 MNIST 데이터 입니다.<br>\n",
    "MNIST(Modified National Institute of Standards and Technology database)는 손으로 쓴 숫자들로 이루어진 대형 데이터셋 입니다.<br>\n",
    "일반적으로 다양한 영상 처리 시스템을 트레이닝하기 위해 사용됩니다. 또한, 기계 학습 분야의 학습 및 검증에 널리 사용됩니다. <br>\n",
    "MNIST 데이터셋은 28x28 픽셀의 흑백(Gray scale) 이미지입니다.<br>\n",
    "\n",
    "![MNIST](./Images/MNIST.png)\n",
    "\n",
    "data 디렉토리에 준비된 데이터와 라벨을 가져옵니다.<br>"
   ]
  },
  {
   "cell_type": "code",
   "execution_count": 2,
   "metadata": {},
   "outputs": [],
   "source": [
    "x = np.load(join(datapath, 'MNIST.npy'))\n",
    "y = np.load(join(datapath, 'Label.npy'))"
   ]
  },
  {
   "cell_type": "code",
   "execution_count": 3,
   "metadata": {},
   "outputs": [
    {
     "data": {
      "text/plain": [
       "<matplotlib.image.AxesImage at 0x7f12eea2bfd0>"
      ]
     },
     "execution_count": 3,
     "metadata": {},
     "output_type": "execute_result"
    },
    {
     "data": {
      "image/png": "[encoded data removed]",
      "text/plain": [
       "<Figure size 432x288 with 1 Axes>"
      ]
     },
     "metadata": {
      "needs_background": "light"
     },
     "output_type": "display_data"
    }
   ],
   "source": [
    "plt.imshow(x[0])"
   ]
  },
  {
   "cell_type": "code",
   "execution_count": 4,
   "metadata": {},
   "outputs": [
    {
     "data": {
      "text/plain": [
       "5"
      ]
     },
     "execution_count": 4,
     "metadata": {},
     "output_type": "execute_result"
    }
   ],
   "source": [
    "y[0]"
   ]
  },
  {
   "cell_type": "code",
   "execution_count": 5,
   "metadata": {},
   "outputs": [
    {
     "data": {
      "text/plain": [
       "(28, 28)"
      ]
     },
     "execution_count": 5,
     "metadata": {},
     "output_type": "execute_result"
    }
   ],
   "source": [
    "x[0].shape"
   ]
  },
  {
   "cell_type": "markdown",
   "metadata": {},
   "source": [
    "간단한 전처리로 값의 범위를 0~1사이의 값으로 변경시켜줍니다"
   ]
  },
  {
   "cell_type": "code",
   "execution_count": 6,
   "metadata": {},
   "outputs": [],
   "source": [
    "x = x.reshape((-1, 28, 28, 1))/255"
   ]
  },
  {
   "cell_type": "markdown",
   "metadata": {},
   "source": [
    "## 3-1. Keras로 Stacked AutoEncoder 만들어보기\n",
    "이전에는 AutoEncoder를 1차원의 데이터로 바꾼 후, Dense layer로 만들었지만, <br>\n",
    "이번에는 이미지의 형태를 바꾸지 않고 Convolution layer를 사용해 AutoEncoder를 만들어보겠습니다.<br>\n",
    "먼저 이론 수업에서 보았던 Stacked AutoEncoder 모델입니다.\n",
    "\n",
    "![AutoEncoder](./Images/Stacked_AutoEncoder.png)"
   ]
  },
  {
   "cell_type": "code",
   "execution_count": 7,
   "metadata": {},
   "outputs": [],
   "source": [
    "#parameter\n",
    "epoch=10\n",
    "batch_size=1024"
   ]
  },
  {
   "cell_type": "code",
   "execution_count": 8,
   "metadata": {},
   "outputs": [
    {
     "name": "stdout",
     "output_type": "stream",
     "text": [
      "WARNING:tensorflow:From /home/kyle/samsung/lib/python3.6/site-packages/tensorflow/python/framework/op_def_library.py:263: colocate_with (from tensorflow.python.framework.ops) is deprecated and will be removed in a future version.\n",
      "Instructions for updating:\n",
      "Colocations handled automatically by placer.\n"
     ]
    }
   ],
   "source": [
    "# Inputs\n",
    "input_shape = (28, 28, 1)\n",
    "input_tensor = Input(input_shape)\n",
    "\n",
    "# Encoder\n",
    "# Hidden 1\n",
    "conv_1 = layers.Conv2D(64, (3,3), padding='same', activation='relu')(input_tensor)\n",
    "pooling_1 = layers.MaxPool2D()(conv_1)\n",
    "\n",
    "# Hidden 2\n",
    "latent_vector = pooling_1\n",
    "\n",
    "# Decoder\n",
    "# Hidden 3\n",
    "deconv_2 = layers.Conv2DTranspose(64, (3,3), padding='same', activation='relu')(latent_vector)\n",
    "upsample_3 = layers.UpSampling2D()(deconv_2)\n",
    "\n",
    "# Outputs\n",
    "output_tensor = layers.Conv2DTranspose(1, (3,3), padding='same', activation='sigmoid')(upsample_3)\n",
    "\n",
    "ae = models.Model(input_tensor, output_tensor)\n",
    "\n",
    "ae.compile(optimizer = 'Adam',\n",
    "              loss = 'mse',\n",
    "             )"
   ]
  },
  {
   "cell_type": "code",
   "execution_count": 9,
   "metadata": {},
   "outputs": [
    {
     "name": "stdout",
     "output_type": "stream",
     "text": [
      "_________________________________________________________________\n",
      "Layer (type)                 Output Shape              Param #   \n",
      "=================================================================\n",
      "input_1 (InputLayer)         (None, 28, 28, 1)         0         \n",
      "_________________________________________________________________\n",
      "conv2d_1 (Conv2D)            (None, 28, 28, 64)        640       \n",
      "_________________________________________________________________\n",
      "max_pooling2d_1 (MaxPooling2 (None, 14, 14, 64)        0         \n",
      "_________________________________________________________________\n",
      "conv2d_transpose_1 (Conv2DTr (None, 14, 14, 64)        36928     \n",
      "_________________________________________________________________\n",
      "up_sampling2d_1 (UpSampling2 (None, 28, 28, 64)        0         \n",
      "_________________________________________________________________\n",
      "conv2d_transpose_2 (Conv2DTr (None, 28, 28, 1)         577       \n",
      "=================================================================\n",
      "Total params: 38,145\n",
      "Trainable params: 38,145\n",
      "Non-trainable params: 0\n",
      "_________________________________________________________________\n"
     ]
    }
   ],
   "source": [
    "ae.summary()"
   ]
  },
  {
   "cell_type": "code",
   "execution_count": 10,
   "metadata": {},
   "outputs": [
    {
     "name": "stdout",
     "output_type": "stream",
     "text": [
      "WARNING:tensorflow:From /home/kyle/samsung/lib/python3.6/site-packages/tensorflow/python/ops/math_ops.py:3066: to_int32 (from tensorflow.python.ops.math_ops) is deprecated and will be removed in a future version.\n",
      "Instructions for updating:\n",
      "Use tf.cast instead.\n",
      "Epoch 1/10\n",
      " - 3s - loss: 0.0641\n",
      "Epoch 2/10\n",
      " - 2s - loss: 0.0041\n",
      "Epoch 3/10\n",
      " - 2s - loss: 0.0025\n",
      "Epoch 4/10\n",
      " - 2s - loss: 0.0019\n",
      "Epoch 5/10\n",
      " - 2s - loss: 0.0016\n",
      "Epoch 6/10\n",
      " - 2s - loss: 0.0014\n",
      "Epoch 7/10\n",
      " - 2s - loss: 0.0013\n",
      "Epoch 8/10\n",
      " - 2s - loss: 0.0012\n",
      "Epoch 9/10\n",
      " - 2s - loss: 0.0011\n",
      "Epoch 10/10\n",
      " - 2s - loss: 0.0011\n"
     ]
    },
    {
     "data": {
      "text/plain": [
       "<keras.callbacks.History at 0x7f12eea1e160>"
      ]
     },
     "execution_count": 10,
     "metadata": {},
     "output_type": "execute_result"
    }
   ],
   "source": [
    "ae.fit(x, x,\n",
    "       batch_size = batch_size,\n",
    "       epochs=epoch,\n",
    "       verbose=2)"
   ]
  },
  {
   "cell_type": "code",
   "execution_count": 11,
   "metadata": {},
   "outputs": [
    {
     "data": {
      "text/plain": [
       "<matplotlib.image.AxesImage at 0x7f12ec047cc0>"
      ]
     },
     "execution_count": 11,
     "metadata": {},
     "output_type": "execute_result"
    },
    {
     "data": {
      "image/png": "[encoded data removed]",
      "text/plain": [
       "<Figure size 432x288 with 1 Axes>"
      ]
     },
     "metadata": {
      "needs_background": "light"
     },
     "output_type": "display_data"
    }
   ],
   "source": [
    "# 원본 데이터 확인\n",
    "plt.imshow(x[4].reshape(28,28))"
   ]
  },
  {
   "cell_type": "code",
   "execution_count": 12,
   "metadata": {},
   "outputs": [
    {
     "data": {
      "text/plain": [
       "<matplotlib.image.AxesImage at 0x7f12e477b9b0>"
      ]
     },
     "execution_count": 12,
     "metadata": {},
     "output_type": "execute_result"
    },
    {
     "data": {
      "image/png": "[encoded data removed]",
      "text/plain": [
       "<Figure size 432x288 with 1 Axes>"
      ]
     },
     "metadata": {
      "needs_background": "light"
     },
     "output_type": "display_data"
    }
   ],
   "source": [
    "# 복원된 데이터 확인\n",
    "decoded_img = ae.predict(x[4].reshape(1,28,28,1))\n",
    "decoded_img = decoded_img.reshape(28,28)\n",
    "\n",
    "plt.imshow(decoded_img)"
   ]
  },
  {
   "cell_type": "markdown",
   "metadata": {},
   "source": [
    "\n",
    "## 3-2 Denoise AutoEncoder\n",
    "Denoise AutoEncoder는 AutoEncoder의 노이즈를 제거하는 특성을 더욱 강화하기 위한 모델입니다.<br>\n",
    "적당한 예로, 목공예를 배우고자 하는 학생이 품질이 좋지 않은 나무로 연습을 하다보면 조각 한번 한번에 주의를 기울이게되고, 세심하게 작업을 하게됩니다.<br>\n",
    "그런 학생이 품질이 좋은 나무로 이전과 똑같은 작업을 하게 한다면 이전의 경험을 통해 더욱 좋은 작품을 만들 수 있게 됩니다.<br>\n",
    "Denoise AutoEncoder의 원리는 이와 비슷합니다. 모델에 넣을 입력에 노이즈를 추가하여 모델이 입력 데이터의 필수적인 부분을 확실하게 추출하도록 유도합니다.<br><br>\n",
    "논문에서는 기존의 실선에 존재하던 x에 노이즈를 추가해 실선 밖으로 보낸 후 모델을 통해 다시 실선 근처로 가져오는 것으로 설명하고 있습니다.\n",
    "<img src=\"./Images/Denoise_AutoEncoder_2.png\" style='height:300px' />\n",
    "\n",
    "### Gaussian Noise\n",
    "입력에 노이즈를 추가하는 첫 번째 방법으로 Gaussian Noise라 불리는 정규 분포에서 추출한 노이즈를 추가하는 방법입니다.\n",
    "\n",
    "### Dropout Noise\n",
    "두 번째 방법으로는 Dropout Noise로 몇몇 픽셀을 0으로 설정하여 제거하는 방법입니다. \n"
   ]
  },
  {
   "cell_type": "markdown",
   "metadata": {},
   "source": [
    "## Denoise AutoEncoder 실습하기\n",
    "이론 수업에서 보았던 Denoise AutoEncoder 모델을 구현해보겠습니다. Denoise AutoEncoder는 Gaussian noise, Dropout noise 2가지 방식이 있었습니다. <br>\n",
    "Gaussian noise와, Dropout Layer는 제공해드릴테니 나머지 부분을 직접 작성해보세요!\n",
    "\n",
    "![Denoise AutoEncoder](./Images/Denoise_AutoEncoder.png)\n",
    "### Gaussian Denoise AutoEncoder"
   ]
  },
  {
   "cell_type": "code",
   "execution_count": 13,
   "metadata": {},
   "outputs": [],
   "source": [
    "# noise 추가 함수\n",
    "def denoise_gaussian(input_tensor):\n",
    "    noise = K.random_normal(shape=tf.shape(input_tensor),\n",
    "                              mean=0., stddev=1.0)\n",
    "    # mean + stddev\n",
    "    return input_tensor + noise"
   ]
  },
  {
   "cell_type": "code",
   "execution_count": 14,
   "metadata": {},
   "outputs": [],
   "source": [
    "# Inputs\n",
    "input_shape = (28, 28, 1)\n",
    "input_tensor = Input(input_shape)\n",
    "\n",
    "# 들어온 Input에 정규분포를 가진 노이즈를 추가해줍니다\n",
    "noise_layer = layers.Lambda(denoise_gaussian)(input_tensor)\n",
    "\n",
    "# Encoder\n",
    "# Hidden 1\n",
    "conv_1 = layers.Conv2D(128, (3,3), padding='same', activation='relu')(noise_layer)\n",
    "pooling_1 = layers.MaxPool2D()(conv_1)\n",
    "\n",
    "# letent vector\n",
    "# Hidden 2\n",
    "latent_vector = pooling_1\n",
    "\n",
    "# Decoder\n",
    "# Hidden 3\n",
    "deconv_2 = layers.Conv2DTranspose(128, (3,3), padding='same', activation='relu')(latent_vector)\n",
    "upsample_3 = layers.UpSampling2D()(deconv_2)\n",
    "\n",
    "# Outputs\n",
    "output_tensor = layers.Conv2DTranspose(1, (3,3), padding='same', activation='sigmoid')(upsample_3)\n",
    "\n",
    "dae_1 = models.Model(input_tensor, output_tensor)\n",
    "\n",
    "dae_1.compile(optimizer = 'Adam',\n",
    "              loss = 'mse',\n",
    "\n",
    "             )"
   ]
  },
  {
   "cell_type": "code",
   "execution_count": 15,
   "metadata": {},
   "outputs": [
    {
     "name": "stdout",
     "output_type": "stream",
     "text": [
      "_________________________________________________________________\n",
      "Layer (type)                 Output Shape              Param #   \n",
      "=================================================================\n",
      "input_2 (InputLayer)         (None, 28, 28, 1)         0         \n",
      "_________________________________________________________________\n",
      "lambda_1 (Lambda)            (None, 28, 28, 1)         0         \n",
      "_________________________________________________________________\n",
      "conv2d_2 (Conv2D)            (None, 28, 28, 128)       1280      \n",
      "_________________________________________________________________\n",
      "max_pooling2d_2 (MaxPooling2 (None, 14, 14, 128)       0         \n",
      "_________________________________________________________________\n",
      "conv2d_transpose_3 (Conv2DTr (None, 14, 14, 128)       147584    \n",
      "_________________________________________________________________\n",
      "up_sampling2d_2 (UpSampling2 (None, 28, 28, 128)       0         \n",
      "_________________________________________________________________\n",
      "conv2d_transpose_4 (Conv2DTr (None, 28, 28, 1)         1153      \n",
      "=================================================================\n",
      "Total params: 150,017\n",
      "Trainable params: 150,017\n",
      "Non-trainable params: 0\n",
      "_________________________________________________________________\n"
     ]
    }
   ],
   "source": [
    "dae_1.summary()"
   ]
  },
  {
   "cell_type": "code",
   "execution_count": 16,
   "metadata": {},
   "outputs": [
    {
     "name": "stdout",
     "output_type": "stream",
     "text": [
      "Epoch 1/10\n",
      " - 5s - loss: 0.1147\n",
      "Epoch 2/10\n",
      " - 3s - loss: 0.0607\n",
      "Epoch 3/10\n",
      " - 3s - loss: 0.0427\n",
      "Epoch 4/10\n",
      " - 3s - loss: 0.0389\n",
      "Epoch 5/10\n",
      " - 3s - loss: 0.0371\n",
      "Epoch 6/10\n",
      " - 3s - loss: 0.0363\n",
      "Epoch 7/10\n",
      " - 3s - loss: 0.0358\n",
      "Epoch 8/10\n",
      " - 3s - loss: 0.0355\n",
      "Epoch 9/10\n",
      " - 3s - loss: 0.0352\n",
      "Epoch 10/10\n",
      " - 3s - loss: 0.0350\n"
     ]
    },
    {
     "data": {
      "text/plain": [
       "<keras.callbacks.History at 0x7f12e473ad68>"
      ]
     },
     "execution_count": 16,
     "metadata": {},
     "output_type": "execute_result"
    }
   ],
   "source": [
    "dae_1.fit(x, x,\n",
    "         batch_size = batch_size,\n",
    "         epochs=epoch,\n",
    "         verbose=2)"
   ]
  },
  {
   "cell_type": "code",
   "execution_count": 17,
   "metadata": {
    "scrolled": true
   },
   "outputs": [
    {
     "data": {
      "text/plain": [
       "<matplotlib.image.AxesImage at 0x7f12e4251630>"
      ]
     },
     "execution_count": 17,
     "metadata": {},
     "output_type": "execute_result"
    },
    {
     "data": {
      "image/png": "[encoded data removed]",
      "text/plain": [
       "<Figure size 432x288 with 1 Axes>"
      ]
     },
     "metadata": {
      "needs_background": "light"
     },
     "output_type": "display_data"
    }
   ],
   "source": [
    "# 원본 데이터 확인\n",
    "plt.imshow(x[2].reshape(28,28))"
   ]
  },
  {
   "cell_type": "code",
   "execution_count": 18,
   "metadata": {},
   "outputs": [
    {
     "data": {
      "text/plain": [
       "<matplotlib.image.AxesImage at 0x7f12e422ddd8>"
      ]
     },
     "execution_count": 18,
     "metadata": {},
     "output_type": "execute_result"
    },
    {
     "data": {
      "image/png": "[encoded data removed]",
      "text/plain": [
       "<Figure size 432x288 with 1 Axes>"
      ]
     },
     "metadata": {
      "needs_background": "light"
     },
     "output_type": "display_data"
    }
   ],
   "source": [
    "# 복원된 데이터 확인\n",
    "decoded_img = dae_1.predict(x[2].reshape(1,28,28,1))\n",
    "decoded_img = decoded_img.reshape(28,28)\n",
    "\n",
    "plt.imshow(decoded_img)"
   ]
  },
  {
   "cell_type": "markdown",
   "metadata": {},
   "source": [
    "### Dropout Denoise AutoEncoder"
   ]
  },
  {
   "cell_type": "code",
   "execution_count": 19,
   "metadata": {},
   "outputs": [
    {
     "name": "stdout",
     "output_type": "stream",
     "text": [
      "WARNING:tensorflow:From /home/kyle/samsung/lib/python3.6/site-packages/keras/backend/tensorflow_backend.py:3363: calling dropout (from tensorflow.python.ops.nn_ops) with keep_prob is deprecated and will be removed in a future version.\n",
      "Instructions for updating:\n",
      "Please use `rate` instead of `keep_prob`. Rate should be set to `rate = 1 - keep_prob`.\n"
     ]
    }
   ],
   "source": [
    "# Inputs\n",
    "input_shape = (28, 28, 1)\n",
    "input_tensor = Input(input_shape)\n",
    "\n",
    "noise_layer = layers.Dropout(0.3)(input_tensor)\n",
    "\n",
    "# Encoder\n",
    "# Hidden 1\n",
    "conv_1 = layers.Conv2D(64, (3,3), padding='same', activation='relu')(noise_layer)\n",
    "pooling_1 = layers.MaxPool2D()(conv_1)\n",
    "\n",
    "# letent vector\n",
    "# Hidden 2\n",
    "latent_vector = pooling_1\n",
    "\n",
    "# Decoder\n",
    "# Hidden 3\n",
    "deconv_2 = layers.Conv2DTranspose(64, (3,3), padding='same', activation='relu')(latent_vector)\n",
    "upsample_3 = layers.UpSampling2D()(deconv_2)\n",
    "\n",
    "# Outputs\n",
    "output_tensor = layers.Conv2DTranspose(1, (3,3), padding='same', activation='sigmoid')(upsample_3)\n",
    "\n",
    "dae_2 = models.Model(input_tensor, output_tensor)\n",
    "\n",
    "dae_2.compile(optimizer = 'Adam',\n",
    "              loss = 'mse',\n",
    "             )"
   ]
  },
  {
   "cell_type": "code",
   "execution_count": 20,
   "metadata": {},
   "outputs": [
    {
     "name": "stdout",
     "output_type": "stream",
     "text": [
      "_________________________________________________________________\n",
      "Layer (type)                 Output Shape              Param #   \n",
      "=================================================================\n",
      "input_3 (InputLayer)         (None, 28, 28, 1)         0         \n",
      "_________________________________________________________________\n",
      "dropout_1 (Dropout)          (None, 28, 28, 1)         0         \n",
      "_________________________________________________________________\n",
      "conv2d_3 (Conv2D)            (None, 28, 28, 64)        640       \n",
      "_________________________________________________________________\n",
      "max_pooling2d_3 (MaxPooling2 (None, 14, 14, 64)        0         \n",
      "_________________________________________________________________\n",
      "conv2d_transpose_5 (Conv2DTr (None, 14, 14, 64)        36928     \n",
      "_________________________________________________________________\n",
      "up_sampling2d_3 (UpSampling2 (None, 28, 28, 64)        0         \n",
      "_________________________________________________________________\n",
      "conv2d_transpose_6 (Conv2DTr (None, 28, 28, 1)         577       \n",
      "=================================================================\n",
      "Total params: 38,145\n",
      "Trainable params: 38,145\n",
      "Non-trainable params: 0\n",
      "_________________________________________________________________\n"
     ]
    }
   ],
   "source": [
    "dae_2.summary()"
   ]
  },
  {
   "cell_type": "code",
   "execution_count": 21,
   "metadata": {},
   "outputs": [
    {
     "name": "stdout",
     "output_type": "stream",
     "text": [
      "Epoch 1/10\n",
      " - 2s - loss: 0.0665\n",
      "Epoch 2/10\n",
      " - 2s - loss: 0.0085\n",
      "Epoch 3/10\n",
      " - 2s - loss: 0.0066\n",
      "Epoch 4/10\n",
      " - 2s - loss: 0.0058\n",
      "Epoch 5/10\n",
      " - 2s - loss: 0.0053\n",
      "Epoch 6/10\n",
      " - 2s - loss: 0.0050\n",
      "Epoch 7/10\n",
      " - 2s - loss: 0.0047\n",
      "Epoch 8/10\n",
      " - 2s - loss: 0.0045\n",
      "Epoch 9/10\n",
      " - 2s - loss: 0.0043\n",
      "Epoch 10/10\n",
      " - 2s - loss: 0.0042\n"
     ]
    },
    {
     "data": {
      "text/plain": [
       "<keras.callbacks.History at 0x7f12e41f1d68>"
      ]
     },
     "execution_count": 21,
     "metadata": {},
     "output_type": "execute_result"
    }
   ],
   "source": [
    "dae_2.fit(x, x,\n",
    "         batch_size = batch_size,\n",
    "         epochs=epoch,\n",
    "         verbose=2)"
   ]
  },
  {
   "cell_type": "code",
   "execution_count": 22,
   "metadata": {},
   "outputs": [],
   "source": [
    "decoded_img = dae_2.predict(x[13].reshape(1,28,28,1))\n",
    "decoded_img = decoded_img.reshape(28,28)"
   ]
  },
  {
   "cell_type": "code",
   "execution_count": 23,
   "metadata": {},
   "outputs": [
    {
     "data": {
      "text/plain": [
       "<matplotlib.image.AxesImage at 0x7f12dc448c88>"
      ]
     },
     "execution_count": 23,
     "metadata": {},
     "output_type": "execute_result"
    },
    {
     "data": {
      "image/png": "[encoded data removed]",
      "text/plain": [
       "<Figure size 432x288 with 1 Axes>"
      ]
     },
     "metadata": {
      "needs_background": "light"
     },
     "output_type": "display_data"
    }
   ],
   "source": [
    "plt.imshow(x[13].reshape(28,28))"
   ]
  },
  {
   "cell_type": "code",
   "execution_count": 24,
   "metadata": {},
   "outputs": [
    {
     "data": {
      "text/plain": [
       "<matplotlib.image.AxesImage at 0x7f12dc425eb8>"
      ]
     },
     "execution_count": 24,
     "metadata": {},
     "output_type": "execute_result"
    },
    {
     "data": {
      "image/png": "[encoded data removed]",
      "text/plain": [
       "<Figure size 432x288 with 1 Axes>"
      ]
     },
     "metadata": {
      "needs_background": "light"
     },
     "output_type": "display_data"
    }
   ],
   "source": [
    "plt.imshow(decoded_img)"
   ]
  },
  {
   "cell_type": "markdown",
   "metadata": {},
   "source": [
    "\n",
    "## 3-3 Variational AutoEncoder\n",
    "Variational AutoEncoder(VAE)는 Latent 벡터의 확률 분포까지 생각하는 AutoEncoder의 한 종류입니다. <br>\n",
    "하지만, 실제 입력 데이터를 완벽하게 표현하는 Latent 벡터의 확률 분포는 찾을 수 없습니다<br>\n",
    "때문에 실제 확률 분포와 유사하는 분포를 만드는 것을 목적으로 합니다.<br> \n",
    "![Variational AutoEncoder](./Images/Variational_AutoEncoder.png)\n",
    "\n",
    "### 근사하는 확률 분포를 만들기 위한 The reparameterization trick\n",
    "근사하는 확률 분포를 만들기 위해서는 확률 분포에서 샘플을 추출하는 과정이 필요합니다.<br>\n",
    "하지만, 샘플링 하는 과정은 미분을 할 수 없기 때문에 약간의 Trick을 사용합니다. <br>\n",
    "Latent Vector를 샘플링을 해서 decoder의 입력으로 사용하는 것이 아니라, <br>표준 정규 분포에서 샘플링된 데이터에 표준편차를 곱하고 평균을 더해 수학적으로 동일하게 처리합니다.\n",
    "\n",
    "<img src=\"./Images/The_reparameterization_trick.png\" style='height:300px' />\n",
    "\n",
    "\n",
    "### Kullback-Leibler divergence\n",
    "두 확률 분포의 차이를 최소화하기 위해 사용하는 측정 방식으로 두 확률 분포의 거리와 **비슷한 개념**입니다. <br>\n",
    "항상 양수이며, 같은 확률 분포일 때 0 값을 갖습니다.<br>\n",
    "여기에서 주의할 점은 비슷한 개념이라고 한 이유는 수식에서 두 확률 분포의 위치를 바꿀 경우 동일한 값이 나오지 않기 때문입니다. <br><br>\n",
    "$$ L(\\theta, \\phi, x) = -D_{KL}(q_\\phi(z|x)||p_\\theta(z))\\ +\\ E_{q_\\phi(z|x)}[logp_\\theta(x|z)]$$ \n",
    "\n",
    "<img src=\"./Images/KLD.png\" style='height:300px' />\n",
    "\n",
    "이론적인 내용은 지금까지 배운 이론 중에 가장 복잡하기 때문에 실습 수업에서는 자세히 다루지 않겠습니다. <br>\n",
    "자세한 내용에 대해 궁금하신분들께서는 레퍼런스로 논문 리뷰 영상 링크 달아드렸으니 확인해보시면 좋겠습니다."
   ]
  },
  {
   "cell_type": "markdown",
   "metadata": {},
   "source": [
    "## Variational AutoEncoder 실습하기\n",
    "이번에는 latent vector가 mean, steddev를 가진 정규분포를 띤다는 Variational AutoEncoder에 대해 실습을 진행해보겠습니다.<br>\n",
    "이번에는 Dense layer를 사용해 네트워크를 만들어보겠습니다.<br>\n"
   ]
  },
  {
   "cell_type": "markdown",
   "metadata": {},
   "source": [
    "28*28 이미지를 784 벡터로 펼칩니다."
   ]
  },
  {
   "cell_type": "code",
   "execution_count": 25,
   "metadata": {},
   "outputs": [],
   "source": [
    "original_size = np.size(x[0], axis=0) * np.size(x[0], axis=1)"
   ]
  },
  {
   "cell_type": "code",
   "execution_count": 26,
   "metadata": {},
   "outputs": [],
   "source": [
    "vx = x.reshape((-1, original_size))\n"
   ]
  },
  {
   "cell_type": "code",
   "execution_count": 27,
   "metadata": {},
   "outputs": [],
   "source": [
    "def sampling(args):\n",
    "    z_mean, z_log_var = args\n",
    "    epsilon = K.random_normal(shape=K.shape(z_mean), mean=0.,\n",
    "                              stddev=1.0)\n",
    "    return z_mean + K.exp(z_log_var / 2) * epsilon\n",
    "\n",
    "# 비용 함수를 만들어줍니다.\n",
    "def my_vae_loss(y_true, y_pred):\n",
    "    recon = original_size*keras.losses.binary_crossentropy(input_tensor, output_tensor)\n",
    "    kl_loss = - 0.5 * K.sum(1 + z_log_var - K.square(z_mean) - K.exp(z_log_var), axis=-1)\n",
    "    \n",
    "    return recon + kl_loss"
   ]
  },
  {
   "cell_type": "code",
   "execution_count": 28,
   "metadata": {
    "scrolled": false
   },
   "outputs": [],
   "source": [
    "latent_dim = 128\n",
    "# Inputs\n",
    "input_shape = (original_size, )\n",
    "input_tensor = Input(input_shape)\n",
    "\n",
    "# Encoder\n",
    "# Hidden 1\n",
    "dense_1 = layers.Dense(512, activation='relu')(input_tensor)\n",
    "dense_2 = layers.Dense(256, activation='relu')(dense_1)\n",
    "\n",
    "# letent vector\n",
    "# Hidden 2\n",
    "latent_vector= layers.Dense(latent_dim, activation='linear')(dense_2)\n",
    "z_mean= layers.Dense(latent_dim, activation='linear')(dense_2)\n",
    "z_log_var = layers.Dense(latent_dim, activation='linear')(dense_2)\n",
    "\n",
    "z = layers.Lambda(sampling, output_shape=(latent_dim, ))([z_mean, z_log_var])\n",
    "\n",
    "# Decoder\n",
    "# Hidden 3\n",
    "dense_5 = layers.Dense(256, activation='relu')(z)\n",
    "dense_6 = layers.Dense(512, activation='relu')(dense_5)\n",
    "\n",
    "# Outputs\n",
    "output_tensor = layers.Dense(original_size, activation='sigmoid')(dense_6)\n",
    "\n",
    "vae = models.Model(input_tensor, output_tensor)\n",
    "\n",
    "vae.compile(optimizer = 'Adam', loss=my_vae_loss)"
   ]
  },
  {
   "cell_type": "code",
   "execution_count": 29,
   "metadata": {},
   "outputs": [
    {
     "name": "stdout",
     "output_type": "stream",
     "text": [
      "__________________________________________________________________________________________________\n",
      "Layer (type)                    Output Shape         Param #     Connected to                     \n",
      "==================================================================================================\n",
      "input_4 (InputLayer)            (None, 784)          0                                            \n",
      "__________________________________________________________________________________________________\n",
      "dense_1 (Dense)                 (None, 512)          401920      input_4[0][0]                    \n",
      "__________________________________________________________________________________________________\n",
      "dense_2 (Dense)                 (None, 256)          131328      dense_1[0][0]                    \n",
      "__________________________________________________________________________________________________\n",
      "dense_4 (Dense)                 (None, 128)          32896       dense_2[0][0]                    \n",
      "__________________________________________________________________________________________________\n",
      "dense_5 (Dense)                 (None, 128)          32896       dense_2[0][0]                    \n",
      "__________________________________________________________________________________________________\n",
      "lambda_2 (Lambda)               (None, 128)          0           dense_4[0][0]                    \n",
      "                                                                 dense_5[0][0]                    \n",
      "__________________________________________________________________________________________________\n",
      "dense_6 (Dense)                 (None, 256)          33024       lambda_2[0][0]                   \n",
      "__________________________________________________________________________________________________\n",
      "dense_7 (Dense)                 (None, 512)          131584      dense_6[0][0]                    \n",
      "__________________________________________________________________________________________________\n",
      "dense_8 (Dense)                 (None, 784)          402192      dense_7[0][0]                    \n",
      "==================================================================================================\n",
      "Total params: 1,165,840\n",
      "Trainable params: 1,165,840\n",
      "Non-trainable params: 0\n",
      "__________________________________________________________________________________________________\n"
     ]
    }
   ],
   "source": [
    "vae.summary()"
   ]
  },
  {
   "cell_type": "code",
   "execution_count": 30,
   "metadata": {
    "scrolled": true
   },
   "outputs": [
    {
     "name": "stdout",
     "output_type": "stream",
     "text": [
      "Epoch 1/10\n",
      " - 1s - loss: 240.7988\n",
      "Epoch 2/10\n",
      " - 1s - loss: 194.9158\n",
      "Epoch 3/10\n",
      " - 1s - loss: 176.5527\n",
      "Epoch 4/10\n",
      " - 1s - loss: 158.4798\n",
      "Epoch 5/10\n",
      " - 1s - loss: 149.5013\n",
      "Epoch 6/10\n",
      " - 1s - loss: 142.8917\n",
      "Epoch 7/10\n",
      " - 1s - loss: 136.9079\n",
      "Epoch 8/10\n",
      " - 1s - loss: 131.5114\n",
      "Epoch 9/10\n",
      " - 1s - loss: 126.9418\n",
      "Epoch 10/10\n",
      " - 1s - loss: 123.0722\n"
     ]
    },
    {
     "data": {
      "text/plain": [
       "<keras.callbacks.History at 0x7f12e41caac8>"
      ]
     },
     "execution_count": 30,
     "metadata": {},
     "output_type": "execute_result"
    }
   ],
   "source": [
    "vae.fit(vx, vx,         \n",
    "        batch_size=batch_size,\n",
    "        epochs=epoch,\n",
    "        verbose = 2,\n",
    ")"
   ]
  },
  {
   "cell_type": "code",
   "execution_count": 31,
   "metadata": {},
   "outputs": [
    {
     "data": {
      "text/plain": [
       "<matplotlib.image.AxesImage at 0x7f12981a30f0>"
      ]
     },
     "execution_count": 31,
     "metadata": {},
     "output_type": "execute_result"
    },
    {
     "data": {
      "image/png": "[encoded data removed]",
      "text/plain": [
       "<Figure size 432x288 with 1 Axes>"
      ]
     },
     "metadata": {
      "needs_background": "light"
     },
     "output_type": "display_data"
    }
   ],
   "source": [
    "n=2\n",
    "# 원본 데이터 확인\n",
    "plt.imshow(x[n].reshape(28,28))"
   ]
  },
  {
   "cell_type": "code",
   "execution_count": 32,
   "metadata": {},
   "outputs": [
    {
     "data": {
      "text/plain": [
       "<matplotlib.image.AxesImage at 0x7f12981070b8>"
      ]
     },
     "execution_count": 32,
     "metadata": {},
     "output_type": "execute_result"
    },
    {
     "data": {
      "image/png": "[encoded data removed]",
      "text/plain": [
       "<Figure size 432x288 with 1 Axes>"
      ]
     },
     "metadata": {
      "needs_background": "light"
     },
     "output_type": "display_data"
    }
   ],
   "source": [
    "# 데이터를 모델에 넣고 복원시킵니다.\n",
    "decoded_img = vae.predict(x[n].reshape(1 ,original_size))\n",
    "decoded_img = decoded_img.reshape(28,28)\n",
    "\n",
    "# 복원된 데이터 확인\n",
    "plt.imshow(decoded_img)"
   ]
  },
  {
   "cell_type": "markdown",
   "metadata": {},
   "source": [
    "### Latent Vector와 z 추출하기"
   ]
  },
  {
   "cell_type": "markdown",
   "metadata": {},
   "source": [
    "입력한 값을 바탕으로 생성한 latent vector와 latent vector를 기반으로 샘플링한 z의 평균과 분포를 히스토그램으로 살펴보겠습니다<br>\n",
    "python package seaborn은 matplotlib를 기반으로 작동하는 시각화 패키지입니다<br>\n",
    "matplotlib보다 간편하게 사용할 수 있다는 장점이 있습니다\n",
    "\n"
   ]
  },
  {
   "cell_type": "markdown",
   "metadata": {},
   "source": [
    "MNIST data에 대한 VAE 모델은 이미 학습이 되어있습니다 <br>\n",
    "또한 케라스는 학습된 그래프의 일부분을 차용하여 새로운 네트워크를 구성 할 수 있습니다<br>\n",
    "따라서 기존 모델의 입력부분부터 압축된 부분까지를 generate_l이라는 변수로,<br>\n",
    "입력부분부터 샘플링이 끝난 부분까지를 generate_z라는 변수로, <br>\n",
    "모델을 만든 후 데이터를 넣어 값을 생성시켜보겠습니다<br><br>\n",
    "이후 해당 데이터의 첨도,왜도,중위수,평균을 뽑아 얼마나 비슷하게 생성되었는지 살펴보고 히스토그램으로 만들어보겠습니다<br>\n",
    "\n",
    "또한 이렇게 생성된 값은 Numeric values이기 때문에, 히스토그램을 적용하기에는 부적절합니다.<br>\n",
    "따라서 Discrete한 value로 바꾸기 위해 소수점 셋째자리에서 반올림처리하겠습니다"
   ]
  },
  {
   "cell_type": "code",
   "execution_count": 33,
   "metadata": {},
   "outputs": [
    {
     "name": "stdout",
     "output_type": "stream",
     "text": [
      "Latent Vector의 첨도 = 0.2643\n",
      "Latent Vector의 왜도 = -0.1612\n",
      "Latent Vector의 중위수 = 0.0980\n"
     ]
    },
    {
     "data": {
      "text/plain": [
       "<matplotlib.axes._subplots.AxesSubplot at 0x7f12980bd400>"
      ]
     },
     "execution_count": 33,
     "metadata": {},
     "output_type": "execute_result"
    },
    {
     "data": {
      "image/png": "[encoded data removed]",
      "text/plain": [
       "<Figure size 432x288 with 1 Axes>"
      ]
     },
     "metadata": {
      "needs_background": "light"
     },
     "output_type": "display_data"
    }
   ],
   "source": [
    "generate_l=models.Model(input_tensor,latent_vector)\n",
    "latent_values=generate_l.predict(vx).reshape(-1,)\n",
    "\n",
    "\n",
    "name='Latent Vector'\n",
    "print('%s의 첨도 = %.4f\\n%s의 왜도 = %.4f\\n%s의 중위수 = %.4f'%(name,stats.kurtosis(latent_values),\n",
    "                                                      name,stats.skew(latent_values),\n",
    "                                                     name,np.median(latent_values)))\n",
    "\n",
    "latent_values=np.round(latent_values,decimals=3)\n",
    "\n",
    "plt.figure(0)\n",
    "plt.title('about Latent Vector')\n",
    "sbn.kdeplot(latent_values)\n"
   ]
  },
  {
   "cell_type": "code",
   "execution_count": 34,
   "metadata": {},
   "outputs": [
    {
     "name": "stdout",
     "output_type": "stream",
     "text": [
      "Sampled Z Vector의 첨도 = -0.0042\n",
      "Sampled Z Vector의 왜도 = -0.0023\n",
      "Sampled Z Vector의 중위수 = -0.0041\n"
     ]
    },
    {
     "data": {
      "text/plain": [
       "<matplotlib.axes._subplots.AxesSubplot at 0x7f129803d6d8>"
      ]
     },
     "execution_count": 34,
     "metadata": {},
     "output_type": "execute_result"
    },
    {
     "data": {
      "image/png": "[encoded data removed]",
      "text/plain": [
       "<Figure size 432x288 with 1 Axes>"
      ]
     },
     "metadata": {
      "needs_background": "light"
     },
     "output_type": "display_data"
    }
   ],
   "source": [
    "generate_z=models.Model(input_tensor,z)\n",
    "z_values=generate_z.predict(vx).reshape(-1,)\n",
    "\n",
    "name='Sampled Z Vector'\n",
    "print('%s의 첨도 = %.4f\\n%s의 왜도 = %.4f\\n%s의 중위수 = %.4f'%(name,stats.kurtosis(z_values),\n",
    "                                                      name,stats.skew(z_values),\n",
    "                                                     name,np.median(z_values)))\n",
    "z_values=np.round(z_values,decimals=3)\n",
    "\n",
    "plt.figure(1)\n",
    "plt.title('about Z')\n",
    "sbn.kdeplot(z_values)"
   ]
  },
  {
   "cell_type": "markdown",
   "metadata": {},
   "source": [
    "## 4. 생성 모델로써의 AutoEncoder\n",
    "AutoEncoder는 생성 모델의 범주에 들어가므로 실제로 데이터를 생성할 수 있습니다.<br>\n",
    "이번 실습에서는 wafer 불량 데이터를 Encoding 해서 필수적인 차원만 남기고, <br>\n",
    "해당 차원에 노이즈를 섞어 비슷한 불량의 특성을 띤 데이터를 만들어보겠습니다.<br>\n",
    "이어서 VAE로 데이터를 만들어보고 두 방법에 대해 비교해보겠습니다"
   ]
  },
  {
   "cell_type": "markdown",
   "metadata": {},
   "source": [
    "먼저 데이터를 불러와 살펴보도록 하겠습니다"
   ]
  },
  {
   "cell_type": "code",
   "execution_count": 35,
   "metadata": {},
   "outputs": [],
   "source": [
    "# 준비된 wafer 데이터를 가져옵니다.\n",
    "x = np.load('./data/wafer/wafermap_(26,26).npy')"
   ]
  },
  {
   "cell_type": "code",
   "execution_count": 36,
   "metadata": {
    "scrolled": true
   },
   "outputs": [
    {
     "data": {
      "text/plain": [
       "(30078, 26, 26, 3)"
      ]
     },
     "execution_count": 36,
     "metadata": {},
     "output_type": "execute_result"
    }
   ],
   "source": [
    "# 데이터 형태를 살펴보겠습니다.\n",
    "x.shape"
   ]
  },
  {
   "cell_type": "code",
   "execution_count": 37,
   "metadata": {
    "scrolled": true
   },
   "outputs": [
    {
     "data": {
      "text/plain": [
       "array([1., 0., 0.])"
      ]
     },
     "execution_count": 37,
     "metadata": {},
     "output_type": "execute_result"
    }
   ],
   "source": [
    "x[3,17,0]"
   ]
  },
  {
   "cell_type": "code",
   "execution_count": 38,
   "metadata": {},
   "outputs": [
    {
     "data": {
      "text/plain": [
       "<matplotlib.image.AxesImage at 0x7f1290791ba8>"
      ]
     },
     "execution_count": 38,
     "metadata": {},
     "output_type": "execute_result"
    },
    {
     "data": {
      "image/png": "[encoded data removed]",
      "text/plain": [
       "<Figure size 432x288 with 1 Axes>"
      ]
     },
     "metadata": {
      "needs_background": "light"
     },
     "output_type": "display_data"
    }
   ],
   "source": [
    "plt.imshow(np.argmax(x[3], axis=2))"
   ]
  },
  {
   "cell_type": "code",
   "execution_count": 39,
   "metadata": {},
   "outputs": [],
   "source": [
    "# Encoder 부분\n",
    "input_shape = (26, 26, 3)\n",
    "input_tensor = Input(input_shape)\n",
    "encode = layers.Conv2D(64, (3,3), padding='same', activation='relu')(input_tensor)\n",
    "\n",
    "latent_vector = layers.MaxPool2D()(encode)\n",
    "\n",
    "# Decoder 부분, Decoder는 레이어에 바로 이전 값을 넣지 않고, Layer 자체로 변수로 저장합니다.\n",
    "decode_layer_1 = layers.Conv2DTranspose(64, (3,3), padding='same', activation='relu')\n",
    "decode_layer_2 = layers.UpSampling2D()\n",
    "output_tensor = layers.Conv2DTranspose(3, (3,3), padding='same', activation='relu')\n",
    "\n",
    "# 레이어로 저장한 Decoder Layer에 Latent vector 부터 순서대로 Decoding하며 연결합니다.\n",
    "decode = decode_layer_1(latent_vector)\n",
    "decode = decode_layer_2(decode)\n",
    "\n",
    "# AutoEncoder 모델 정의\n",
    "ae = models.Model(input_tensor, output_tensor(decode))\n",
    "\n",
    "# AutoEncoder 모델 생성(컴파일), 최적화기는 Adam, 비용 함수는 mse를 사용합니다.\n",
    "ae.compile(optimizer = 'Adam',\n",
    "              loss = 'mse',\n",
    "             )"
   ]
  },
  {
   "cell_type": "code",
   "execution_count": 40,
   "metadata": {},
   "outputs": [
    {
     "name": "stdout",
     "output_type": "stream",
     "text": [
      "_________________________________________________________________\n",
      "Layer (type)                 Output Shape              Param #   \n",
      "=================================================================\n",
      "input_5 (InputLayer)         (None, 26, 26, 3)         0         \n",
      "_________________________________________________________________\n",
      "conv2d_4 (Conv2D)            (None, 26, 26, 64)        1792      \n",
      "_________________________________________________________________\n",
      "max_pooling2d_4 (MaxPooling2 (None, 13, 13, 64)        0         \n",
      "_________________________________________________________________\n",
      "conv2d_transpose_7 (Conv2DTr (None, 13, 13, 64)        36928     \n",
      "_________________________________________________________________\n",
      "up_sampling2d_4 (UpSampling2 (None, 26, 26, 64)        0         \n",
      "_________________________________________________________________\n",
      "conv2d_transpose_8 (Conv2DTr (None, 26, 26, 3)         1731      \n",
      "=================================================================\n",
      "Total params: 40,451\n",
      "Trainable params: 40,451\n",
      "Non-trainable params: 0\n",
      "_________________________________________________________________\n"
     ]
    }
   ],
   "source": [
    "ae.summary()"
   ]
  },
  {
   "cell_type": "code",
   "execution_count": 41,
   "metadata": {
    "scrolled": true
   },
   "outputs": [
    {
     "name": "stdout",
     "output_type": "stream",
     "text": [
      "Epoch 1/10\n",
      " - 2s - loss: 0.1262\n",
      "Epoch 2/10\n",
      " - 1s - loss: 0.0576\n",
      "Epoch 3/10\n",
      " - 1s - loss: 0.0452\n",
      "Epoch 4/10\n",
      " - 1s - loss: 0.0358\n",
      "Epoch 5/10\n",
      " - 1s - loss: 0.0294\n",
      "Epoch 6/10\n",
      " - 1s - loss: 0.0253\n",
      "Epoch 7/10\n",
      " - 1s - loss: 0.0226\n",
      "Epoch 8/10\n",
      " - 1s - loss: 0.0204\n",
      "Epoch 9/10\n",
      " - 1s - loss: 0.0189\n",
      "Epoch 10/10\n",
      " - 1s - loss: 0.0174\n"
     ]
    },
    {
     "data": {
      "text/plain": [
       "<keras.callbacks.History at 0x7f1290742be0>"
      ]
     },
     "execution_count": 41,
     "metadata": {},
     "output_type": "execute_result"
    }
   ],
   "source": [
    "# AutoEncoder 모델 학습\n",
    "ae.fit(x, x,\n",
    "       batch_size=batch_size,\n",
    "       epochs=epoch,\n",
    "       verbose=2)"
   ]
  },
  {
   "cell_type": "code",
   "execution_count": 42,
   "metadata": {},
   "outputs": [],
   "source": [
    "# Encoder 모델 정의 *compile을 통해 모델을 생성하지 않는 이유는 이미 ae 모델에서 compile과 학습을 마쳤기 때문입니다.\n",
    "encoder = models.Model(input_tensor, latent_vector)"
   ]
  },
  {
   "cell_type": "code",
   "execution_count": 43,
   "metadata": {},
   "outputs": [],
   "source": [
    "# Decoder 모델\n",
    "decoder_input = Input((13, 13, 64))\n",
    "decode = decode_layer_1(decoder_input)\n",
    "decode = decode_layer_2(decode)\n",
    "# Decoder 모델 정의, *compile을 통해 모델을 생성하지 않는 이유는 이미 ae 모델에서 compile과 학습을 마쳤기 때문입니다.\n",
    "decoder = models.Model(decoder_input, output_tensor(decode))"
   ]
  },
  {
   "cell_type": "code",
   "execution_count": 44,
   "metadata": {},
   "outputs": [],
   "source": [
    "# 원본 불량 데이터 인코딩\n",
    "encoded_x = encoder.predict(x)"
   ]
  },
  {
   "cell_type": "code",
   "execution_count": 45,
   "metadata": {},
   "outputs": [],
   "source": [
    "# 원본 불량 데이터를 축소시켜 만든 Latent 데이터에 약간의 노이즈를 더해 새로운 데이터를 생성 합니다.\n",
    "# numpy.random.normal 함수는 loc=평균, scale=표준편차를 가진 정규 분포 노이즈를 생성합니다.\n",
    "noised_encoded_x = encoded_x + np.random.normal(loc=0, scale=0.5, size = (len(encoded_x), 13, 13, 64))"
   ]
  },
  {
   "cell_type": "code",
   "execution_count": 46,
   "metadata": {},
   "outputs": [
    {
     "data": {
      "text/plain": [
       "<matplotlib.image.AxesImage at 0x7f12901bffd0>"
      ]
     },
     "execution_count": 46,
     "metadata": {},
     "output_type": "execute_result"
    },
    {
     "data": {
      "image/png": "[encoded data removed]",
      "text/plain": [
       "<Figure size 432x288 with 1 Axes>"
      ]
     },
     "metadata": {
      "needs_background": "light"
     },
     "output_type": "display_data"
    }
   ],
   "source": [
    "# 원본 불량 데이터 확인\n",
    "plt.imshow(np.argmax(x[3], axis=2))"
   ]
  },
  {
   "cell_type": "code",
   "execution_count": 47,
   "metadata": {},
   "outputs": [
    {
     "data": {
      "text/plain": [
       "<matplotlib.image.AxesImage at 0x7f12901a5470>"
      ]
     },
     "execution_count": 47,
     "metadata": {},
     "output_type": "execute_result"
    },
    {
     "data": {
      "image/png": "[encoded data removed]",
      "text/plain": [
       "<Figure size 432x288 with 1 Axes>"
      ]
     },
     "metadata": {
      "needs_background": "light"
     },
     "output_type": "display_data"
    }
   ],
   "source": [
    "# 노이즈를 섞어 만든 불량 데이터 확인\n",
    "noised_gen_x = np.argmax(decoder.predict(noised_encoded_x), axis=3)\n",
    "plt.imshow(noised_gen_x[3])"
   ]
  },
  {
   "cell_type": "code",
   "execution_count": 48,
   "metadata": {
    "scrolled": true
   },
   "outputs": [
    {
     "data": {
      "text/plain": [
       "<matplotlib.image.AxesImage at 0x7f1290100898>"
      ]
     },
     "execution_count": 48,
     "metadata": {},
     "output_type": "execute_result"
    },
    {
     "data": {
      "image/png": "[encoded data removed]",
      "text/plain": [
       "<Figure size 432x288 with 1 Axes>"
      ]
     },
     "metadata": {
      "needs_background": "light"
     },
     "output_type": "display_data"
    }
   ],
   "source": [
    "# AutoEncoder가 복원시킨 원본 불량 데이터 확인\n",
    "gen_x = np.argmax(ae.predict(x), axis=3)\n",
    "plt.imshow(gen_x[3])"
   ]
  },
  {
   "cell_type": "markdown",
   "metadata": {},
   "source": [
    "### Reference\n",
    "- AutoEncoder : https://excelsior-cjh.tistory.com/187\n",
    "- Denoise AutoEncoder : http://blog.naver.com/PostView.nhn?blogId=laonple&logNo=220891144201&categoryNo=0&parentCategoryNo=0&viewDate=&currentPage=1&postListTopCurrentPage=1&from=postView\n",
    "- Variational AutoEncoder : http://jaejunyoo.blogspot.com/2017/05/auto-encoding-variational-bayes-vae-3.html\n",
    "- Variational AutoEncoder 논문 리뷰 영상 : https://www.youtube.com/watch?v=KYA-GEhObIs\n",
    "- Kullback–Leibler divergence : https://en.wikipedia.org/wiki/Kullback–Leibler_divergence"
   ]
  }
 ],
 "metadata": {
  "kernelspec": {
   "display_name": "samsung",
   "language": "python",
   "name": "samsung"
  },
  "language_info": {
   "codemirror_mode": {
    "name": "ipython",
    "version": 3
   },
   "file_extension": ".py",
   "mimetype": "text/x-python",
   "name": "python",
   "nbconvert_exporter": "python",
   "pygments_lexer": "ipython3",
   "version": "3.6.7"
  }
 },
 "nbformat": 4,
 "nbformat_minor": 2
}
